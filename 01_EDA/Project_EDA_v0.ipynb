{
 "cells": [
  {
   "cell_type": "code",
   "execution_count": 63,
   "id": "c6a3950c",
   "metadata": {},
   "outputs": [],
   "source": [
    "import pandas as pd\n",
    "import numpy as np\n",
    "import matplotlib.pyplot as plt\n",
    "import math\n",
    "import nltk\n",
    "import re\n",
    "from nltk.corpus import stopwords#, PlainTextCorpusReader\n",
    "from nltk import word_tokenize, ngrams\n",
    "from nltk.stem import WordNetLemmatizer\n",
    "from sklearn import preprocessing\n",
    "from sklearn.model_selection import train_test_split\n",
    "import seaborn as sns\n",
    "import torch\n",
    "from transformers import LlamaTokenizer\n",
    "from sentence_transformers import SentenceTransformer\n",
    "import warnings\n",
    "warnings.filterwarnings('ignore')"
   ]
  },
  {
   "cell_type": "code",
   "execution_count": 37,
   "id": "e808324d",
   "metadata": {
    "collapsed": true
   },
   "outputs": [
    {
     "name": "stdout",
     "output_type": "stream",
     "text": [
      "Collecting sentence_transformers\n",
      "  Downloading sentence_transformers-2.6.1-py3-none-any.whl (163 kB)\n",
      "     -------------------------------------- 163.3/163.3 kB 4.8 MB/s eta 0:00:00\n",
      "Requirement already satisfied: transformers<5.0.0,>=4.32.0 in c:\\users\\mehdi.sadeghi\\anaconda3\\lib\\site-packages (from sentence_transformers) (4.39.3)\n",
      "Requirement already satisfied: Pillow in c:\\users\\mehdi.sadeghi\\anaconda3\\lib\\site-packages (from sentence_transformers) (9.2.0)\n",
      "Requirement already satisfied: scikit-learn in c:\\users\\mehdi.sadeghi\\anaconda3\\lib\\site-packages (from sentence_transformers) (1.0.2)\n",
      "Requirement already satisfied: scipy in c:\\users\\mehdi.sadeghi\\anaconda3\\lib\\site-packages (from sentence_transformers) (1.9.1)\n",
      "Requirement already satisfied: huggingface-hub>=0.15.1 in c:\\users\\mehdi.sadeghi\\anaconda3\\lib\\site-packages (from sentence_transformers) (0.22.2)\n",
      "Requirement already satisfied: tqdm in c:\\users\\mehdi.sadeghi\\anaconda3\\lib\\site-packages (from sentence_transformers) (4.64.1)\n",
      "Requirement already satisfied: torch>=1.11.0 in c:\\users\\mehdi.sadeghi\\anaconda3\\lib\\site-packages (from sentence_transformers) (2.2.2)\n",
      "Requirement already satisfied: numpy in c:\\users\\mehdi.sadeghi\\anaconda3\\lib\\site-packages (from sentence_transformers) (1.21.5)\n",
      "Requirement already satisfied: typing-extensions>=3.7.4.3 in c:\\users\\mehdi.sadeghi\\anaconda3\\lib\\site-packages (from huggingface-hub>=0.15.1->sentence_transformers) (4.11.0)\n",
      "Requirement already satisfied: packaging>=20.9 in c:\\users\\mehdi.sadeghi\\anaconda3\\lib\\site-packages (from huggingface-hub>=0.15.1->sentence_transformers) (21.3)\n",
      "Requirement already satisfied: fsspec>=2023.5.0 in c:\\users\\mehdi.sadeghi\\anaconda3\\lib\\site-packages (from huggingface-hub>=0.15.1->sentence_transformers) (2024.3.1)\n",
      "Requirement already satisfied: pyyaml>=5.1 in c:\\users\\mehdi.sadeghi\\anaconda3\\lib\\site-packages (from huggingface-hub>=0.15.1->sentence_transformers) (6.0)\n",
      "Requirement already satisfied: requests in c:\\users\\mehdi.sadeghi\\anaconda3\\lib\\site-packages (from huggingface-hub>=0.15.1->sentence_transformers) (2.28.1)\n",
      "Requirement already satisfied: filelock in c:\\users\\mehdi.sadeghi\\anaconda3\\lib\\site-packages (from huggingface-hub>=0.15.1->sentence_transformers) (3.6.0)\n",
      "Requirement already satisfied: sympy in c:\\users\\mehdi.sadeghi\\anaconda3\\lib\\site-packages (from torch>=1.11.0->sentence_transformers) (1.10.1)\n",
      "Requirement already satisfied: networkx in c:\\users\\mehdi.sadeghi\\anaconda3\\lib\\site-packages (from torch>=1.11.0->sentence_transformers) (2.8.4)\n",
      "Requirement already satisfied: jinja2 in c:\\users\\mehdi.sadeghi\\anaconda3\\lib\\site-packages (from torch>=1.11.0->sentence_transformers) (2.11.3)\n",
      "Requirement already satisfied: colorama in c:\\users\\mehdi.sadeghi\\anaconda3\\lib\\site-packages (from tqdm->sentence_transformers) (0.4.5)\n",
      "Requirement already satisfied: safetensors>=0.4.1 in c:\\users\\mehdi.sadeghi\\anaconda3\\lib\\site-packages (from transformers<5.0.0,>=4.32.0->sentence_transformers) (0.4.2)\n",
      "Requirement already satisfied: tokenizers<0.19,>=0.14 in c:\\users\\mehdi.sadeghi\\anaconda3\\lib\\site-packages (from transformers<5.0.0,>=4.32.0->sentence_transformers) (0.15.2)\n",
      "Requirement already satisfied: regex!=2019.12.17 in c:\\users\\mehdi.sadeghi\\anaconda3\\lib\\site-packages (from transformers<5.0.0,>=4.32.0->sentence_transformers) (2022.7.9)\n",
      "Requirement already satisfied: threadpoolctl>=2.0.0 in c:\\users\\mehdi.sadeghi\\anaconda3\\lib\\site-packages (from scikit-learn->sentence_transformers) (2.2.0)\n",
      "Requirement already satisfied: joblib>=0.11 in c:\\users\\mehdi.sadeghi\\anaconda3\\lib\\site-packages (from scikit-learn->sentence_transformers) (1.1.0)\n",
      "Requirement already satisfied: pyparsing!=3.0.5,>=2.0.2 in c:\\users\\mehdi.sadeghi\\anaconda3\\lib\\site-packages (from packaging>=20.9->huggingface-hub>=0.15.1->sentence_transformers) (3.0.9)\n",
      "Requirement already satisfied: MarkupSafe>=0.23 in c:\\users\\mehdi.sadeghi\\anaconda3\\lib\\site-packages (from jinja2->torch>=1.11.0->sentence_transformers) (2.0.1)\n",
      "Requirement already satisfied: urllib3<1.27,>=1.21.1 in c:\\users\\mehdi.sadeghi\\anaconda3\\lib\\site-packages (from requests->huggingface-hub>=0.15.1->sentence_transformers) (1.26.11)\n",
      "Requirement already satisfied: idna<4,>=2.5 in c:\\users\\mehdi.sadeghi\\anaconda3\\lib\\site-packages (from requests->huggingface-hub>=0.15.1->sentence_transformers) (3.3)\n",
      "Requirement already satisfied: certifi>=2017.4.17 in c:\\users\\mehdi.sadeghi\\anaconda3\\lib\\site-packages (from requests->huggingface-hub>=0.15.1->sentence_transformers) (2022.9.14)\n",
      "Requirement already satisfied: charset-normalizer<3,>=2 in c:\\users\\mehdi.sadeghi\\anaconda3\\lib\\site-packages (from requests->huggingface-hub>=0.15.1->sentence_transformers) (2.0.4)\n",
      "Requirement already satisfied: mpmath>=0.19 in c:\\users\\mehdi.sadeghi\\anaconda3\\lib\\site-packages (from sympy->torch>=1.11.0->sentence_transformers) (1.2.1)\n",
      "Installing collected packages: sentence_transformers\n",
      "Successfully installed sentence_transformers-2.6.1\n"
     ]
    }
   ],
   "source": [
    "!pip install sentence_transformers"
   ]
  },
  {
   "cell_type": "code",
   "execution_count": 76,
   "id": "f01ca4f8",
   "metadata": {},
   "outputs": [],
   "source": [
    "raw_data=pd.read_csv('text.csv')"
   ]
  },
  {
   "cell_type": "raw",
   "id": "023c00aa",
   "metadata": {},
   "source": [
    "Each entry in this dataset consists of a text segment representing a Twitter message and a corresponding label indicating the predominant emotion conveyed. The emotions are classified into six categories: \n",
    "sadness (0), \n",
    "joy (1), \n",
    "love (2), \n",
    "anger (3), \n",
    "fear (4), \n",
    "surprise (5). Whether you're interested in sentiment analysis, emotion classification, or text mining, this dataset provides a rich foundation for exploring the nuanced emotional landscape within the realm of social media."
   ]
  },
  {
   "cell_type": "code",
   "execution_count": 83,
   "id": "cca041af",
   "metadata": {},
   "outputs": [],
   "source": [
    "class_to_emotion = {0: 'sadness', 1: 'joy', 2: 'love', 3: 'anger', 4: 'fear', 5: 'surprise'}\n",
    "raw_data['emotion'] = raw_data['label'].map(class_to_emotion)\n",
    "\n",
    "category_counts = raw_data['emotion'].value_counts()"
   ]
  },
  {
   "cell_type": "code",
   "execution_count": 84,
   "id": "de619324",
   "metadata": {},
   "outputs": [
    {
     "data": {
      "text/html": [
       "<div>\n",
       "<style scoped>\n",
       "    .dataframe tbody tr th:only-of-type {\n",
       "        vertical-align: middle;\n",
       "    }\n",
       "\n",
       "    .dataframe tbody tr th {\n",
       "        vertical-align: top;\n",
       "    }\n",
       "\n",
       "    .dataframe thead th {\n",
       "        text-align: right;\n",
       "    }\n",
       "</style>\n",
       "<table border=\"1\" class=\"dataframe\">\n",
       "  <thead>\n",
       "    <tr style=\"text-align: right;\">\n",
       "      <th></th>\n",
       "      <th>Unnamed: 0</th>\n",
       "      <th>text</th>\n",
       "      <th>label</th>\n",
       "      <th>emotion</th>\n",
       "    </tr>\n",
       "  </thead>\n",
       "  <tbody>\n",
       "    <tr>\n",
       "      <th>0</th>\n",
       "      <td>0</td>\n",
       "      <td>i just feel really helpless and heavy hearted</td>\n",
       "      <td>4</td>\n",
       "      <td>fear</td>\n",
       "    </tr>\n",
       "    <tr>\n",
       "      <th>1</th>\n",
       "      <td>1</td>\n",
       "      <td>ive enjoyed being able to slouch about relax a...</td>\n",
       "      <td>0</td>\n",
       "      <td>sadness</td>\n",
       "    </tr>\n",
       "    <tr>\n",
       "      <th>2</th>\n",
       "      <td>2</td>\n",
       "      <td>i gave up my internship with the dmrg and am f...</td>\n",
       "      <td>4</td>\n",
       "      <td>fear</td>\n",
       "    </tr>\n",
       "    <tr>\n",
       "      <th>3</th>\n",
       "      <td>3</td>\n",
       "      <td>i dont know i feel so lost</td>\n",
       "      <td>0</td>\n",
       "      <td>sadness</td>\n",
       "    </tr>\n",
       "    <tr>\n",
       "      <th>4</th>\n",
       "      <td>4</td>\n",
       "      <td>i am a kindergarten teacher and i am thoroughl...</td>\n",
       "      <td>4</td>\n",
       "      <td>fear</td>\n",
       "    </tr>\n",
       "    <tr>\n",
       "      <th>...</th>\n",
       "      <td>...</td>\n",
       "      <td>...</td>\n",
       "      <td>...</td>\n",
       "      <td>...</td>\n",
       "    </tr>\n",
       "    <tr>\n",
       "      <th>416804</th>\n",
       "      <td>416804</td>\n",
       "      <td>i feel like telling these horny devils to find...</td>\n",
       "      <td>2</td>\n",
       "      <td>love</td>\n",
       "    </tr>\n",
       "    <tr>\n",
       "      <th>416805</th>\n",
       "      <td>416805</td>\n",
       "      <td>i began to realize that when i was feeling agi...</td>\n",
       "      <td>3</td>\n",
       "      <td>anger</td>\n",
       "    </tr>\n",
       "    <tr>\n",
       "      <th>416806</th>\n",
       "      <td>416806</td>\n",
       "      <td>i feel very curious be why previous early dawn...</td>\n",
       "      <td>5</td>\n",
       "      <td>surprise</td>\n",
       "    </tr>\n",
       "    <tr>\n",
       "      <th>416807</th>\n",
       "      <td>416807</td>\n",
       "      <td>i feel that becuase of the tyranical nature of...</td>\n",
       "      <td>3</td>\n",
       "      <td>anger</td>\n",
       "    </tr>\n",
       "    <tr>\n",
       "      <th>416808</th>\n",
       "      <td>416808</td>\n",
       "      <td>i think that after i had spent some time inves...</td>\n",
       "      <td>5</td>\n",
       "      <td>surprise</td>\n",
       "    </tr>\n",
       "  </tbody>\n",
       "</table>\n",
       "<p>416809 rows × 4 columns</p>\n",
       "</div>"
      ],
      "text/plain": [
       "        Unnamed: 0                                               text  label  \\\n",
       "0                0      i just feel really helpless and heavy hearted      4   \n",
       "1                1  ive enjoyed being able to slouch about relax a...      0   \n",
       "2                2  i gave up my internship with the dmrg and am f...      4   \n",
       "3                3                         i dont know i feel so lost      0   \n",
       "4                4  i am a kindergarten teacher and i am thoroughl...      4   \n",
       "...            ...                                                ...    ...   \n",
       "416804      416804  i feel like telling these horny devils to find...      2   \n",
       "416805      416805  i began to realize that when i was feeling agi...      3   \n",
       "416806      416806  i feel very curious be why previous early dawn...      5   \n",
       "416807      416807  i feel that becuase of the tyranical nature of...      3   \n",
       "416808      416808  i think that after i had spent some time inves...      5   \n",
       "\n",
       "         emotion  \n",
       "0           fear  \n",
       "1        sadness  \n",
       "2           fear  \n",
       "3        sadness  \n",
       "4           fear  \n",
       "...          ...  \n",
       "416804      love  \n",
       "416805     anger  \n",
       "416806  surprise  \n",
       "416807     anger  \n",
       "416808  surprise  \n",
       "\n",
       "[416809 rows x 4 columns]"
      ]
     },
     "execution_count": 84,
     "metadata": {},
     "output_type": "execute_result"
    }
   ],
   "source": [
    "raw_data"
   ]
  },
  {
   "cell_type": "code",
   "execution_count": 88,
   "id": "a20d57cc",
   "metadata": {},
   "outputs": [
    {
     "data": {
      "image/png": "[encoded data removed]",
      "text/plain": [
       "<Figure size 800x600 with 1 Axes>"
      ]
     },
     "metadata": {},
     "output_type": "display_data"
    }
   ],
   "source": [
    "plt.figure(figsize=(8, 6))\n",
    "#category_counts.plot(kind='bar')#, color='skyblue')  # Create the bar plot\n",
    "plt.title('Bar Plot of emotion counts')\n",
    "sns.countplot(data=raw_data, x='emotion', palette='hsv') \n",
    "plt.xlabel('Emotions')\n",
    "plt.ylabel('Count')\n",
    "plt.xticks(rotation=0)\n",
    "plt.grid(axis='y', linestyle='--', alpha=0.7)\n",
    "plt.show()"
   ]
  },
  {
   "cell_type": "raw",
   "id": "83afb32f",
   "metadata": {},
   "source": [
    "It looks like we have an imbalanced dataset. Therefore, we may consider further processing data to balance the dataset. First we process everything without balancing data and later we can balance the dataset to improve the performance of our baseline model if needed."
   ]
  },
  {
   "cell_type": "code",
   "execution_count": 11,
   "id": "75762ba9",
   "metadata": {},
   "outputs": [
    {
     "data": {
      "text/html": [
       "<div>\n",
       "<style scoped>\n",
       "    .dataframe tbody tr th:only-of-type {\n",
       "        vertical-align: middle;\n",
       "    }\n",
       "\n",
       "    .dataframe tbody tr th {\n",
       "        vertical-align: top;\n",
       "    }\n",
       "\n",
       "    .dataframe thead th {\n",
       "        text-align: right;\n",
       "    }\n",
       "</style>\n",
       "<table border=\"1\" class=\"dataframe\">\n",
       "  <thead>\n",
       "    <tr style=\"text-align: right;\">\n",
       "      <th></th>\n",
       "      <th>Unnamed: 0</th>\n",
       "      <th>text</th>\n",
       "      <th>label</th>\n",
       "    </tr>\n",
       "  </thead>\n",
       "  <tbody>\n",
       "    <tr>\n",
       "      <th>0</th>\n",
       "      <td>0</td>\n",
       "      <td>i just feel really helpless and heavy hearted</td>\n",
       "      <td>4</td>\n",
       "    </tr>\n",
       "    <tr>\n",
       "      <th>1</th>\n",
       "      <td>1</td>\n",
       "      <td>ive enjoyed being able to slouch about relax a...</td>\n",
       "      <td>0</td>\n",
       "    </tr>\n",
       "    <tr>\n",
       "      <th>2</th>\n",
       "      <td>2</td>\n",
       "      <td>i gave up my internship with the dmrg and am f...</td>\n",
       "      <td>4</td>\n",
       "    </tr>\n",
       "    <tr>\n",
       "      <th>3</th>\n",
       "      <td>3</td>\n",
       "      <td>i dont know i feel so lost</td>\n",
       "      <td>0</td>\n",
       "    </tr>\n",
       "    <tr>\n",
       "      <th>4</th>\n",
       "      <td>4</td>\n",
       "      <td>i am a kindergarten teacher and i am thoroughl...</td>\n",
       "      <td>4</td>\n",
       "    </tr>\n",
       "  </tbody>\n",
       "</table>\n",
       "</div>"
      ],
      "text/plain": [
       "   Unnamed: 0                                               text  label\n",
       "0           0      i just feel really helpless and heavy hearted      4\n",
       "1           1  ive enjoyed being able to slouch about relax a...      0\n",
       "2           2  i gave up my internship with the dmrg and am f...      4\n",
       "3           3                         i dont know i feel so lost      0\n",
       "4           4  i am a kindergarten teacher and i am thoroughl...      4"
      ]
     },
     "execution_count": 11,
     "metadata": {},
     "output_type": "execute_result"
    }
   ],
   "source": [
    "raw_data.head()"
   ]
  },
  {
   "cell_type": "code",
   "execution_count": 12,
   "id": "f4ffd5f1",
   "metadata": {},
   "outputs": [
    {
     "data": {
      "text/plain": [
       "(416809, 3)"
      ]
     },
     "execution_count": 12,
     "metadata": {},
     "output_type": "execute_result"
    }
   ],
   "source": [
    "raw_data.shape"
   ]
  },
  {
   "cell_type": "code",
   "execution_count": 93,
   "id": "9dc9bdb1",
   "metadata": {},
   "outputs": [],
   "source": [
    "data=raw_data[['text', 'label']]"
   ]
  },
  {
   "cell_type": "code",
   "execution_count": 95,
   "id": "82044270",
   "metadata": {},
   "outputs": [
    {
     "data": {
      "text/html": [
       "<div>\n",
       "<style scoped>\n",
       "    .dataframe tbody tr th:only-of-type {\n",
       "        vertical-align: middle;\n",
       "    }\n",
       "\n",
       "    .dataframe tbody tr th {\n",
       "        vertical-align: top;\n",
       "    }\n",
       "\n",
       "    .dataframe thead th {\n",
       "        text-align: right;\n",
       "    }\n",
       "</style>\n",
       "<table border=\"1\" class=\"dataframe\">\n",
       "  <thead>\n",
       "    <tr style=\"text-align: right;\">\n",
       "      <th></th>\n",
       "      <th>text</th>\n",
       "    </tr>\n",
       "    <tr>\n",
       "      <th>label</th>\n",
       "      <th></th>\n",
       "    </tr>\n",
       "  </thead>\n",
       "  <tbody>\n",
       "    <tr>\n",
       "      <th>0</th>\n",
       "      <td>121187</td>\n",
       "    </tr>\n",
       "    <tr>\n",
       "      <th>1</th>\n",
       "      <td>141067</td>\n",
       "    </tr>\n",
       "    <tr>\n",
       "      <th>2</th>\n",
       "      <td>34554</td>\n",
       "    </tr>\n",
       "    <tr>\n",
       "      <th>3</th>\n",
       "      <td>57317</td>\n",
       "    </tr>\n",
       "    <tr>\n",
       "      <th>4</th>\n",
       "      <td>47712</td>\n",
       "    </tr>\n",
       "    <tr>\n",
       "      <th>5</th>\n",
       "      <td>14972</td>\n",
       "    </tr>\n",
       "  </tbody>\n",
       "</table>\n",
       "</div>"
      ],
      "text/plain": [
       "         text\n",
       "label        \n",
       "0      121187\n",
       "1      141067\n",
       "2       34554\n",
       "3       57317\n",
       "4       47712\n",
       "5       14972"
      ]
     },
     "execution_count": 95,
     "metadata": {},
     "output_type": "execute_result"
    }
   ],
   "source": [
    "data.groupby('label').count()"
   ]
  },
  {
   "cell_type": "code",
   "execution_count": 16,
   "id": "3f37c3d0",
   "metadata": {},
   "outputs": [],
   "source": [
    "data['text'] = data['text'].astype(str)\n",
    "data['text'] = data['text'].str.lower()\n",
    "data['text'] = data['text'].str.replace('[^\\w\\s]','')"
   ]
  },
  {
   "cell_type": "code",
   "execution_count": 24,
   "id": "2a117911",
   "metadata": {},
   "outputs": [
    {
     "name": "stderr",
     "output_type": "stream",
     "text": [
      "[nltk_data] Downloading package omw-1.4 to\n",
      "[nltk_data]     C:\\Users\\mehdi.sadeghi\\AppData\\Roaming\\nltk_data...\n"
     ]
    },
    {
     "data": {
      "text/plain": [
       "True"
      ]
     },
     "execution_count": 24,
     "metadata": {},
     "output_type": "execute_result"
    }
   ],
   "source": [
    "nltk.download('omw-1.4')"
   ]
  },
  {
   "cell_type": "code",
   "execution_count": 25,
   "id": "c851bea7",
   "metadata": {},
   "outputs": [
    {
     "name": "stderr",
     "output_type": "stream",
     "text": [
      "[nltk_data] Downloading package punkt to\n",
      "[nltk_data]     C:\\Users\\mehdi.sadeghi\\AppData\\Roaming\\nltk_data...\n",
      "[nltk_data]   Package punkt is already up-to-date!\n",
      "[nltk_data] Downloading package stopwords to\n",
      "[nltk_data]     C:\\Users\\mehdi.sadeghi\\AppData\\Roaming\\nltk_data...\n",
      "[nltk_data]   Package stopwords is already up-to-date!\n",
      "[nltk_data] Downloading package wordnet to\n",
      "[nltk_data]     C:\\Users\\mehdi.sadeghi\\AppData\\Roaming\\nltk_data...\n",
      "[nltk_data]   Package wordnet is already up-to-date!\n"
     ]
    }
   ],
   "source": [
    "nltk.download('punkt')\n",
    "nltk.download('stopwords')\n",
    "nltk.download('wordnet')\n",
    "wordnet_lemmatizer = WordNetLemmatizer()\n",
    "stop = stopwords.words('english')"
   ]
  },
  {
   "cell_type": "code",
   "execution_count": 27,
   "id": "532e0eea",
   "metadata": {},
   "outputs": [],
   "source": [
    "nrows=len(data)\n",
    "\n",
    "lematized_text_list=[]\n",
    "for row in range (0,nrows):\n",
    "    lemmatized_list = []\n",
    "    text = data.loc[row]['text']\n",
    "    text_words = text.split(\" \")\n",
    "    # Iterate through every word to lemmatize\n",
    "    for word in text_words:\n",
    "        lemmatized_list.append(wordnet_lemmatizer.lemmatize(word, pos=\"v\"))\n",
    "        \n",
    "    lemmatized_text = \" \".join(lemmatized_list)\n",
    "    \n",
    "    # Append to the list containing the texts\n",
    "    lematized_text_list.append(lemmatized_text)\n",
    "    \n",
    "data['text'] = lematized_text_list"
   ]
  },
  {
   "cell_type": "code",
   "execution_count": 29,
   "id": "c8c99bc8",
   "metadata": {},
   "outputs": [],
   "source": [
    "stop_words=list(stopwords.words('english'))\n",
    "for stop_word in stop_words:\n",
    "    regex_stopword=r\"\\b\" + stop_word +r\"\\b\"\n",
    "    data['WO_st_words'] = data['text'].str.replace(regex_stopword, '')"
   ]
  },
  {
   "cell_type": "markdown",
   "id": "5c40d2a1",
   "metadata": {},
   "source": [
    "# Data Embedding"
   ]
  },
  {
   "cell_type": "code",
   "execution_count": 53,
   "id": "250b04fd",
   "metadata": {
    "scrolled": true
   },
   "outputs": [
    {
     "data": {
      "text/html": [
       "<div>\n",
       "<style scoped>\n",
       "    .dataframe tbody tr th:only-of-type {\n",
       "        vertical-align: middle;\n",
       "    }\n",
       "\n",
       "    .dataframe tbody tr th {\n",
       "        vertical-align: top;\n",
       "    }\n",
       "\n",
       "    .dataframe thead th {\n",
       "        text-align: right;\n",
       "    }\n",
       "</style>\n",
       "<table border=\"1\" class=\"dataframe\">\n",
       "  <thead>\n",
       "    <tr style=\"text-align: right;\">\n",
       "      <th></th>\n",
       "      <th>text</th>\n",
       "      <th>label</th>\n",
       "      <th>WO_st_words</th>\n",
       "    </tr>\n",
       "  </thead>\n",
       "  <tbody>\n",
       "    <tr>\n",
       "      <th>0</th>\n",
       "      <td>i just feel really helpless and heavy hearted</td>\n",
       "      <td>4</td>\n",
       "      <td>i just feel really helpless and heavy hearted</td>\n",
       "    </tr>\n",
       "    <tr>\n",
       "      <th>1</th>\n",
       "      <td>ive enjoy be able to slouch about relax and un...</td>\n",
       "      <td>0</td>\n",
       "      <td>ive enjoy be able to slouch about relax and un...</td>\n",
       "    </tr>\n",
       "    <tr>\n",
       "      <th>2</th>\n",
       "      <td>i give up my internship with the dmrg and be f...</td>\n",
       "      <td>4</td>\n",
       "      <td>i give up my internship with the dmrg and be f...</td>\n",
       "    </tr>\n",
       "    <tr>\n",
       "      <th>3</th>\n",
       "      <td>i dont know i feel so lose</td>\n",
       "      <td>0</td>\n",
       "      <td>i dont know i feel so lose</td>\n",
       "    </tr>\n",
       "    <tr>\n",
       "      <th>4</th>\n",
       "      <td>i be a kindergarten teacher and i be thoroughl...</td>\n",
       "      <td>4</td>\n",
       "      <td>i be a kindergarten teacher and i be thoroughl...</td>\n",
       "    </tr>\n",
       "  </tbody>\n",
       "</table>\n",
       "</div>"
      ],
      "text/plain": [
       "                                                text  label  \\\n",
       "0      i just feel really helpless and heavy hearted      4   \n",
       "1  ive enjoy be able to slouch about relax and un...      0   \n",
       "2  i give up my internship with the dmrg and be f...      4   \n",
       "3                         i dont know i feel so lose      0   \n",
       "4  i be a kindergarten teacher and i be thoroughl...      4   \n",
       "\n",
       "                                         WO_st_words  \n",
       "0      i just feel really helpless and heavy hearted  \n",
       "1  ive enjoy be able to slouch about relax and un...  \n",
       "2  i give up my internship with the dmrg and be f...  \n",
       "3                         i dont know i feel so lose  \n",
       "4  i be a kindergarten teacher and i be thoroughl...  "
      ]
     },
     "execution_count": 53,
     "metadata": {},
     "output_type": "execute_result"
    }
   ],
   "source": [
    "data.head()"
   ]
  },
  {
   "cell_type": "code",
   "execution_count": 55,
   "id": "acab34db",
   "metadata": {
    "scrolled": true
   },
   "outputs": [
    {
     "data": {
      "application/vnd.jupyter.widget-view+json": {
       "model_id": "46851e50cac645acb53e28a60b43c2b4",
       "version_major": 2,
       "version_minor": 0
      },
      "text/plain": [
       "modules.json:   0%|          | 0.00/349 [00:00<?, ?B/s]"
      ]
     },
     "metadata": {},
     "output_type": "display_data"
    },
    {
     "data": {
      "application/vnd.jupyter.widget-view+json": {
       "model_id": "27809e291ffb41189a7622826928c8b2",
       "version_major": 2,
       "version_minor": 0
      },
      "text/plain": [
       "config_sentence_transformers.json:   0%|          | 0.00/116 [00:00<?, ?B/s]"
      ]
     },
     "metadata": {},
     "output_type": "display_data"
    },
    {
     "data": {
      "application/vnd.jupyter.widget-view+json": {
       "model_id": "44f21946a1e94067b8e5604f3661f42b",
       "version_major": 2,
       "version_minor": 0
      },
      "text/plain": [
       "README.md:   0%|          | 0.00/10.6k [00:00<?, ?B/s]"
      ]
     },
     "metadata": {},
     "output_type": "display_data"
    },
    {
     "data": {
      "application/vnd.jupyter.widget-view+json": {
       "model_id": "bb83e5739a6c424c800200b78792461e",
       "version_major": 2,
       "version_minor": 0
      },
      "text/plain": [
       "sentence_bert_config.json:   0%|          | 0.00/53.0 [00:00<?, ?B/s]"
      ]
     },
     "metadata": {},
     "output_type": "display_data"
    },
    {
     "data": {
      "application/vnd.jupyter.widget-view+json": {
       "model_id": "85a74082ebb04f0ca0aab92241d5f76b",
       "version_major": 2,
       "version_minor": 0
      },
      "text/plain": [
       "config.json:   0%|          | 0.00/571 [00:00<?, ?B/s]"
      ]
     },
     "metadata": {},
     "output_type": "display_data"
    },
    {
     "data": {
      "application/vnd.jupyter.widget-view+json": {
       "model_id": "ec58bf711d5c418a9d5512ad6669476e",
       "version_major": 2,
       "version_minor": 0
      },
      "text/plain": [
       "model.safetensors:   0%|          | 0.00/438M [00:00<?, ?B/s]"
      ]
     },
     "metadata": {},
     "output_type": "display_data"
    },
    {
     "data": {
      "application/vnd.jupyter.widget-view+json": {
       "model_id": "882ee97c0f1c470e834883ec385b1cc8",
       "version_major": 2,
       "version_minor": 0
      },
      "text/plain": [
       "tokenizer_config.json:   0%|          | 0.00/363 [00:00<?, ?B/s]"
      ]
     },
     "metadata": {},
     "output_type": "display_data"
    },
    {
     "data": {
      "application/vnd.jupyter.widget-view+json": {
       "model_id": "4818d0c77ded4fffb7d8aa6938dfb3dc",
       "version_major": 2,
       "version_minor": 0
      },
      "text/plain": [
       "vocab.txt:   0%|          | 0.00/232k [00:00<?, ?B/s]"
      ]
     },
     "metadata": {},
     "output_type": "display_data"
    },
    {
     "data": {
      "application/vnd.jupyter.widget-view+json": {
       "model_id": "e50dfc7d8b474213a12d0fe80c2cb669",
       "version_major": 2,
       "version_minor": 0
      },
      "text/plain": [
       "tokenizer.json:   0%|          | 0.00/466k [00:00<?, ?B/s]"
      ]
     },
     "metadata": {},
     "output_type": "display_data"
    },
    {
     "data": {
      "application/vnd.jupyter.widget-view+json": {
       "model_id": "ee571de624f242f9869837e960a78ec4",
       "version_major": 2,
       "version_minor": 0
      },
      "text/plain": [
       "special_tokens_map.json:   0%|          | 0.00/239 [00:00<?, ?B/s]"
      ]
     },
     "metadata": {},
     "output_type": "display_data"
    },
    {
     "data": {
      "application/vnd.jupyter.widget-view+json": {
       "model_id": "c7363db94c7844aaa9aea1c614020e48",
       "version_major": 2,
       "version_minor": 0
      },
      "text/plain": [
       "1_Pooling/config.json:   0%|          | 0.00/190 [00:00<?, ?B/s]"
      ]
     },
     "metadata": {},
     "output_type": "display_data"
    },
    {
     "name": "stdout",
     "output_type": "stream",
     "text": [
      "cpu\n"
     ]
    },
    {
     "data": {
      "text/plain": [
       "SentenceTransformer(\n",
       "  (0): Transformer({'max_seq_length': 384, 'do_lower_case': False}) with Transformer model: MPNetModel \n",
       "  (1): Pooling({'word_embedding_dimension': 768, 'pooling_mode_cls_token': False, 'pooling_mode_mean_tokens': True, 'pooling_mode_max_tokens': False, 'pooling_mode_mean_sqrt_len_tokens': False, 'pooling_mode_weightedmean_tokens': False, 'pooling_mode_lasttoken': False, 'include_prompt': True})\n",
       "  (2): Normalize()\n",
       ")"
      ]
     },
     "execution_count": 55,
     "metadata": {},
     "output_type": "execute_result"
    }
   ],
   "source": [
    "model = SentenceTransformer('sentence-transformers/all-mpnet-base-v2')\n",
    "device=torch.device('cuda' if torch.cuda.is_available() else \"cpu\")\n",
    "print(device)\n",
    "model.to(device)"
   ]
  },
  {
   "cell_type": "code",
   "execution_count": 43,
   "id": "3653f004",
   "metadata": {
    "collapsed": true
   },
   "outputs": [
    {
     "name": "stdout",
     "output_type": "stream",
     "text": [
      "cpu\n"
     ]
    },
    {
     "data": {
      "text/plain": [
       "SentenceTransformer(\n",
       "  (0): Transformer({'max_seq_length': 128, 'do_lower_case': False}) with Transformer model: BertModel \n",
       "  (1): Pooling({'word_embedding_dimension': 384, 'pooling_mode_cls_token': False, 'pooling_mode_mean_tokens': True, 'pooling_mode_max_tokens': False, 'pooling_mode_mean_sqrt_len_tokens': False, 'pooling_mode_weightedmean_tokens': False, 'pooling_mode_lasttoken': False, 'include_prompt': True})\n",
       ")"
      ]
     },
     "execution_count": 43,
     "metadata": {},
     "output_type": "execute_result"
    }
   ],
   "source": [
    "model = SentenceTransformer('paraphrase-MiniLM-L6-v2')#'sentence-transformers/all_mpnet_base_v2')\n",
    "device=torch.device('cuda' if torch.cuda.is_available() else \"cpu\")\n",
    "print(device)\n",
    "model.to(device)"
   ]
  },
  {
   "cell_type": "code",
   "execution_count": 56,
   "id": "02859bb9",
   "metadata": {},
   "outputs": [
    {
     "name": "stdout",
     "output_type": "stream",
     "text": [
      "416809\n"
     ]
    }
   ],
   "source": [
    "max_i=data.shape[0]\n",
    "print(max_i)\n",
    "batch_size=50000\n",
    "num_batches=int(max_i/batch_size)\n",
    "iloc_indexes=[x*batch_size for x in range(num_batches+1)]"
   ]
  },
  {
   "cell_type": "code",
   "execution_count": 57,
   "id": "55eb7181",
   "metadata": {},
   "outputs": [
    {
     "name": "stdout",
     "output_type": "stream",
     "text": [
      "8\n"
     ]
    }
   ],
   "source": [
    "print(num_batches)"
   ]
  },
  {
   "cell_type": "raw",
   "id": "63e74da9",
   "metadata": {},
   "source": [
    "import os\n",
    "os.makedirs('embeddings')"
   ]
  },
  {
   "cell_type": "code",
   "execution_count": 59,
   "id": "190a2679",
   "metadata": {
    "collapsed": true
   },
   "outputs": [
    {
     "ename": "ImportError",
     "evalue": "Unable to find a usable engine; tried using: 'pyarrow', 'fastparquet'.\nA suitable version of pyarrow or fastparquet is required for parquet support.\nTrying to import the above resulted in these errors:\n - Missing optional dependency 'pyarrow'. pyarrow is required for parquet support. Use pip or conda to install pyarrow.\n - Missing optional dependency 'fastparquet'. fastparquet is required for parquet support. Use pip or conda to install fastparquet.",
     "output_type": "error",
     "traceback": [
      "\u001b[1;31m---------------------------------------------------------------------------\u001b[0m",
      "\u001b[1;31mImportError\u001b[0m                               Traceback (most recent call last)",
      "\u001b[1;32m~\\AppData\\Local\\Temp\\ipykernel_4736\\985595700.py\u001b[0m in \u001b[0;36m<module>\u001b[1;34m\u001b[0m\n\u001b[0;32m     17\u001b[0m     \u001b[1;32mif\u001b[0m \u001b[1;33m(\u001b[0m\u001b[1;33m(\u001b[0m\u001b[0mi\u001b[0m\u001b[1;33m!=\u001b[0m\u001b[1;36m0\u001b[0m\u001b[1;33m)\u001b[0m \u001b[1;32mand\u001b[0m \u001b[1;33m(\u001b[0m\u001b[0mi\u001b[0m\u001b[1;33m%\u001b[0m\u001b[1;36m1000000\u001b[0m\u001b[1;33m==\u001b[0m\u001b[1;36m0\u001b[0m\u001b[1;33m)\u001b[0m\u001b[1;33m)\u001b[0m \u001b[1;32mor\u001b[0m \u001b[1;33m(\u001b[0m\u001b[0mi\u001b[0m\u001b[1;33m+\u001b[0m\u001b[0mbatch_size\u001b[0m\u001b[1;33m>\u001b[0m\u001b[0mmax_i\u001b[0m\u001b[1;33m)\u001b[0m\u001b[1;33m:\u001b[0m\u001b[1;33m\u001b[0m\u001b[1;33m\u001b[0m\u001b[0m\n\u001b[0;32m     18\u001b[0m         \u001b[0mpd\u001b[0m\u001b[1;33m.\u001b[0m\u001b[0mconcat\u001b[0m\u001b[1;33m(\u001b[0m\u001b[0mencoded_text_df_list\u001b[0m\u001b[1;33m,\u001b[0m \u001b[0mignore_index\u001b[0m\u001b[1;33m=\u001b[0m\u001b[1;32mTrue\u001b[0m\u001b[1;33m)\u001b[0m\u001b[1;33m.\u001b[0m\u001b[0mto_csv\u001b[0m\u001b[1;33m(\u001b[0m\u001b[1;34m'embeddings/mpnet_embed_df.csv'\u001b[0m\u001b[1;33m,\u001b[0m \u001b[0mindex\u001b[0m\u001b[1;33m=\u001b[0m\u001b[1;32mFalse\u001b[0m\u001b[1;33m)\u001b[0m\u001b[1;33m\u001b[0m\u001b[1;33m\u001b[0m\u001b[0m\n\u001b[1;32m---> 19\u001b[1;33m         \u001b[0mpd\u001b[0m\u001b[1;33m.\u001b[0m\u001b[0mconcat\u001b[0m\u001b[1;33m(\u001b[0m\u001b[0mencoded_text_df_list\u001b[0m\u001b[1;33m,\u001b[0m \u001b[0mignore_index\u001b[0m\u001b[1;33m=\u001b[0m\u001b[1;32mTrue\u001b[0m\u001b[1;33m)\u001b[0m\u001b[1;33m.\u001b[0m\u001b[0mto_parquet\u001b[0m\u001b[1;33m(\u001b[0m\u001b[1;34m'embeddings/mpnet_embed_pq.gzip'\u001b[0m\u001b[1;33m,\u001b[0m \u001b[0mcompression\u001b[0m\u001b[1;33m=\u001b[0m\u001b[1;34m'gzip'\u001b[0m\u001b[1;33m)\u001b[0m\u001b[1;33m\u001b[0m\u001b[1;33m\u001b[0m\u001b[0m\n\u001b[0m\u001b[0;32m     20\u001b[0m         \u001b[0mprint\u001b[0m\u001b[1;33m(\u001b[0m\u001b[1;34m'the first part of data is done and saved'\u001b[0m\u001b[1;33m)\u001b[0m\u001b[1;33m\u001b[0m\u001b[1;33m\u001b[0m\u001b[0m\n\u001b[0;32m     21\u001b[0m \u001b[1;33m\u001b[0m\u001b[0m\n",
      "\u001b[1;32m~\\Anaconda3\\lib\\site-packages\\pandas\\util\\_decorators.py\u001b[0m in \u001b[0;36mwrapper\u001b[1;34m(*args, **kwargs)\u001b[0m\n\u001b[0;32m    205\u001b[0m                 \u001b[1;32melse\u001b[0m\u001b[1;33m:\u001b[0m\u001b[1;33m\u001b[0m\u001b[1;33m\u001b[0m\u001b[0m\n\u001b[0;32m    206\u001b[0m                     \u001b[0mkwargs\u001b[0m\u001b[1;33m[\u001b[0m\u001b[0mnew_arg_name\u001b[0m\u001b[1;33m]\u001b[0m \u001b[1;33m=\u001b[0m \u001b[0mnew_arg_value\u001b[0m\u001b[1;33m\u001b[0m\u001b[1;33m\u001b[0m\u001b[0m\n\u001b[1;32m--> 207\u001b[1;33m             \u001b[1;32mreturn\u001b[0m \u001b[0mfunc\u001b[0m\u001b[1;33m(\u001b[0m\u001b[1;33m*\u001b[0m\u001b[0margs\u001b[0m\u001b[1;33m,\u001b[0m \u001b[1;33m**\u001b[0m\u001b[0mkwargs\u001b[0m\u001b[1;33m)\u001b[0m\u001b[1;33m\u001b[0m\u001b[1;33m\u001b[0m\u001b[0m\n\u001b[0m\u001b[0;32m    208\u001b[0m \u001b[1;33m\u001b[0m\u001b[0m\n\u001b[0;32m    209\u001b[0m         \u001b[1;32mreturn\u001b[0m \u001b[0mcast\u001b[0m\u001b[1;33m(\u001b[0m\u001b[0mF\u001b[0m\u001b[1;33m,\u001b[0m \u001b[0mwrapper\u001b[0m\u001b[1;33m)\u001b[0m\u001b[1;33m\u001b[0m\u001b[1;33m\u001b[0m\u001b[0m\n",
      "\u001b[1;32m~\\Anaconda3\\lib\\site-packages\\pandas\\core\\frame.py\u001b[0m in \u001b[0;36mto_parquet\u001b[1;34m(self, path, engine, compression, index, partition_cols, storage_options, **kwargs)\u001b[0m\n\u001b[0;32m   2833\u001b[0m         \u001b[1;32mfrom\u001b[0m \u001b[0mpandas\u001b[0m\u001b[1;33m.\u001b[0m\u001b[0mio\u001b[0m\u001b[1;33m.\u001b[0m\u001b[0mparquet\u001b[0m \u001b[1;32mimport\u001b[0m \u001b[0mto_parquet\u001b[0m\u001b[1;33m\u001b[0m\u001b[1;33m\u001b[0m\u001b[0m\n\u001b[0;32m   2834\u001b[0m \u001b[1;33m\u001b[0m\u001b[0m\n\u001b[1;32m-> 2835\u001b[1;33m         return to_parquet(\n\u001b[0m\u001b[0;32m   2836\u001b[0m             \u001b[0mself\u001b[0m\u001b[1;33m,\u001b[0m\u001b[1;33m\u001b[0m\u001b[1;33m\u001b[0m\u001b[0m\n\u001b[0;32m   2837\u001b[0m             \u001b[0mpath\u001b[0m\u001b[1;33m,\u001b[0m\u001b[1;33m\u001b[0m\u001b[1;33m\u001b[0m\u001b[0m\n",
      "\u001b[1;32m~\\Anaconda3\\lib\\site-packages\\pandas\\io\\parquet.py\u001b[0m in \u001b[0;36mto_parquet\u001b[1;34m(df, path, engine, compression, index, storage_options, partition_cols, **kwargs)\u001b[0m\n\u001b[0;32m    414\u001b[0m     \u001b[1;32mif\u001b[0m \u001b[0misinstance\u001b[0m\u001b[1;33m(\u001b[0m\u001b[0mpartition_cols\u001b[0m\u001b[1;33m,\u001b[0m \u001b[0mstr\u001b[0m\u001b[1;33m)\u001b[0m\u001b[1;33m:\u001b[0m\u001b[1;33m\u001b[0m\u001b[1;33m\u001b[0m\u001b[0m\n\u001b[0;32m    415\u001b[0m         \u001b[0mpartition_cols\u001b[0m \u001b[1;33m=\u001b[0m \u001b[1;33m[\u001b[0m\u001b[0mpartition_cols\u001b[0m\u001b[1;33m]\u001b[0m\u001b[1;33m\u001b[0m\u001b[1;33m\u001b[0m\u001b[0m\n\u001b[1;32m--> 416\u001b[1;33m     \u001b[0mimpl\u001b[0m \u001b[1;33m=\u001b[0m \u001b[0mget_engine\u001b[0m\u001b[1;33m(\u001b[0m\u001b[0mengine\u001b[0m\u001b[1;33m)\u001b[0m\u001b[1;33m\u001b[0m\u001b[1;33m\u001b[0m\u001b[0m\n\u001b[0m\u001b[0;32m    417\u001b[0m \u001b[1;33m\u001b[0m\u001b[0m\n\u001b[0;32m    418\u001b[0m     \u001b[0mpath_or_buf\u001b[0m\u001b[1;33m:\u001b[0m \u001b[0mFilePath\u001b[0m \u001b[1;33m|\u001b[0m \u001b[0mWriteBuffer\u001b[0m\u001b[1;33m[\u001b[0m\u001b[0mbytes\u001b[0m\u001b[1;33m]\u001b[0m \u001b[1;33m=\u001b[0m \u001b[0mio\u001b[0m\u001b[1;33m.\u001b[0m\u001b[0mBytesIO\u001b[0m\u001b[1;33m(\u001b[0m\u001b[1;33m)\u001b[0m \u001b[1;32mif\u001b[0m \u001b[0mpath\u001b[0m \u001b[1;32mis\u001b[0m \u001b[1;32mNone\u001b[0m \u001b[1;32melse\u001b[0m \u001b[0mpath\u001b[0m\u001b[1;33m\u001b[0m\u001b[1;33m\u001b[0m\u001b[0m\n",
      "\u001b[1;32m~\\Anaconda3\\lib\\site-packages\\pandas\\io\\parquet.py\u001b[0m in \u001b[0;36mget_engine\u001b[1;34m(engine)\u001b[0m\n\u001b[0;32m     50\u001b[0m                 \u001b[0merror_msgs\u001b[0m \u001b[1;33m+=\u001b[0m \u001b[1;34m\"\\n - \"\u001b[0m \u001b[1;33m+\u001b[0m \u001b[0mstr\u001b[0m\u001b[1;33m(\u001b[0m\u001b[0merr\u001b[0m\u001b[1;33m)\u001b[0m\u001b[1;33m\u001b[0m\u001b[1;33m\u001b[0m\u001b[0m\n\u001b[0;32m     51\u001b[0m \u001b[1;33m\u001b[0m\u001b[0m\n\u001b[1;32m---> 52\u001b[1;33m         raise ImportError(\n\u001b[0m\u001b[0;32m     53\u001b[0m             \u001b[1;34m\"Unable to find a usable engine; \"\u001b[0m\u001b[1;33m\u001b[0m\u001b[1;33m\u001b[0m\u001b[0m\n\u001b[0;32m     54\u001b[0m             \u001b[1;34m\"tried using: 'pyarrow', 'fastparquet'.\\n\"\u001b[0m\u001b[1;33m\u001b[0m\u001b[1;33m\u001b[0m\u001b[0m\n",
      "\u001b[1;31mImportError\u001b[0m: Unable to find a usable engine; tried using: 'pyarrow', 'fastparquet'.\nA suitable version of pyarrow or fastparquet is required for parquet support.\nTrying to import the above resulted in these errors:\n - Missing optional dependency 'pyarrow'. pyarrow is required for parquet support. Use pip or conda to install pyarrow.\n - Missing optional dependency 'fastparquet'. fastparquet is required for parquet support. Use pip or conda to install fastparquet."
     ]
    }
   ],
   "source": [
    "encoded_text_df_list=[]\n",
    "n=len(data)\n",
    "for i in iloc_indexes:\n",
    "    if i+batch_size>max_i:\n",
    "        end_i=max_i\n",
    "    else:\n",
    "        end_i=i+batch_size\n",
    "    text=data.iloc[i:end_i]['WO_st_words'].values\n",
    "    embeddings=model.encode(text)\n",
    "    embedded_df=pd.DataFrame(embeddings)\n",
    "    embedded_df.columns=['c_' + str(col) for col in embedded_df.columns]\n",
    "    embedded_df['text'] = text\n",
    "    #embedded_df['index']=i\n",
    "    embedded_df['label']=data.iloc[i:end_i]['label'].values\n",
    "    encoded_text_df_list.append(embedded_df)\n",
    "    r=1200000-(n%1000000)\n",
    "    if ((i!=0) and (i%1000000==0)) or (i+batch_size>max_i):\n",
    "        pd.concat(encoded_text_df_list, ignore_index=True).to_csv('embeddings/mpnet_embed_df.csv', index=False)\n",
    "        #pd.concat(encoded_text_df_list, ignore_index=True).to_parquet('embeddings/mpnet_embed_pq.gzip', compression='gzip')\n",
    "        print('the first part of data is done and saved')\n",
    "       "
   ]
  },
  {
   "cell_type": "markdown",
   "id": "fbf93ab6",
   "metadata": {},
   "source": [
    "## Data Partitioning"
   ]
  },
  {
   "cell_type": "raw",
   "id": "b8bf964c",
   "metadata": {},
   "source": [
    "we use Stratified random partitioning as we are dealing with imbalanced dataset. This is a valuable technique for dividing a dataset into training, validation, and test sets while ensuring that each subset maintains the same class distribution as the original dataset. This approach is particularly beneficial when working with imbalanced datasets, where certain classes are less represented than others. By stratifying the partitions based on the target variable's classes, we can create subsets that accurately reflect the overall dataset's class proportions. This strategy helps in training models that generalize well across different classes and avoid biases towards the majority class."
   ]
  },
  {
   "cell_type": "code",
   "execution_count": 61,
   "id": "aca2d150",
   "metadata": {},
   "outputs": [],
   "source": [
    "embd_data=pd.read_csv('embeddings/mpnet_embed_df.csv')"
   ]
  },
  {
   "cell_type": "code",
   "execution_count": 67,
   "id": "7f30f58c",
   "metadata": {},
   "outputs": [],
   "source": [
    "X = embd_data.drop('label', axis=1)\n",
    "y = embd_data['label']\n",
    "\n",
    "X_train, X_test, y_train, y_test = train_test_split(X, y, test_size=0.2, random_state=42, stratify=y)\n",
    "X_train, X_val, y_train, y_val = train_test_split(X_train, y_train, test_size=0.25, random_state=42, stratify=y_train)\n",
    "\n",
    "train = pd.concat([X_train, y_train], axis=1)\n",
    "val = pd.concat([X_val, y_val], axis=1)\n",
    "test = pd.concat([X_test, y_test], axis=1)"
   ]
  },
  {
   "cell_type": "code",
   "execution_count": 97,
   "id": "f897d019",
   "metadata": {
    "scrolled": true
   },
   "outputs": [
    {
     "data": {
      "text/html": [
       "<div>\n",
       "<style scoped>\n",
       "    .dataframe tbody tr th:only-of-type {\n",
       "        vertical-align: middle;\n",
       "    }\n",
       "\n",
       "    .dataframe tbody tr th {\n",
       "        vertical-align: top;\n",
       "    }\n",
       "\n",
       "    .dataframe thead th {\n",
       "        text-align: right;\n",
       "    }\n",
       "</style>\n",
       "<table border=\"1\" class=\"dataframe\">\n",
       "  <thead>\n",
       "    <tr style=\"text-align: right;\">\n",
       "      <th></th>\n",
       "      <th>c_0</th>\n",
       "      <th>c_1</th>\n",
       "      <th>c_2</th>\n",
       "      <th>c_3</th>\n",
       "      <th>c_4</th>\n",
       "      <th>c_5</th>\n",
       "      <th>c_6</th>\n",
       "      <th>c_7</th>\n",
       "      <th>c_8</th>\n",
       "      <th>c_9</th>\n",
       "      <th>...</th>\n",
       "      <th>c_760</th>\n",
       "      <th>c_761</th>\n",
       "      <th>c_762</th>\n",
       "      <th>c_763</th>\n",
       "      <th>c_764</th>\n",
       "      <th>c_765</th>\n",
       "      <th>c_766</th>\n",
       "      <th>c_767</th>\n",
       "      <th>text</th>\n",
       "      <th>label</th>\n",
       "    </tr>\n",
       "  </thead>\n",
       "  <tbody>\n",
       "    <tr>\n",
       "      <th>296621</th>\n",
       "      <td>0.057727</td>\n",
       "      <td>0.027517</td>\n",
       "      <td>-0.030437</td>\n",
       "      <td>-0.061579</td>\n",
       "      <td>-0.006576</td>\n",
       "      <td>-0.063459</td>\n",
       "      <td>-0.049406</td>\n",
       "      <td>0.021162</td>\n",
       "      <td>-0.005058</td>\n",
       "      <td>-0.074257</td>\n",
       "      <td>...</td>\n",
       "      <td>0.028914</td>\n",
       "      <td>-0.013897</td>\n",
       "      <td>-0.003551</td>\n",
       "      <td>-0.038635</td>\n",
       "      <td>0.031419</td>\n",
       "      <td>-0.013297</td>\n",
       "      <td>0.002431</td>\n",
       "      <td>0.021442</td>\n",
       "      <td>recent breakup of seriors longterm relationship</td>\n",
       "      <td>0</td>\n",
       "    </tr>\n",
       "    <tr>\n",
       "      <th>289890</th>\n",
       "      <td>-0.042763</td>\n",
       "      <td>-0.022068</td>\n",
       "      <td>-0.015751</td>\n",
       "      <td>0.028329</td>\n",
       "      <td>-0.074662</td>\n",
       "      <td>0.047185</td>\n",
       "      <td>-0.029067</td>\n",
       "      <td>-0.069941</td>\n",
       "      <td>-0.006860</td>\n",
       "      <td>-0.017851</td>\n",
       "      <td>...</td>\n",
       "      <td>-0.034707</td>\n",
       "      <td>0.008046</td>\n",
       "      <td>-0.006219</td>\n",
       "      <td>-0.029384</td>\n",
       "      <td>-0.033398</td>\n",
       "      <td>-0.012191</td>\n",
       "      <td>0.019368</td>\n",
       "      <td>0.012939</td>\n",
       "      <td>i feel truly bless that they ask me to do it f...</td>\n",
       "      <td>1</td>\n",
       "    </tr>\n",
       "    <tr>\n",
       "      <th>95555</th>\n",
       "      <td>0.053061</td>\n",
       "      <td>-0.040572</td>\n",
       "      <td>0.009053</td>\n",
       "      <td>-0.020620</td>\n",
       "      <td>-0.054520</td>\n",
       "      <td>0.024682</td>\n",
       "      <td>0.027064</td>\n",
       "      <td>-0.031622</td>\n",
       "      <td>0.006368</td>\n",
       "      <td>-0.045796</td>\n",
       "      <td>...</td>\n",
       "      <td>0.065279</td>\n",
       "      <td>0.020666</td>\n",
       "      <td>0.012254</td>\n",
       "      <td>0.005655</td>\n",
       "      <td>0.013814</td>\n",
       "      <td>0.024061</td>\n",
       "      <td>-0.017169</td>\n",
       "      <td>0.027947</td>\n",
       "      <td>i wake up it be dark and he start to make me f...</td>\n",
       "      <td>0</td>\n",
       "    </tr>\n",
       "    <tr>\n",
       "      <th>217086</th>\n",
       "      <td>-0.021273</td>\n",
       "      <td>0.053084</td>\n",
       "      <td>0.008725</td>\n",
       "      <td>0.000652</td>\n",
       "      <td>0.057878</td>\n",
       "      <td>0.007836</td>\n",
       "      <td>-0.056173</td>\n",
       "      <td>-0.015094</td>\n",
       "      <td>0.024574</td>\n",
       "      <td>0.022435</td>\n",
       "      <td>...</td>\n",
       "      <td>-0.039931</td>\n",
       "      <td>0.004527</td>\n",
       "      <td>0.034232</td>\n",
       "      <td>-0.000168</td>\n",
       "      <td>-0.013256</td>\n",
       "      <td>0.042876</td>\n",
       "      <td>0.013006</td>\n",
       "      <td>0.009684</td>\n",
       "      <td>i do know for a fact that gut feel be real lik...</td>\n",
       "      <td>3</td>\n",
       "    </tr>\n",
       "    <tr>\n",
       "      <th>196567</th>\n",
       "      <td>-0.050520</td>\n",
       "      <td>0.092292</td>\n",
       "      <td>0.025079</td>\n",
       "      <td>-0.015721</td>\n",
       "      <td>0.016530</td>\n",
       "      <td>0.037277</td>\n",
       "      <td>-0.063429</td>\n",
       "      <td>-0.001500</td>\n",
       "      <td>0.010056</td>\n",
       "      <td>-0.022299</td>\n",
       "      <td>...</td>\n",
       "      <td>-0.028914</td>\n",
       "      <td>0.001015</td>\n",
       "      <td>0.018443</td>\n",
       "      <td>-0.034361</td>\n",
       "      <td>-0.006708</td>\n",
       "      <td>0.034340</td>\n",
       "      <td>-0.050754</td>\n",
       "      <td>0.008599</td>\n",
       "      <td>im still feel smug about beat that girl who li...</td>\n",
       "      <td>1</td>\n",
       "    </tr>\n",
       "    <tr>\n",
       "      <th>...</th>\n",
       "      <td>...</td>\n",
       "      <td>...</td>\n",
       "      <td>...</td>\n",
       "      <td>...</td>\n",
       "      <td>...</td>\n",
       "      <td>...</td>\n",
       "      <td>...</td>\n",
       "      <td>...</td>\n",
       "      <td>...</td>\n",
       "      <td>...</td>\n",
       "      <td>...</td>\n",
       "      <td>...</td>\n",
       "      <td>...</td>\n",
       "      <td>...</td>\n",
       "      <td>...</td>\n",
       "      <td>...</td>\n",
       "      <td>...</td>\n",
       "      <td>...</td>\n",
       "      <td>...</td>\n",
       "      <td>...</td>\n",
       "      <td>...</td>\n",
       "    </tr>\n",
       "    <tr>\n",
       "      <th>385744</th>\n",
       "      <td>-0.000470</td>\n",
       "      <td>0.061990</td>\n",
       "      <td>0.013851</td>\n",
       "      <td>-0.047472</td>\n",
       "      <td>0.025206</td>\n",
       "      <td>-0.017095</td>\n",
       "      <td>-0.044975</td>\n",
       "      <td>0.021902</td>\n",
       "      <td>-0.016591</td>\n",
       "      <td>-0.013718</td>\n",
       "      <td>...</td>\n",
       "      <td>0.050612</td>\n",
       "      <td>-0.002638</td>\n",
       "      <td>0.002195</td>\n",
       "      <td>-0.046143</td>\n",
       "      <td>0.020856</td>\n",
       "      <td>-0.027365</td>\n",
       "      <td>-0.058251</td>\n",
       "      <td>0.016495</td>\n",
       "      <td>i still look awful im feel pretty lovely</td>\n",
       "      <td>2</td>\n",
       "    </tr>\n",
       "    <tr>\n",
       "      <th>247874</th>\n",
       "      <td>0.002896</td>\n",
       "      <td>0.007195</td>\n",
       "      <td>0.017231</td>\n",
       "      <td>-0.004442</td>\n",
       "      <td>0.054806</td>\n",
       "      <td>0.007068</td>\n",
       "      <td>-0.099124</td>\n",
       "      <td>-0.018312</td>\n",
       "      <td>0.108147</td>\n",
       "      <td>0.021809</td>\n",
       "      <td>...</td>\n",
       "      <td>-0.048933</td>\n",
       "      <td>0.044318</td>\n",
       "      <td>-0.037707</td>\n",
       "      <td>0.000990</td>\n",
       "      <td>-0.055314</td>\n",
       "      <td>0.048026</td>\n",
       "      <td>0.010615</td>\n",
       "      <td>-0.029663</td>\n",
       "      <td>i realise that i didn t feel any pain and i be...</td>\n",
       "      <td>1</td>\n",
       "    </tr>\n",
       "    <tr>\n",
       "      <th>343149</th>\n",
       "      <td>-0.009608</td>\n",
       "      <td>0.038026</td>\n",
       "      <td>-0.035670</td>\n",
       "      <td>-0.016797</td>\n",
       "      <td>-0.007337</td>\n",
       "      <td>-0.002520</td>\n",
       "      <td>-0.031446</td>\n",
       "      <td>0.023492</td>\n",
       "      <td>-0.021056</td>\n",
       "      <td>0.000799</td>\n",
       "      <td>...</td>\n",
       "      <td>-0.012194</td>\n",
       "      <td>0.028281</td>\n",
       "      <td>-0.002007</td>\n",
       "      <td>-0.000250</td>\n",
       "      <td>-0.005889</td>\n",
       "      <td>-0.004514</td>\n",
       "      <td>0.037860</td>\n",
       "      <td>-0.026773</td>\n",
       "      <td>i feel like i m look at a strange plant life d...</td>\n",
       "      <td>5</td>\n",
       "    </tr>\n",
       "    <tr>\n",
       "      <th>331147</th>\n",
       "      <td>0.027947</td>\n",
       "      <td>0.037844</td>\n",
       "      <td>0.043803</td>\n",
       "      <td>-0.027001</td>\n",
       "      <td>0.035751</td>\n",
       "      <td>0.041561</td>\n",
       "      <td>-0.106433</td>\n",
       "      <td>-0.016536</td>\n",
       "      <td>-0.003890</td>\n",
       "      <td>-0.011492</td>\n",
       "      <td>...</td>\n",
       "      <td>-0.016558</td>\n",
       "      <td>-0.007015</td>\n",
       "      <td>0.000671</td>\n",
       "      <td>-0.051375</td>\n",
       "      <td>-0.020254</td>\n",
       "      <td>-0.010358</td>\n",
       "      <td>0.019955</td>\n",
       "      <td>0.005473</td>\n",
       "      <td>i feel worthless like i rather die in a hole</td>\n",
       "      <td>0</td>\n",
       "    </tr>\n",
       "    <tr>\n",
       "      <th>394437</th>\n",
       "      <td>-0.001452</td>\n",
       "      <td>0.002243</td>\n",
       "      <td>-0.013836</td>\n",
       "      <td>0.015602</td>\n",
       "      <td>0.018450</td>\n",
       "      <td>0.057406</td>\n",
       "      <td>-0.007207</td>\n",
       "      <td>0.005372</td>\n",
       "      <td>0.004396</td>\n",
       "      <td>0.005202</td>\n",
       "      <td>...</td>\n",
       "      <td>-0.018364</td>\n",
       "      <td>0.014299</td>\n",
       "      <td>-0.005087</td>\n",
       "      <td>0.062150</td>\n",
       "      <td>0.002206</td>\n",
       "      <td>0.047792</td>\n",
       "      <td>0.011702</td>\n",
       "      <td>0.005510</td>\n",
       "      <td>i feel fab a href http fyranyanseravrosa</td>\n",
       "      <td>1</td>\n",
       "    </tr>\n",
       "  </tbody>\n",
       "</table>\n",
       "<p>250085 rows × 770 columns</p>\n",
       "</div>"
      ],
      "text/plain": [
       "             c_0       c_1       c_2       c_3       c_4       c_5       c_6  \\\n",
       "296621  0.057727  0.027517 -0.030437 -0.061579 -0.006576 -0.063459 -0.049406   \n",
       "289890 -0.042763 -0.022068 -0.015751  0.028329 -0.074662  0.047185 -0.029067   \n",
       "95555   0.053061 -0.040572  0.009053 -0.020620 -0.054520  0.024682  0.027064   \n",
       "217086 -0.021273  0.053084  0.008725  0.000652  0.057878  0.007836 -0.056173   \n",
       "196567 -0.050520  0.092292  0.025079 -0.015721  0.016530  0.037277 -0.063429   \n",
       "...          ...       ...       ...       ...       ...       ...       ...   \n",
       "385744 -0.000470  0.061990  0.013851 -0.047472  0.025206 -0.017095 -0.044975   \n",
       "247874  0.002896  0.007195  0.017231 -0.004442  0.054806  0.007068 -0.099124   \n",
       "343149 -0.009608  0.038026 -0.035670 -0.016797 -0.007337 -0.002520 -0.031446   \n",
       "331147  0.027947  0.037844  0.043803 -0.027001  0.035751  0.041561 -0.106433   \n",
       "394437 -0.001452  0.002243 -0.013836  0.015602  0.018450  0.057406 -0.007207   \n",
       "\n",
       "             c_7       c_8       c_9  ...     c_760     c_761     c_762  \\\n",
       "296621  0.021162 -0.005058 -0.074257  ...  0.028914 -0.013897 -0.003551   \n",
       "289890 -0.069941 -0.006860 -0.017851  ... -0.034707  0.008046 -0.006219   \n",
       "95555  -0.031622  0.006368 -0.045796  ...  0.065279  0.020666  0.012254   \n",
       "217086 -0.015094  0.024574  0.022435  ... -0.039931  0.004527  0.034232   \n",
       "196567 -0.001500  0.010056 -0.022299  ... -0.028914  0.001015  0.018443   \n",
       "...          ...       ...       ...  ...       ...       ...       ...   \n",
       "385744  0.021902 -0.016591 -0.013718  ...  0.050612 -0.002638  0.002195   \n",
       "247874 -0.018312  0.108147  0.021809  ... -0.048933  0.044318 -0.037707   \n",
       "343149  0.023492 -0.021056  0.000799  ... -0.012194  0.028281 -0.002007   \n",
       "331147 -0.016536 -0.003890 -0.011492  ... -0.016558 -0.007015  0.000671   \n",
       "394437  0.005372  0.004396  0.005202  ... -0.018364  0.014299 -0.005087   \n",
       "\n",
       "           c_763     c_764     c_765     c_766     c_767  \\\n",
       "296621 -0.038635  0.031419 -0.013297  0.002431  0.021442   \n",
       "289890 -0.029384 -0.033398 -0.012191  0.019368  0.012939   \n",
       "95555   0.005655  0.013814  0.024061 -0.017169  0.027947   \n",
       "217086 -0.000168 -0.013256  0.042876  0.013006  0.009684   \n",
       "196567 -0.034361 -0.006708  0.034340 -0.050754  0.008599   \n",
       "...          ...       ...       ...       ...       ...   \n",
       "385744 -0.046143  0.020856 -0.027365 -0.058251  0.016495   \n",
       "247874  0.000990 -0.055314  0.048026  0.010615 -0.029663   \n",
       "343149 -0.000250 -0.005889 -0.004514  0.037860 -0.026773   \n",
       "331147 -0.051375 -0.020254 -0.010358  0.019955  0.005473   \n",
       "394437  0.062150  0.002206  0.047792  0.011702  0.005510   \n",
       "\n",
       "                                                     text  label  \n",
       "296621    recent breakup of seriors longterm relationship      0  \n",
       "289890  i feel truly bless that they ask me to do it f...      1  \n",
       "95555   i wake up it be dark and he start to make me f...      0  \n",
       "217086  i do know for a fact that gut feel be real lik...      3  \n",
       "196567  im still feel smug about beat that girl who li...      1  \n",
       "...                                                   ...    ...  \n",
       "385744           i still look awful im feel pretty lovely      2  \n",
       "247874  i realise that i didn t feel any pain and i be...      1  \n",
       "343149  i feel like i m look at a strange plant life d...      5  \n",
       "331147       i feel worthless like i rather die in a hole      0  \n",
       "394437           i feel fab a href http fyranyanseravrosa      1  \n",
       "\n",
       "[250085 rows x 770 columns]"
      ]
     },
     "execution_count": 97,
     "metadata": {},
     "output_type": "execute_result"
    }
   ],
   "source": [
    "train"
   ]
  },
  {
   "cell_type": "code",
   "execution_count": 71,
   "id": "80249dc4",
   "metadata": {},
   "outputs": [],
   "source": [
    "#train.groupby('label').count()"
   ]
  },
  {
   "cell_type": "code",
   "execution_count": 72,
   "id": "cef0cfa5",
   "metadata": {},
   "outputs": [],
   "source": [
    "#val.groupby('label').count()"
   ]
  },
  {
   "cell_type": "code",
   "execution_count": 73,
   "id": "0c232d40",
   "metadata": {},
   "outputs": [],
   "source": [
    "#test.groupby('label').count()"
   ]
  },
  {
   "cell_type": "code",
   "execution_count": 75,
   "id": "3beccd5d",
   "metadata": {},
   "outputs": [],
   "source": [
    "# deleting previous dataframe to save memory. from now on we just use train, val and test for modeling\n",
    "del X, y, X_train, X_val, X_test, y_train, y_val, y_test, data, embd_data, encoded_text_df_list, embedded_df"
   ]
  },
  {
   "cell_type": "code",
   "execution_count": null,
   "id": "3458d607",
   "metadata": {},
   "outputs": [],
   "source": []
  }
 ],
 "metadata": {
  "kernelspec": {
   "display_name": "Python 3 (ipykernel)",
   "language": "python",
   "name": "python3"
  },
  "language_info": {
   "codemirror_mode": {
    "name": "ipython",
    "version": 3
   },
   "file_extension": ".py",
   "mimetype": "text/x-python",
   "name": "python",
   "nbconvert_exporter": "python",
   "pygments_lexer": "ipython3",
   "version": "3.9.13"
  }
 },
 "nbformat": 4,
 "nbformat_minor": 5
}
