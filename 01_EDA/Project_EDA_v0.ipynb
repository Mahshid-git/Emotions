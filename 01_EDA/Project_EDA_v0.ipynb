{
 "cells": [
  {
   "cell_type": "code",
   "execution_count": 4,
   "id": "c6a3950c",
   "metadata": {},
   "outputs": [],
   "source": [
    "import pandas as pd\n",
    "import numpy as np\n",
    "import matplotlib.pyplot as plt\n",
    "import math\n",
    "import nltk\n",
    "import re\n",
    "from nltk.corpus import stopwords#, PlainTextCorpusReader\n",
    "from nltk import word_tokenize, ngrams\n",
    "from nltk.stem import WordNetLemmatizer\n",
    "from sklearn import preprocessing\n",
    "from sklearn.model_selection import train_test_split\n",
    "import seaborn as sns\n",
    "import torch\n",
    "from transformers import LlamaTokenizer\n",
    "from sentence_transformers import SentenceTransformer\n",
    "import warnings\n",
    "warnings.filterwarnings('ignore')"
   ]
  },
  {
   "cell_type": "code",
   "execution_count": 37,
   "id": "e808324d",
   "metadata": {
    "collapsed": true
   },
   "outputs": [
    {
     "name": "stdout",
     "output_type": "stream",
     "text": [
      "Collecting sentence_transformers\n",
      "  Downloading sentence_transformers-2.6.1-py3-none-any.whl (163 kB)\n",
      "     -------------------------------------- 163.3/163.3 kB 4.8 MB/s eta 0:00:00\n",
      "Requirement already satisfied: transformers<5.0.0,>=4.32.0 in c:\\users\\mehdi.sadeghi\\anaconda3\\lib\\site-packages (from sentence_transformers) (4.39.3)\n",
      "Requirement already satisfied: Pillow in c:\\users\\mehdi.sadeghi\\anaconda3\\lib\\site-packages (from sentence_transformers) (9.2.0)\n",
      "Requirement already satisfied: scikit-learn in c:\\users\\mehdi.sadeghi\\anaconda3\\lib\\site-packages (from sentence_transformers) (1.0.2)\n",
      "Requirement already satisfied: scipy in c:\\users\\mehdi.sadeghi\\anaconda3\\lib\\site-packages (from sentence_transformers) (1.9.1)\n",
      "Requirement already satisfied: huggingface-hub>=0.15.1 in c:\\users\\mehdi.sadeghi\\anaconda3\\lib\\site-packages (from sentence_transformers) (0.22.2)\n",
      "Requirement already satisfied: tqdm in c:\\users\\mehdi.sadeghi\\anaconda3\\lib\\site-packages (from sentence_transformers) (4.64.1)\n",
      "Requirement already satisfied: torch>=1.11.0 in c:\\users\\mehdi.sadeghi\\anaconda3\\lib\\site-packages (from sentence_transformers) (2.2.2)\n",
      "Requirement already satisfied: numpy in c:\\users\\mehdi.sadeghi\\anaconda3\\lib\\site-packages (from sentence_transformers) (1.21.5)\n",
      "Requirement already satisfied: typing-extensions>=3.7.4.3 in c:\\users\\mehdi.sadeghi\\anaconda3\\lib\\site-packages (from huggingface-hub>=0.15.1->sentence_transformers) (4.11.0)\n",
      "Requirement already satisfied: packaging>=20.9 in c:\\users\\mehdi.sadeghi\\anaconda3\\lib\\site-packages (from huggingface-hub>=0.15.1->sentence_transformers) (21.3)\n",
      "Requirement already satisfied: fsspec>=2023.5.0 in c:\\users\\mehdi.sadeghi\\anaconda3\\lib\\site-packages (from huggingface-hub>=0.15.1->sentence_transformers) (2024.3.1)\n",
      "Requirement already satisfied: pyyaml>=5.1 in c:\\users\\mehdi.sadeghi\\anaconda3\\lib\\site-packages (from huggingface-hub>=0.15.1->sentence_transformers) (6.0)\n",
      "Requirement already satisfied: requests in c:\\users\\mehdi.sadeghi\\anaconda3\\lib\\site-packages (from huggingface-hub>=0.15.1->sentence_transformers) (2.28.1)\n",
      "Requirement already satisfied: filelock in c:\\users\\mehdi.sadeghi\\anaconda3\\lib\\site-packages (from huggingface-hub>=0.15.1->sentence_transformers) (3.6.0)\n",
      "Requirement already satisfied: sympy in c:\\users\\mehdi.sadeghi\\anaconda3\\lib\\site-packages (from torch>=1.11.0->sentence_transformers) (1.10.1)\n",
      "Requirement already satisfied: networkx in c:\\users\\mehdi.sadeghi\\anaconda3\\lib\\site-packages (from torch>=1.11.0->sentence_transformers) (2.8.4)\n",
      "Requirement already satisfied: jinja2 in c:\\users\\mehdi.sadeghi\\anaconda3\\lib\\site-packages (from torch>=1.11.0->sentence_transformers) (2.11.3)\n",
      "Requirement already satisfied: colorama in c:\\users\\mehdi.sadeghi\\anaconda3\\lib\\site-packages (from tqdm->sentence_transformers) (0.4.5)\n",
      "Requirement already satisfied: safetensors>=0.4.1 in c:\\users\\mehdi.sadeghi\\anaconda3\\lib\\site-packages (from transformers<5.0.0,>=4.32.0->sentence_transformers) (0.4.2)\n",
      "Requirement already satisfied: tokenizers<0.19,>=0.14 in c:\\users\\mehdi.sadeghi\\anaconda3\\lib\\site-packages (from transformers<5.0.0,>=4.32.0->sentence_transformers) (0.15.2)\n",
      "Requirement already satisfied: regex!=2019.12.17 in c:\\users\\mehdi.sadeghi\\anaconda3\\lib\\site-packages (from transformers<5.0.0,>=4.32.0->sentence_transformers) (2022.7.9)\n",
      "Requirement already satisfied: threadpoolctl>=2.0.0 in c:\\users\\mehdi.sadeghi\\anaconda3\\lib\\site-packages (from scikit-learn->sentence_transformers) (2.2.0)\n",
      "Requirement already satisfied: joblib>=0.11 in c:\\users\\mehdi.sadeghi\\anaconda3\\lib\\site-packages (from scikit-learn->sentence_transformers) (1.1.0)\n",
      "Requirement already satisfied: pyparsing!=3.0.5,>=2.0.2 in c:\\users\\mehdi.sadeghi\\anaconda3\\lib\\site-packages (from packaging>=20.9->huggingface-hub>=0.15.1->sentence_transformers) (3.0.9)\n",
      "Requirement already satisfied: MarkupSafe>=0.23 in c:\\users\\mehdi.sadeghi\\anaconda3\\lib\\site-packages (from jinja2->torch>=1.11.0->sentence_transformers) (2.0.1)\n",
      "Requirement already satisfied: urllib3<1.27,>=1.21.1 in c:\\users\\mehdi.sadeghi\\anaconda3\\lib\\site-packages (from requests->huggingface-hub>=0.15.1->sentence_transformers) (1.26.11)\n",
      "Requirement already satisfied: idna<4,>=2.5 in c:\\users\\mehdi.sadeghi\\anaconda3\\lib\\site-packages (from requests->huggingface-hub>=0.15.1->sentence_transformers) (3.3)\n",
      "Requirement already satisfied: certifi>=2017.4.17 in c:\\users\\mehdi.sadeghi\\anaconda3\\lib\\site-packages (from requests->huggingface-hub>=0.15.1->sentence_transformers) (2022.9.14)\n",
      "Requirement already satisfied: charset-normalizer<3,>=2 in c:\\users\\mehdi.sadeghi\\anaconda3\\lib\\site-packages (from requests->huggingface-hub>=0.15.1->sentence_transformers) (2.0.4)\n",
      "Requirement already satisfied: mpmath>=0.19 in c:\\users\\mehdi.sadeghi\\anaconda3\\lib\\site-packages (from sympy->torch>=1.11.0->sentence_transformers) (1.2.1)\n",
      "Installing collected packages: sentence_transformers\n",
      "Successfully installed sentence_transformers-2.6.1\n"
     ]
    }
   ],
   "source": [
    "!pip install sentence_transformers"
   ]
  },
  {
   "cell_type": "code",
   "execution_count": 5,
   "id": "f01ca4f8",
   "metadata": {},
   "outputs": [],
   "source": [
    "raw_data=pd.read_csv('text.csv')"
   ]
  },
  {
   "cell_type": "raw",
   "id": "023c00aa",
   "metadata": {},
   "source": [
    "Each entry in this dataset consists of a text segment representing a Twitter message and a corresponding label indicating the predominant emotion conveyed. The emotions are classified into six categories: \n",
    "sadness (0), \n",
    "joy (1), \n",
    "love (2), \n",
    "anger (3), \n",
    "fear (4), \n",
    "surprise (5). Whether you're interested in sentiment analysis, emotion classification, or text mining, this dataset provides a rich foundation for exploring the nuanced emotional landscape within the realm of social media."
   ]
  },
  {
   "cell_type": "code",
   "execution_count": 6,
   "id": "cca041af",
   "metadata": {},
   "outputs": [],
   "source": [
    "class_to_emotion = {0: 'sadness', 1: 'joy', 2: 'love', 3: 'anger', 4: 'fear', 5: 'surprise'}\n",
    "raw_data['emotion'] = raw_data['label'].map(class_to_emotion)\n",
    "\n",
    "category_counts = raw_data['emotion'].value_counts()"
   ]
  },
  {
   "cell_type": "code",
   "execution_count": 7,
   "id": "de619324",
   "metadata": {},
   "outputs": [
    {
     "data": {
      "text/html": [
       "<div>\n",
       "<style scoped>\n",
       "    .dataframe tbody tr th:only-of-type {\n",
       "        vertical-align: middle;\n",
       "    }\n",
       "\n",
       "    .dataframe tbody tr th {\n",
       "        vertical-align: top;\n",
       "    }\n",
       "\n",
       "    .dataframe thead th {\n",
       "        text-align: right;\n",
       "    }\n",
       "</style>\n",
       "<table border=\"1\" class=\"dataframe\">\n",
       "  <thead>\n",
       "    <tr style=\"text-align: right;\">\n",
       "      <th></th>\n",
       "      <th>Unnamed: 0</th>\n",
       "      <th>text</th>\n",
       "      <th>label</th>\n",
       "      <th>emotion</th>\n",
       "    </tr>\n",
       "  </thead>\n",
       "  <tbody>\n",
       "    <tr>\n",
       "      <th>0</th>\n",
       "      <td>0</td>\n",
       "      <td>i just feel really helpless and heavy hearted</td>\n",
       "      <td>4</td>\n",
       "      <td>fear</td>\n",
       "    </tr>\n",
       "    <tr>\n",
       "      <th>1</th>\n",
       "      <td>1</td>\n",
       "      <td>ive enjoyed being able to slouch about relax a...</td>\n",
       "      <td>0</td>\n",
       "      <td>sadness</td>\n",
       "    </tr>\n",
       "    <tr>\n",
       "      <th>2</th>\n",
       "      <td>2</td>\n",
       "      <td>i gave up my internship with the dmrg and am f...</td>\n",
       "      <td>4</td>\n",
       "      <td>fear</td>\n",
       "    </tr>\n",
       "    <tr>\n",
       "      <th>3</th>\n",
       "      <td>3</td>\n",
       "      <td>i dont know i feel so lost</td>\n",
       "      <td>0</td>\n",
       "      <td>sadness</td>\n",
       "    </tr>\n",
       "    <tr>\n",
       "      <th>4</th>\n",
       "      <td>4</td>\n",
       "      <td>i am a kindergarten teacher and i am thoroughl...</td>\n",
       "      <td>4</td>\n",
       "      <td>fear</td>\n",
       "    </tr>\n",
       "    <tr>\n",
       "      <th>...</th>\n",
       "      <td>...</td>\n",
       "      <td>...</td>\n",
       "      <td>...</td>\n",
       "      <td>...</td>\n",
       "    </tr>\n",
       "    <tr>\n",
       "      <th>416804</th>\n",
       "      <td>416804</td>\n",
       "      <td>i feel like telling these horny devils to find...</td>\n",
       "      <td>2</td>\n",
       "      <td>love</td>\n",
       "    </tr>\n",
       "    <tr>\n",
       "      <th>416805</th>\n",
       "      <td>416805</td>\n",
       "      <td>i began to realize that when i was feeling agi...</td>\n",
       "      <td>3</td>\n",
       "      <td>anger</td>\n",
       "    </tr>\n",
       "    <tr>\n",
       "      <th>416806</th>\n",
       "      <td>416806</td>\n",
       "      <td>i feel very curious be why previous early dawn...</td>\n",
       "      <td>5</td>\n",
       "      <td>surprise</td>\n",
       "    </tr>\n",
       "    <tr>\n",
       "      <th>416807</th>\n",
       "      <td>416807</td>\n",
       "      <td>i feel that becuase of the tyranical nature of...</td>\n",
       "      <td>3</td>\n",
       "      <td>anger</td>\n",
       "    </tr>\n",
       "    <tr>\n",
       "      <th>416808</th>\n",
       "      <td>416808</td>\n",
       "      <td>i think that after i had spent some time inves...</td>\n",
       "      <td>5</td>\n",
       "      <td>surprise</td>\n",
       "    </tr>\n",
       "  </tbody>\n",
       "</table>\n",
       "<p>416809 rows × 4 columns</p>\n",
       "</div>"
      ],
      "text/plain": [
       "        Unnamed: 0                                               text  label  \\\n",
       "0                0      i just feel really helpless and heavy hearted      4   \n",
       "1                1  ive enjoyed being able to slouch about relax a...      0   \n",
       "2                2  i gave up my internship with the dmrg and am f...      4   \n",
       "3                3                         i dont know i feel so lost      0   \n",
       "4                4  i am a kindergarten teacher and i am thoroughl...      4   \n",
       "...            ...                                                ...    ...   \n",
       "416804      416804  i feel like telling these horny devils to find...      2   \n",
       "416805      416805  i began to realize that when i was feeling agi...      3   \n",
       "416806      416806  i feel very curious be why previous early dawn...      5   \n",
       "416807      416807  i feel that becuase of the tyranical nature of...      3   \n",
       "416808      416808  i think that after i had spent some time inves...      5   \n",
       "\n",
       "         emotion  \n",
       "0           fear  \n",
       "1        sadness  \n",
       "2           fear  \n",
       "3        sadness  \n",
       "4           fear  \n",
       "...          ...  \n",
       "416804      love  \n",
       "416805     anger  \n",
       "416806  surprise  \n",
       "416807     anger  \n",
       "416808  surprise  \n",
       "\n",
       "[416809 rows x 4 columns]"
      ]
     },
     "execution_count": 7,
     "metadata": {},
     "output_type": "execute_result"
    }
   ],
   "source": [
    "raw_data"
   ]
  },
  {
   "cell_type": "code",
   "execution_count": 8,
   "id": "a20d57cc",
   "metadata": {},
   "outputs": [
    {
     "data": {
      "image/png": "[encoded data removed]",
      "text/plain": [
       "<Figure size 800x600 with 1 Axes>"
      ]
     },
     "metadata": {},
     "output_type": "display_data"
    }
   ],
   "source": [
    "plt.figure(figsize=(8, 6))\n",
    "#category_counts.plot(kind='bar')#, color='skyblue')  # Create the bar plot\n",
    "plt.title('Bar Plot of emotion counts')\n",
    "sns.countplot(data=raw_data, x='emotion', palette='hsv') \n",
    "plt.xlabel('Emotions')\n",
    "plt.ylabel('Count')\n",
    "plt.xticks(rotation=0)\n",
    "plt.grid(axis='y', linestyle='--', alpha=0.7)\n",
    "plt.show()"
   ]
  },
  {
   "cell_type": "raw",
   "id": "83afb32f",
   "metadata": {},
   "source": [
    "It looks like we have an imbalanced dataset. Therefore, we may consider further processing data to balance the dataset. First we process everything without balancing data and later we can balance the dataset to improve the performance of our baseline model if needed."
   ]
  },
  {
   "cell_type": "code",
   "execution_count": 9,
   "id": "75762ba9",
   "metadata": {},
   "outputs": [
    {
     "data": {
      "text/html": [
       "<div>\n",
       "<style scoped>\n",
       "    .dataframe tbody tr th:only-of-type {\n",
       "        vertical-align: middle;\n",
       "    }\n",
       "\n",
       "    .dataframe tbody tr th {\n",
       "        vertical-align: top;\n",
       "    }\n",
       "\n",
       "    .dataframe thead th {\n",
       "        text-align: right;\n",
       "    }\n",
       "</style>\n",
       "<table border=\"1\" class=\"dataframe\">\n",
       "  <thead>\n",
       "    <tr style=\"text-align: right;\">\n",
       "      <th></th>\n",
       "      <th>Unnamed: 0</th>\n",
       "      <th>text</th>\n",
       "      <th>label</th>\n",
       "      <th>emotion</th>\n",
       "    </tr>\n",
       "  </thead>\n",
       "  <tbody>\n",
       "    <tr>\n",
       "      <th>0</th>\n",
       "      <td>0</td>\n",
       "      <td>i just feel really helpless and heavy hearted</td>\n",
       "      <td>4</td>\n",
       "      <td>fear</td>\n",
       "    </tr>\n",
       "    <tr>\n",
       "      <th>1</th>\n",
       "      <td>1</td>\n",
       "      <td>ive enjoyed being able to slouch about relax a...</td>\n",
       "      <td>0</td>\n",
       "      <td>sadness</td>\n",
       "    </tr>\n",
       "    <tr>\n",
       "      <th>2</th>\n",
       "      <td>2</td>\n",
       "      <td>i gave up my internship with the dmrg and am f...</td>\n",
       "      <td>4</td>\n",
       "      <td>fear</td>\n",
       "    </tr>\n",
       "    <tr>\n",
       "      <th>3</th>\n",
       "      <td>3</td>\n",
       "      <td>i dont know i feel so lost</td>\n",
       "      <td>0</td>\n",
       "      <td>sadness</td>\n",
       "    </tr>\n",
       "    <tr>\n",
       "      <th>4</th>\n",
       "      <td>4</td>\n",
       "      <td>i am a kindergarten teacher and i am thoroughl...</td>\n",
       "      <td>4</td>\n",
       "      <td>fear</td>\n",
       "    </tr>\n",
       "  </tbody>\n",
       "</table>\n",
       "</div>"
      ],
      "text/plain": [
       "   Unnamed: 0                                               text  label  \\\n",
       "0           0      i just feel really helpless and heavy hearted      4   \n",
       "1           1  ive enjoyed being able to slouch about relax a...      0   \n",
       "2           2  i gave up my internship with the dmrg and am f...      4   \n",
       "3           3                         i dont know i feel so lost      0   \n",
       "4           4  i am a kindergarten teacher and i am thoroughl...      4   \n",
       "\n",
       "   emotion  \n",
       "0     fear  \n",
       "1  sadness  \n",
       "2     fear  \n",
       "3  sadness  \n",
       "4     fear  "
      ]
     },
     "execution_count": 9,
     "metadata": {},
     "output_type": "execute_result"
    }
   ],
   "source": [
    "raw_data.head()"
   ]
  },
  {
   "cell_type": "code",
   "execution_count": 10,
   "id": "f4ffd5f1",
   "metadata": {},
   "outputs": [
    {
     "data": {
      "text/plain": [
       "(416809, 4)"
      ]
     },
     "execution_count": 10,
     "metadata": {},
     "output_type": "execute_result"
    }
   ],
   "source": [
    "raw_data.shape"
   ]
  },
  {
   "cell_type": "code",
   "execution_count": 11,
   "id": "9dc9bdb1",
   "metadata": {},
   "outputs": [],
   "source": [
    "data=raw_data[['text', 'label']]"
   ]
  },
  {
   "cell_type": "code",
   "execution_count": 12,
   "id": "82044270",
   "metadata": {},
   "outputs": [
    {
     "data": {
      "text/html": [
       "<div>\n",
       "<style scoped>\n",
       "    .dataframe tbody tr th:only-of-type {\n",
       "        vertical-align: middle;\n",
       "    }\n",
       "\n",
       "    .dataframe tbody tr th {\n",
       "        vertical-align: top;\n",
       "    }\n",
       "\n",
       "    .dataframe thead th {\n",
       "        text-align: right;\n",
       "    }\n",
       "</style>\n",
       "<table border=\"1\" class=\"dataframe\">\n",
       "  <thead>\n",
       "    <tr style=\"text-align: right;\">\n",
       "      <th></th>\n",
       "      <th>text</th>\n",
       "    </tr>\n",
       "    <tr>\n",
       "      <th>label</th>\n",
       "      <th></th>\n",
       "    </tr>\n",
       "  </thead>\n",
       "  <tbody>\n",
       "    <tr>\n",
       "      <th>0</th>\n",
       "      <td>121187</td>\n",
       "    </tr>\n",
       "    <tr>\n",
       "      <th>1</th>\n",
       "      <td>141067</td>\n",
       "    </tr>\n",
       "    <tr>\n",
       "      <th>2</th>\n",
       "      <td>34554</td>\n",
       "    </tr>\n",
       "    <tr>\n",
       "      <th>3</th>\n",
       "      <td>57317</td>\n",
       "    </tr>\n",
       "    <tr>\n",
       "      <th>4</th>\n",
       "      <td>47712</td>\n",
       "    </tr>\n",
       "    <tr>\n",
       "      <th>5</th>\n",
       "      <td>14972</td>\n",
       "    </tr>\n",
       "  </tbody>\n",
       "</table>\n",
       "</div>"
      ],
      "text/plain": [
       "         text\n",
       "label        \n",
       "0      121187\n",
       "1      141067\n",
       "2       34554\n",
       "3       57317\n",
       "4       47712\n",
       "5       14972"
      ]
     },
     "execution_count": 12,
     "metadata": {},
     "output_type": "execute_result"
    }
   ],
   "source": [
    "data.groupby('label').count()"
   ]
  },
  {
   "cell_type": "code",
   "execution_count": 13,
   "id": "3f37c3d0",
   "metadata": {},
   "outputs": [],
   "source": [
    "data['text'] = data['text'].astype(str)\n",
    "data['text'] = data['text'].str.lower()\n",
    "data['text'] = data['text'].str.replace('[^\\w\\s]','')"
   ]
  },
  {
   "cell_type": "code",
   "execution_count": 14,
   "id": "2a117911",
   "metadata": {},
   "outputs": [
    {
     "name": "stderr",
     "output_type": "stream",
     "text": [
      "[nltk_data] Downloading package omw-1.4 to\n",
      "[nltk_data]     C:\\Users\\mehdi.sadeghi\\AppData\\Roaming\\nltk_data...\n",
      "[nltk_data]   Package omw-1.4 is already up-to-date!\n"
     ]
    },
    {
     "data": {
      "text/plain": [
       "True"
      ]
     },
     "execution_count": 14,
     "metadata": {},
     "output_type": "execute_result"
    }
   ],
   "source": [
    "nltk.download('omw-1.4')"
   ]
  },
  {
   "cell_type": "code",
   "execution_count": 15,
   "id": "c851bea7",
   "metadata": {},
   "outputs": [
    {
     "name": "stderr",
     "output_type": "stream",
     "text": [
      "[nltk_data] Downloading package punkt to\n",
      "[nltk_data]     C:\\Users\\mehdi.sadeghi\\AppData\\Roaming\\nltk_data...\n",
      "[nltk_data]   Package punkt is already up-to-date!\n",
      "[nltk_data] Downloading package stopwords to\n",
      "[nltk_data]     C:\\Users\\mehdi.sadeghi\\AppData\\Roaming\\nltk_data...\n",
      "[nltk_data]   Package stopwords is already up-to-date!\n",
      "[nltk_data] Downloading package wordnet to\n",
      "[nltk_data]     C:\\Users\\mehdi.sadeghi\\AppData\\Roaming\\nltk_data...\n",
      "[nltk_data]   Package wordnet is already up-to-date!\n"
     ]
    }
   ],
   "source": [
    "nltk.download('punkt')\n",
    "nltk.download('stopwords')\n",
    "nltk.download('wordnet')\n",
    "wordnet_lemmatizer = WordNetLemmatizer()\n",
    "stop = stopwords.words('english')"
   ]
  },
  {
   "cell_type": "code",
   "execution_count": 16,
   "id": "532e0eea",
   "metadata": {},
   "outputs": [],
   "source": [
    "nrows=len(data)\n",
    "\n",
    "lematized_text_list=[]\n",
    "for row in range (0,nrows):\n",
    "    lemmatized_list = []\n",
    "    text = data.loc[row]['text']\n",
    "    text_words = text.split(\" \")\n",
    "    # Iterate through every word to lemmatize\n",
    "    for word in text_words:\n",
    "        lemmatized_list.append(wordnet_lemmatizer.lemmatize(word, pos=\"v\"))\n",
    "        \n",
    "    lemmatized_text = \" \".join(lemmatized_list)\n",
    "    \n",
    "    # Append to the list containing the texts\n",
    "    lematized_text_list.append(lemmatized_text)\n",
    "    \n",
    "data['text_lemmatized'] = lematized_text_list"
   ]
  },
  {
   "cell_type": "code",
   "execution_count": 19,
   "id": "bf98ce70",
   "metadata": {},
   "outputs": [],
   "source": [
    "def remove_stopwords(text):\n",
    "    # Tokenize the text into words\n",
    "    words = nltk.word_tokenize(text)\n",
    "    filtered_words = [word for word in words if word.lower() not in stop]\n",
    "    filtered_text = ' '.join(filtered_words)\n",
    "    \n",
    "    return filtered_text\n",
    "data['text_WO_stopwords'] = data['text_lemmatized'].apply(remove_stopwords)"
   ]
  },
  {
   "cell_type": "code",
   "execution_count": 20,
   "id": "250b04fd",
   "metadata": {
    "scrolled": true
   },
   "outputs": [
    {
     "data": {
      "text/html": [
       "<div>\n",
       "<style scoped>\n",
       "    .dataframe tbody tr th:only-of-type {\n",
       "        vertical-align: middle;\n",
       "    }\n",
       "\n",
       "    .dataframe tbody tr th {\n",
       "        vertical-align: top;\n",
       "    }\n",
       "\n",
       "    .dataframe thead th {\n",
       "        text-align: right;\n",
       "    }\n",
       "</style>\n",
       "<table border=\"1\" class=\"dataframe\">\n",
       "  <thead>\n",
       "    <tr style=\"text-align: right;\">\n",
       "      <th></th>\n",
       "      <th>text</th>\n",
       "      <th>label</th>\n",
       "      <th>text_lemmatized</th>\n",
       "      <th>text_WO_stopwords</th>\n",
       "    </tr>\n",
       "  </thead>\n",
       "  <tbody>\n",
       "    <tr>\n",
       "      <th>0</th>\n",
       "      <td>i just feel really helpless and heavy hearted</td>\n",
       "      <td>4</td>\n",
       "      <td>i just feel really helpless and heavy hearted</td>\n",
       "      <td>feel really helpless heavy hearted</td>\n",
       "    </tr>\n",
       "    <tr>\n",
       "      <th>1</th>\n",
       "      <td>ive enjoyed being able to slouch about relax a...</td>\n",
       "      <td>0</td>\n",
       "      <td>ive enjoy be able to slouch about relax and un...</td>\n",
       "      <td>ive enjoy able slouch relax unwind frankly nee...</td>\n",
       "    </tr>\n",
       "    <tr>\n",
       "      <th>2</th>\n",
       "      <td>i gave up my internship with the dmrg and am f...</td>\n",
       "      <td>4</td>\n",
       "      <td>i give up my internship with the dmrg and be f...</td>\n",
       "      <td>give internship dmrg feel distraught</td>\n",
       "    </tr>\n",
       "    <tr>\n",
       "      <th>3</th>\n",
       "      <td>i dont know i feel so lost</td>\n",
       "      <td>0</td>\n",
       "      <td>i dont know i feel so lose</td>\n",
       "      <td>dont know feel lose</td>\n",
       "    </tr>\n",
       "    <tr>\n",
       "      <th>4</th>\n",
       "      <td>i am a kindergarten teacher and i am thoroughl...</td>\n",
       "      <td>4</td>\n",
       "      <td>i be a kindergarten teacher and i be thoroughl...</td>\n",
       "      <td>kindergarten teacher thoroughly weary job take...</td>\n",
       "    </tr>\n",
       "  </tbody>\n",
       "</table>\n",
       "</div>"
      ],
      "text/plain": [
       "                                                text  label  \\\n",
       "0      i just feel really helpless and heavy hearted      4   \n",
       "1  ive enjoyed being able to slouch about relax a...      0   \n",
       "2  i gave up my internship with the dmrg and am f...      4   \n",
       "3                         i dont know i feel so lost      0   \n",
       "4  i am a kindergarten teacher and i am thoroughl...      4   \n",
       "\n",
       "                                     text_lemmatized  \\\n",
       "0      i just feel really helpless and heavy hearted   \n",
       "1  ive enjoy be able to slouch about relax and un...   \n",
       "2  i give up my internship with the dmrg and be f...   \n",
       "3                         i dont know i feel so lose   \n",
       "4  i be a kindergarten teacher and i be thoroughl...   \n",
       "\n",
       "                                   text_WO_stopwords  \n",
       "0                 feel really helpless heavy hearted  \n",
       "1  ive enjoy able slouch relax unwind frankly nee...  \n",
       "2               give internship dmrg feel distraught  \n",
       "3                                dont know feel lose  \n",
       "4  kindergarten teacher thoroughly weary job take...  "
      ]
     },
     "execution_count": 20,
     "metadata": {},
     "output_type": "execute_result"
    }
   ],
   "source": [
    "data.head()"
   ]
  },
  {
   "cell_type": "code",
   "execution_count": 21,
   "id": "2cc04646",
   "metadata": {},
   "outputs": [],
   "source": [
    "data.to_csv('./clean_text.csv')"
   ]
  },
  {
   "cell_type": "markdown",
   "id": "5c40d2a1",
   "metadata": {},
   "source": [
    "# Data Embedding for LLM"
   ]
  },
  {
   "cell_type": "markdown",
   "id": "389e44de",
   "metadata": {},
   "source": [
    "Tried two different pre-trained embedding models with different sizes. The first one is the sentence-transformers/all-mpnet-base-v2 model. The second one is the paraprase-MiniLM-L6-v2 model. \n",
    "Mpnet-base-v2 is a 768 dimensional vectors while MiniLM-L6-v2 is a 384 dimensional vectors. AI ran Llama models on both embedding datasets. The Mpnet result were better comparing on accuracy.pnet more likely will result better."
   ]
  },
  {
   "cell_type": "code",
   "execution_count": 22,
   "id": "acab34db",
   "metadata": {
    "scrolled": true
   },
   "outputs": [
    {
     "name": "stdout",
     "output_type": "stream",
     "text": [
      "cpu\n"
     ]
    },
    {
     "data": {
      "text/plain": [
       "SentenceTransformer(\n",
       "  (0): Transformer({'max_seq_length': 384, 'do_lower_case': False}) with Transformer model: MPNetModel \n",
       "  (1): Pooling({'word_embedding_dimension': 768, 'pooling_mode_cls_token': False, 'pooling_mode_mean_tokens': True, 'pooling_mode_max_tokens': False, 'pooling_mode_mean_sqrt_len_tokens': False, 'pooling_mode_weightedmean_tokens': False, 'pooling_mode_lasttoken': False, 'include_prompt': True})\n",
       "  (2): Normalize()\n",
       ")"
      ]
     },
     "execution_count": 22,
     "metadata": {},
     "output_type": "execute_result"
    }
   ],
   "source": [
    "model = SentenceTransformer('sentence-transformers/all-mpnet-base-v2')\n",
    "device=torch.device('cuda' if torch.cuda.is_available() else \"cpu\")\n",
    "print(device)\n",
    "model.to(device)"
   ]
  },
  {
   "cell_type": "code",
   "execution_count": 43,
   "id": "3653f004",
   "metadata": {
    "collapsed": true
   },
   "outputs": [
    {
     "name": "stdout",
     "output_type": "stream",
     "text": [
      "cpu\n"
     ]
    },
    {
     "data": {
      "text/plain": [
       "SentenceTransformer(\n",
       "  (0): Transformer({'max_seq_length': 128, 'do_lower_case': False}) with Transformer model: BertModel \n",
       "  (1): Pooling({'word_embedding_dimension': 384, 'pooling_mode_cls_token': False, 'pooling_mode_mean_tokens': True, 'pooling_mode_max_tokens': False, 'pooling_mode_mean_sqrt_len_tokens': False, 'pooling_mode_weightedmean_tokens': False, 'pooling_mode_lasttoken': False, 'include_prompt': True})\n",
       ")"
      ]
     },
     "execution_count": 43,
     "metadata": {},
     "output_type": "execute_result"
    }
   ],
   "source": [
    "model = SentenceTransformer('paraphrase-MiniLM-L6-v2')#'sentence-transformers/all_mpnet_base_v2')\n",
    "device=torch.device('cuda' if torch.cuda.is_available() else \"cpu\")\n",
    "print(device)\n",
    "model.to(device)"
   ]
  },
  {
   "cell_type": "code",
   "execution_count": 23,
   "id": "02859bb9",
   "metadata": {},
   "outputs": [
    {
     "name": "stdout",
     "output_type": "stream",
     "text": [
      "416809\n"
     ]
    }
   ],
   "source": [
    "max_i=data.shape[0]\n",
    "print(max_i)\n",
    "batch_size=50000\n",
    "num_batches=int(max_i/batch_size)\n",
    "iloc_indexes=[x*batch_size for x in range(num_batches+1)]"
   ]
  },
  {
   "cell_type": "code",
   "execution_count": 24,
   "id": "55eb7181",
   "metadata": {},
   "outputs": [
    {
     "name": "stdout",
     "output_type": "stream",
     "text": [
      "8\n"
     ]
    }
   ],
   "source": [
    "print(num_batches)"
   ]
  },
  {
   "cell_type": "raw",
   "id": "63e74da9",
   "metadata": {},
   "source": [
    "import os\n",
    "os.makedirs('embeddings')"
   ]
  },
  {
   "cell_type": "code",
   "execution_count": null,
   "id": "190a2679",
   "metadata": {},
   "outputs": [],
   "source": [
    "encoded_text_df_list=[]\n",
    "n=len(data)\n",
    "for i in iloc_indexes:\n",
    "    if i+batch_size>max_i:\n",
    "        end_i=max_i\n",
    "    else:\n",
    "        end_i=i+batch_size\n",
    "    text=data.iloc[i:end_i]['text_WO_stopwords'].values\n",
    "    embeddings=model.encode(text)\n",
    "    embedded_df=pd.DataFrame(embeddings)\n",
    "    embedded_df.columns=['c_' + str(col) for col in embedded_df.columns]\n",
    "    embedded_df['text_WO_stopwords'] = text\n",
    "    embedded_df['text']=data.iloc[i:end_i]['text'].values\n",
    "    embedded_df['label']=data.iloc[i:end_i]['label'].values\n",
    "    encoded_text_df_list.append(embedded_df)\n",
    "    r=1200000-(n%1000000)\n",
    "    if ((i!=0) and (i%1000000==0)) or (i+batch_size>max_i):\n",
    "        pd.concat(encoded_text_df_list, ignore_index=True).to_csv('embeddings/mpnet_embed_df_part'+str(i)+'.csv', index=False)\n",
    "        #pd.concat(encoded_text_df_list, ignore_index=True).to_parquet('embeddings/mpnet_embed_pq.gzip', compression='gzip')\n",
    "        print('the first part of data is done and saved')\n",
    "       "
   ]
  },
  {
   "cell_type": "markdown",
   "id": "fbf93ab6",
   "metadata": {},
   "source": [
    "## Data Partitioning"
   ]
  },
  {
   "cell_type": "markdown",
   "id": "b3f16aab",
   "metadata": {},
   "source": [
    "we use Stratified random partitioning as we are dealing with imbalanced dataset. This is a valuable technique for dividing a dataset into training, validation, and test sets while ensuring that each subset maintains the same class distribution as the original dataset. This approach is particularly beneficial when working with imbalanced datasets, where certain classes are less represented than others. By stratifying the partitions based on the target variable's classes, we can create subsets that accurately reflect the overall dataset's class proportions. This strategy helps in training models that generalize well across different classes and avoid biases towards the majority class."
   ]
  },
  {
   "cell_type": "code",
   "execution_count": 61,
   "id": "aca2d150",
   "metadata": {},
   "outputs": [],
   "source": [
    "embd_data=pd.read_csv('embeddings/mpnet_embed_df.csv')"
   ]
  },
  {
   "cell_type": "code",
   "execution_count": 67,
   "id": "7f30f58c",
   "metadata": {},
   "outputs": [],
   "source": [
    "X = embd_data.drop('label', axis=1)\n",
    "y = embd_data['label']\n",
    "\n",
    "X_train, X_test, y_train, y_test = train_test_split(X, y, test_size=0.25, random_state=42, stratify=y)\n",
    "train = pd.concat([X_train, y_train], axis=1)\n",
    "test = pd.concat([X_test, y_test], axis=1)"
   ]
  },
  {
   "cell_type": "markdown",
   "id": "df41634c",
   "metadata": {},
   "source": [
    "I have done data partitioning as part of the modeling notebook. therefore, I have not saved the partitioned data from here."
   ]
  },
  {
   "cell_type": "code",
   "execution_count": null,
   "id": "d2470d4e",
   "metadata": {},
   "outputs": [],
   "source": []
  }
 ],
 "metadata": {
  "kernelspec": {
   "display_name": "Python 3 (ipykernel)",
   "language": "python",
   "name": "python3"
  },
  "language_info": {
   "codemirror_mode": {
    "name": "ipython",
    "version": 3
   },
   "file_extension": ".py",
   "mimetype": "text/x-python",
   "name": "python",
   "nbconvert_exporter": "python",
   "pygments_lexer": "ipython3",
   "version": "3.9.13"
  }
 },
 "nbformat": 4,
 "nbformat_minor": 5
}
