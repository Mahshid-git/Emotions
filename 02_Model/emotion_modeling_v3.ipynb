{
 "cells": [
  {
   "cell_type": "markdown",
   "id": "c811807a",
   "metadata": {},
   "source": [
    "In this notebook, I used clean_text_final data and runing a model with different parameters on both clean data and balanced data as well. Used 3 different methods for balancing data for comparison including \"SMOTE\", \"ADASYN\" and \"Random OverSampling\" methods."
   ]
  },
  {
   "cell_type": "code",
   "execution_count": 1,
   "id": "5b2b8849",
   "metadata": {
    "tags": []
   },
   "outputs": [
    {
     "name": "stderr",
     "output_type": "stream",
     "text": [
      "[nltk_data] Downloading package punkt to\n",
      "[nltk_data]     C:\\Users\\mehdi.sadeghi\\AppData\\Roaming\\nltk_data...\n",
      "[nltk_data]   Package punkt is already up-to-date!\n",
      "[nltk_data] Downloading package stopwords to\n",
      "[nltk_data]     C:\\Users\\mehdi.sadeghi\\AppData\\Roaming\\nltk_data...\n",
      "[nltk_data]   Package stopwords is already up-to-date!\n"
     ]
    }
   ],
   "source": [
    "import pandas as pd\n",
    "import numpy as np\n",
    "import matplotlib.pyplot as plt\n",
    "import math\n",
    "import nltk\n",
    "import re\n",
    "from nltk.corpus import stopwords#, PlainTextCorpusReader\n",
    "from nltk import word_tokenize, ngrams\n",
    "from nltk.stem import WordNetLemmatizer, PorterStemmer\n",
    "from sklearn import preprocessing\n",
    "from sklearn.model_selection import train_test_split\n",
    "import seaborn as sns\n",
    "from datetime import datetime, date, timedelta\n",
    "from sklearn.metrics import confusion_matrix, accuracy_score, classification_report, balanced_accuracy_score, f1_score\n",
    "from imblearn.over_sampling import SMOTE, ADASYN, RandomOverSampler\n",
    "from nltk.tokenize import word_tokenize\n",
    "from nltk.stem.snowball import SnowballStemmer\n",
    "\n",
    "from keras.preprocessing import sequence\n",
    "from tensorflow.keras.optimizers import Adam\n",
    "from tensorflow.keras.losses import SparseCategoricalCrossentropy\n",
    "from tensorflow.keras.layers import Embedding, LSTM, Bidirectional, Dense, Dropout, BatchNormalization\n",
    "\n",
    "from sklearn.model_selection import train_test_split\n",
    "from sklearn.metrics import confusion_matrix\n",
    "\n",
    "from tensorflow.keras.callbacks import EarlyStopping\n",
    "from tensorflow.keras.models import Sequential\n",
    "from tensorflow.keras.layers import *\n",
    "from tensorflow.keras.preprocessing.sequence import pad_sequences\n",
    "from tensorflow.keras.preprocessing.text import Tokenizer\n",
    "from collections import Counter\n",
    "import json\n",
    "\n",
    "nltk.download('punkt')\n",
    "nltk.download('stopwords')\n",
    "\n",
    "import warnings\n",
    "warnings.filterwarnings('ignore')"
   ]
  },
  {
   "cell_type": "code",
   "execution_count": 2,
   "id": "fb4285ea",
   "metadata": {},
   "outputs": [
    {
     "data": {
      "text/plain": [
       "'C:\\\\Users\\\\mehdi.sadeghi\\\\OneDrive - Georgia Institute of Technology\\\\Gatech\\\\ISYE 6740\\\\Project\\\\archive'"
      ]
     },
     "execution_count": 2,
     "metadata": {},
     "output_type": "execute_result"
    }
   ],
   "source": [
    "import os\n",
    "os.getcwd()"
   ]
  },
  {
   "cell_type": "code",
   "execution_count": 3,
   "id": "5717ed7a",
   "metadata": {},
   "outputs": [
    {
     "name": "stdout",
     "output_type": "stream",
     "text": [
      "Current Working Directory: C:\\Users\\mehdi.sadeghi\\OneDrive - Georgia Institute of Technology\\Gatech\\ISYE 6740\\Project\\Emotions-main\\Emotions-main\\02_Model\n"
     ]
    }
   ],
   "source": [
    "new_directory = 'C:\\\\Users\\\\mehdi.sadeghi\\\\OneDrive - Georgia Institute of Technology\\\\Gatech\\\\ISYE 6740\\\\Project\\\\Emotions-main\\\\Emotions-main\\\\02_Model'\n",
    "\n",
    "# Change the current working directory\n",
    "os.chdir(new_directory)\n",
    "\n",
    "# Verify the current working directory\n",
    "current_directory = os.getcwd()\n",
    "print(\"Current Working Directory:\", current_directory)"
   ]
  },
  {
   "cell_type": "markdown",
   "id": "5a4ae779",
   "metadata": {},
   "source": [
    "# Keras tokenizer and Tensorflow model"
   ]
  },
  {
   "cell_type": "code",
   "execution_count": 5,
   "id": "00e578a7",
   "metadata": {},
   "outputs": [],
   "source": [
    "def result_plot(results, name): # name is a string of 'accuracy' or 'loss'\n",
    "    best_epoch = results.history['val_accuracy'].index(max(results.history['val_accuracy'])) + 1\n",
    "    plt.figure(figsize=(10, 6))\n",
    "\n",
    "    # Plot training and validation accuracy/loss\n",
    "    epochs = range(1, len(results.history[name]) + 1)\n",
    "    plt.plot(epochs, results.history[name], label='Training '+name, color='blue')\n",
    "    plt.plot(epochs, results.history['val_'+name], label='Validation '+name, color='red')\n",
    "    plt.scatter(best_epoch, results.history['val_'+name][best_epoch - 1], color='green', label=f'Best Epoch: {best_epoch}')\n",
    "\n",
    "    plt.xlabel('Epoch', fontsize=14)\n",
    "    plt.ylabel(name.capitalize(), fontsize=14)\n",
    "    plt.title('Training and Validation '+name.capitalize(), fontsize=16)\n",
    "    plt.legend(fontsize=12)\n",
    "    plt.xticks(epochs, fontsize=14)  # Increase font size for x-ticks\n",
    "    plt.yticks(fontsize=14)\n",
    "\n",
    "    plt.tight_layout()\n",
    "    plt.show()"
   ]
  },
  {
   "cell_type": "code",
   "execution_count": 45,
   "id": "fa390172",
   "metadata": {},
   "outputs": [],
   "source": [
    "from sklearn.metrics import accuracy_score, f1_score, confusion_matrix, recall_score\n",
    "def evaluate_model(model, X_test_pd):\n",
    "    predictions =model.predict(X_test_pd)\n",
    "    predicted_classes = np.argmax(predictions, axis=1)\n",
    "    test_accuracy = accuracy_score(y_test, predicted_classes)\n",
    "    print(f\"Test Accuracy: {test_accuracy:.4f}\")\n",
    "    f1 = f1_score(y_test, predicted_classes, average='weighted')\n",
    "    print(f\"F1-Score: {f1:.4f}\")\n",
    "    \n",
    "    conf_matrix = confusion_matrix(y_test, predicted_classes)\n",
    "    print(\"Confusion Matrix:\")\n",
    "    print(conf_matrix)\n",
    "    \n",
    "    recall = recall_score(y_test, predicted_classes, average=None)\n",
    "    print(\"Recall for Each Class:\")\n",
    "    for i, rec in enumerate(recall):\n",
    "        print(f\"Class {i}: {rec:.4f}\")\n",
    "    \n",
    "    num_classes = len(np.unique(y_test))\n",
    "\n",
    "    accuracy_per_class = []\n",
    "    for class_label in range(num_classes):\n",
    "        indices = np.where(y_test == class_label)[0]\n",
    "    # Extract predictions and true labels for the current class\n",
    "        class_y_test = y_test[indices]\n",
    "        class_y_pred = predicted_classes[indices]\n",
    "    # Calculate accuracy for the current class\n",
    "        accuracy = accuracy_score(class_y_test, class_y_pred)\n",
    "        print(f\"Accuracy for class label \",class_label, ' is: ', accuracy)"
   ]
  },
  {
   "cell_type": "code",
   "execution_count": 7,
   "id": "edc685bd",
   "metadata": {},
   "outputs": [
    {
     "data": {
      "text/html": [
       "<div>\n",
       "<style scoped>\n",
       "    .dataframe tbody tr th:only-of-type {\n",
       "        vertical-align: middle;\n",
       "    }\n",
       "\n",
       "    .dataframe tbody tr th {\n",
       "        vertical-align: top;\n",
       "    }\n",
       "\n",
       "    .dataframe thead th {\n",
       "        text-align: right;\n",
       "    }\n",
       "</style>\n",
       "<table border=\"1\" class=\"dataframe\">\n",
       "  <thead>\n",
       "    <tr style=\"text-align: right;\">\n",
       "      <th></th>\n",
       "      <th>Unnamed: 0.1</th>\n",
       "      <th>Unnamed: 0</th>\n",
       "      <th>text</th>\n",
       "      <th>label</th>\n",
       "      <th>clean_text</th>\n",
       "    </tr>\n",
       "  </thead>\n",
       "  <tbody>\n",
       "    <tr>\n",
       "      <th>416788</th>\n",
       "      <td>416804</td>\n",
       "      <td>416804</td>\n",
       "      <td>i feel like telling these horny devils to find...</td>\n",
       "      <td>2</td>\n",
       "      <td>feel like tell horny devil find site suit sort...</td>\n",
       "    </tr>\n",
       "    <tr>\n",
       "      <th>416789</th>\n",
       "      <td>416805</td>\n",
       "      <td>416805</td>\n",
       "      <td>i began to realize that when i was feeling agi...</td>\n",
       "      <td>3</td>\n",
       "      <td>begin realize feel agitate restless think go dish</td>\n",
       "    </tr>\n",
       "    <tr>\n",
       "      <th>416790</th>\n",
       "      <td>416806</td>\n",
       "      <td>416806</td>\n",
       "      <td>i feel very curious be why previous early dawn...</td>\n",
       "      <td>5</td>\n",
       "      <td>feel curious previous early dawn time seek tro...</td>\n",
       "    </tr>\n",
       "    <tr>\n",
       "      <th>416791</th>\n",
       "      <td>416807</td>\n",
       "      <td>416807</td>\n",
       "      <td>i feel that becuase of the tyranical nature of...</td>\n",
       "      <td>3</td>\n",
       "      <td>feel because tyrannical nature government el s...</td>\n",
       "    </tr>\n",
       "    <tr>\n",
       "      <th>416792</th>\n",
       "      <td>416808</td>\n",
       "      <td>416808</td>\n",
       "      <td>i think that after i had spent some time inves...</td>\n",
       "      <td>5</td>\n",
       "      <td>think spend time investigate surround things s...</td>\n",
       "    </tr>\n",
       "  </tbody>\n",
       "</table>\n",
       "</div>"
      ],
      "text/plain": [
       "        Unnamed: 0.1  Unnamed: 0  \\\n",
       "416788        416804      416804   \n",
       "416789        416805      416805   \n",
       "416790        416806      416806   \n",
       "416791        416807      416807   \n",
       "416792        416808      416808   \n",
       "\n",
       "                                                     text  label  \\\n",
       "416788  i feel like telling these horny devils to find...      2   \n",
       "416789  i began to realize that when i was feeling agi...      3   \n",
       "416790  i feel very curious be why previous early dawn...      5   \n",
       "416791  i feel that becuase of the tyranical nature of...      3   \n",
       "416792  i think that after i had spent some time inves...      5   \n",
       "\n",
       "                                               clean_text  \n",
       "416788  feel like tell horny devil find site suit sort...  \n",
       "416789  begin realize feel agitate restless think go dish  \n",
       "416790  feel curious previous early dawn time seek tro...  \n",
       "416791  feel because tyrannical nature government el s...  \n",
       "416792  think spend time investigate surround things s...  "
      ]
     },
     "execution_count": 7,
     "metadata": {},
     "output_type": "execute_result"
    }
   ],
   "source": [
    "# Re-run codes with clean_data_final.csv\n",
    "path = \"../00_Data/\"\n",
    "filename = 'clean_text_final.csv'\n",
    "clean_data= pd.read_csv(path+filename)\n",
    "clean_data.tail()"
   ]
  },
  {
   "cell_type": "code",
   "execution_count": 8,
   "id": "6925d606",
   "metadata": {},
   "outputs": [
    {
     "data": {
      "text/plain": [
       "Unnamed: 0.1     int64\n",
       "Unnamed: 0       int64\n",
       "text            object\n",
       "label            int64\n",
       "clean_text      object\n",
       "dtype: object"
      ]
     },
     "execution_count": 8,
     "metadata": {},
     "output_type": "execute_result"
    }
   ],
   "source": [
    "clean_data.dtypes"
   ]
  },
  {
   "cell_type": "code",
   "execution_count": 9,
   "id": "03f7fdfd",
   "metadata": {},
   "outputs": [],
   "source": [
    "#clean_data=pd.read_csv('./clean_text.csv')\n",
    "X = clean_data['clean_text'] #clean_data.drop('label', , axis=1)\n",
    "y = clean_data['label']\n",
    "\n",
    "X_train, X_test, y_train, y_test = train_test_split(X, y, test_size=0.25, random_state=42, stratify=y)\n",
    "\n",
    "train = pd.concat([X_train, y_train], axis=1)\n",
    "test = pd.concat([X_test, y_test], axis=1)"
   ]
  },
  {
   "cell_type": "raw",
   "id": "4c93ce72",
   "metadata": {
    "tags": []
   },
   "source": [
    "# importing data with clean text column (\"text_WO_stopwords) and it also have embedded features too , just in case we use it for modeling\n",
    "train=pd.read_csv('/domino/datasets/local/SCM_SC/train_df.csv')\n",
    "test=pd.read_csv('/domino/datasets/local/SCM_SC/test_df.csv')"
   ]
  },
  {
   "cell_type": "raw",
   "id": "c187760c",
   "metadata": {
    "tags": []
   },
   "source": [
    "#to remove the first column\n",
    "train = train.drop(train.columns[0], axis=1)\n",
    "test = test.drop(test.columns[0], axis=1)\n",
    "test"
   ]
  },
  {
   "cell_type": "code",
   "execution_count": 10,
   "id": "827ecb26-4364-4fe4-93d5-8549bb32d1c9",
   "metadata": {},
   "outputs": [],
   "source": [
    "train = train.fillna('')\n",
    "test = test.fillna('')\n",
    "train = train.reset_index(drop=True)\n",
    "test= test.reset_index(drop=True)"
   ]
  },
  {
   "cell_type": "code",
   "execution_count": 11,
   "id": "1d67d563-1194-4ce1-bf0a-24b36c53b680",
   "metadata": {},
   "outputs": [
    {
     "data": {
      "text/html": [
       "<div>\n",
       "<style scoped>\n",
       "    .dataframe tbody tr th:only-of-type {\n",
       "        vertical-align: middle;\n",
       "    }\n",
       "\n",
       "    .dataframe tbody tr th {\n",
       "        vertical-align: top;\n",
       "    }\n",
       "\n",
       "    .dataframe thead th {\n",
       "        text-align: right;\n",
       "    }\n",
       "</style>\n",
       "<table border=\"1\" class=\"dataframe\">\n",
       "  <thead>\n",
       "    <tr style=\"text-align: right;\">\n",
       "      <th></th>\n",
       "      <th>clean_text</th>\n",
       "      <th>label</th>\n",
       "    </tr>\n",
       "  </thead>\n",
       "  <tbody>\n",
       "    <tr>\n",
       "      <th>0</th>\n",
       "      <td>feel keen edge begin bite</td>\n",
       "      <td>1</td>\n",
       "    </tr>\n",
       "    <tr>\n",
       "      <th>1</th>\n",
       "      <td>watch birth video feel sentimental right</td>\n",
       "      <td>0</td>\n",
       "    </tr>\n",
       "    <tr>\n",
       "      <th>2</th>\n",
       "      <td>come stock cars feel excite hear cars roar mig...</td>\n",
       "      <td>1</td>\n",
       "    </tr>\n",
       "    <tr>\n",
       "      <th>3</th>\n",
       "      <td>get bad people especially top god must feel bl...</td>\n",
       "      <td>3</td>\n",
       "    </tr>\n",
       "    <tr>\n",
       "      <th>4</th>\n",
       "      <td>feel thrill regretful alarm change even firefl...</td>\n",
       "      <td>1</td>\n",
       "    </tr>\n",
       "    <tr>\n",
       "      <th>...</th>\n",
       "      <td>...</td>\n",
       "      <td>...</td>\n",
       "    </tr>\n",
       "    <tr>\n",
       "      <th>312589</th>\n",
       "      <td>tell really feel fake disgrace</td>\n",
       "      <td>0</td>\n",
       "    </tr>\n",
       "    <tr>\n",
       "      <th>312590</th>\n",
       "      <td>feel unsure body time feel like point prep</td>\n",
       "      <td>4</td>\n",
       "    </tr>\n",
       "    <tr>\n",
       "      <th>312591</th>\n",
       "      <td>refuse feel pressure see someone exclusively t...</td>\n",
       "      <td>4</td>\n",
       "    </tr>\n",
       "    <tr>\n",
       "      <th>312592</th>\n",
       "      <td>go downstairs polish pop tart two minutes run ...</td>\n",
       "      <td>0</td>\n",
       "    </tr>\n",
       "    <tr>\n",
       "      <th>312593</th>\n",
       "      <td>sorry make feel unimportant</td>\n",
       "      <td>0</td>\n",
       "    </tr>\n",
       "  </tbody>\n",
       "</table>\n",
       "<p>312594 rows × 2 columns</p>\n",
       "</div>"
      ],
      "text/plain": [
       "                                               clean_text  label\n",
       "0                               feel keen edge begin bite      1\n",
       "1                watch birth video feel sentimental right      0\n",
       "2       come stock cars feel excite hear cars roar mig...      1\n",
       "3       get bad people especially top god must feel bl...      3\n",
       "4       feel thrill regretful alarm change even firefl...      1\n",
       "...                                                   ...    ...\n",
       "312589                     tell really feel fake disgrace      0\n",
       "312590         feel unsure body time feel like point prep      4\n",
       "312591  refuse feel pressure see someone exclusively t...      4\n",
       "312592  go downstairs polish pop tart two minutes run ...      0\n",
       "312593                        sorry make feel unimportant      0\n",
       "\n",
       "[312594 rows x 2 columns]"
      ]
     },
     "execution_count": 11,
     "metadata": {},
     "output_type": "execute_result"
    }
   ],
   "source": [
    "train"
   ]
  },
  {
   "cell_type": "code",
   "execution_count": 12,
   "id": "f5178743",
   "metadata": {},
   "outputs": [],
   "source": [
    "clean_data['label'] = clean_data['label'].astype('category')"
   ]
  },
  {
   "cell_type": "code",
   "execution_count": 13,
   "id": "5ac699e8-4df1-4c02-b42f-c69a78352ed7",
   "metadata": {
    "tags": []
   },
   "outputs": [],
   "source": [
    "X_train= train['clean_text']\n",
    "y_train= train['label']\n",
    "\n",
    "X_test= test['clean_text']\n",
    "y_test= test['label']"
   ]
  },
  {
   "cell_type": "code",
   "execution_count": 14,
   "id": "f7a15cbc-fbc7-4284-a8d5-a5749913af2b",
   "metadata": {
    "tags": []
   },
   "outputs": [
    {
     "data": {
      "text/html": [
       "<div>\n",
       "<style scoped>\n",
       "    .dataframe tbody tr th:only-of-type {\n",
       "        vertical-align: middle;\n",
       "    }\n",
       "\n",
       "    .dataframe tbody tr th {\n",
       "        vertical-align: top;\n",
       "    }\n",
       "\n",
       "    .dataframe thead th {\n",
       "        text-align: right;\n",
       "    }\n",
       "</style>\n",
       "<table border=\"1\" class=\"dataframe\">\n",
       "  <thead>\n",
       "    <tr style=\"text-align: right;\">\n",
       "      <th></th>\n",
       "      <th>clean_text</th>\n",
       "      <th>label</th>\n",
       "    </tr>\n",
       "  </thead>\n",
       "  <tbody>\n",
       "  </tbody>\n",
       "</table>\n",
       "</div>"
      ],
      "text/plain": [
       "Empty DataFrame\n",
       "Columns: [clean_text, label]\n",
       "Index: []"
      ]
     },
     "execution_count": 14,
     "metadata": {},
     "output_type": "execute_result"
    }
   ],
   "source": [
    "train[train['clean_text'].isnull()]"
   ]
  },
  {
   "cell_type": "markdown",
   "id": "56b7f121-da48-4d20-b569-a9a949dc9eab",
   "metadata": {},
   "source": [
    "this comments is for first cleaning try that caused some texts be null: Looks like there are some rows in our dataset which are null after cleaning data, therefore we need to replace those rows with  '' before tokenizing it."
   ]
  },
  {
   "cell_type": "markdown",
   "id": "2c3e76d3",
   "metadata": {},
   "source": [
    "# Unbalanced Data Modeling"
   ]
  },
  {
   "cell_type": "markdown",
   "id": "efbe0027-cf63-48e3-8cdb-52c49b124197",
   "metadata": {},
   "source": [
    "The Tokenizer class in TensorFlow's Keras API is used for converting text documents into tokenized sequences, which can then be used for training machine learning models, particularly neural networks. "
   ]
  },
  {
   "cell_type": "code",
   "execution_count": 15,
   "id": "b6228c91",
   "metadata": {
    "tags": []
   },
   "outputs": [
    {
     "name": "stdout",
     "output_type": "stream",
     "text": [
      "Train Sequence Length is:  50\n"
     ]
    }
   ],
   "source": [
    "tkn = Tokenizer(num_words=80000)\n",
    "tkn.fit_on_texts(X_train)\n",
    "tkn.fit_on_texts(X_test)\n",
    "sq_X_train = tkn.texts_to_sequences(X_train)\n",
    "sq_X_test = tkn.texts_to_sequences(X_test)\n",
    "\n",
    "size = max(len(tokens) for tokens in sq_X_train)\n",
    "X_train_pd = pad_sequences(sq_X_train, padding='post', maxlen=size)\n",
    "X_test_pd = pad_sequences(sq_X_test, padding='post', maxlen=size)\n",
    "\n",
    "print(\"Train Sequence Length is: \", size)"
   ]
  },
  {
   "cell_type": "code",
   "execution_count": 16,
   "id": "6714d11b-ec84-4fde-8e61-f593750a0893",
   "metadata": {
    "tags": []
   },
   "outputs": [
    {
     "data": {
      "text/plain": [
       "(312594, 50)"
      ]
     },
     "execution_count": 16,
     "metadata": {},
     "output_type": "execute_result"
    }
   ],
   "source": [
    "X_train_pd.shape"
   ]
  },
  {
   "cell_type": "code",
   "execution_count": 17,
   "id": "7c493961",
   "metadata": {
    "scrolled": true
   },
   "outputs": [
    {
     "data": {
      "text/plain": [
       "(312594,)"
      ]
     },
     "execution_count": 17,
     "metadata": {},
     "output_type": "execute_result"
    }
   ],
   "source": [
    "y_train.shape"
   ]
  },
  {
   "cell_type": "code",
   "execution_count": 63,
   "id": "b19d80a1",
   "metadata": {},
   "outputs": [
    {
     "data": {
      "text/html": [
       "<pre style=\"white-space:pre;overflow-x:auto;line-height:normal;font-family:Menlo,'DejaVu Sans Mono',consolas,'Courier New',monospace\"><span style=\"font-weight: bold\">Model: \"sequential_11\"</span>\n",
       "</pre>\n"
      ],
      "text/plain": [
       "\u001b[1mModel: \"sequential_11\"\u001b[0m\n"
      ]
     },
     "metadata": {},
     "output_type": "display_data"
    },
    {
     "data": {
      "text/html": [
       "<pre style=\"white-space:pre;overflow-x:auto;line-height:normal;font-family:Menlo,'DejaVu Sans Mono',consolas,'Courier New',monospace\">┏━━━━━━━━━━━━━━━━━━━━━━━━━━━━━━━━━┳━━━━━━━━━━━━━━━━━━━━━━━━┳━━━━━━━━━━━━━━━┓\n",
       "┃<span style=\"font-weight: bold\"> Layer (type)                    </span>┃<span style=\"font-weight: bold\"> Output Shape           </span>┃<span style=\"font-weight: bold\">       Param # </span>┃\n",
       "┡━━━━━━━━━━━━━━━━━━━━━━━━━━━━━━━━━╇━━━━━━━━━━━━━━━━━━━━━━━━╇━━━━━━━━━━━━━━━┩\n",
       "│ embedding_11 (<span style=\"color: #0087ff; text-decoration-color: #0087ff\">Embedding</span>)        │ (<span style=\"color: #00d7ff; text-decoration-color: #00d7ff\">None</span>, <span style=\"color: #00af00; text-decoration-color: #00af00\">50</span>, <span style=\"color: #00af00; text-decoration-color: #00af00\">64</span>)         │     <span style=\"color: #00af00; text-decoration-color: #00af00\">6,400,000</span> │\n",
       "├─────────────────────────────────┼────────────────────────┼───────────────┤\n",
       "│ bidirectional_11                │ (<span style=\"color: #00d7ff; text-decoration-color: #00d7ff\">None</span>, <span style=\"color: #00af00; text-decoration-color: #00af00\">256</span>)            │       <span style=\"color: #00af00; text-decoration-color: #00af00\">197,632</span> │\n",
       "│ (<span style=\"color: #0087ff; text-decoration-color: #0087ff\">Bidirectional</span>)                 │                        │               │\n",
       "├─────────────────────────────────┼────────────────────────┼───────────────┤\n",
       "│ batch_normalization_11          │ (<span style=\"color: #00d7ff; text-decoration-color: #00d7ff\">None</span>, <span style=\"color: #00af00; text-decoration-color: #00af00\">256</span>)            │         <span style=\"color: #00af00; text-decoration-color: #00af00\">1,024</span> │\n",
       "│ (<span style=\"color: #0087ff; text-decoration-color: #0087ff\">BatchNormalization</span>)            │                        │               │\n",
       "├─────────────────────────────────┼────────────────────────┼───────────────┤\n",
       "│ dropout_22 (<span style=\"color: #0087ff; text-decoration-color: #0087ff\">Dropout</span>)            │ (<span style=\"color: #00d7ff; text-decoration-color: #00d7ff\">None</span>, <span style=\"color: #00af00; text-decoration-color: #00af00\">256</span>)            │             <span style=\"color: #00af00; text-decoration-color: #00af00\">0</span> │\n",
       "├─────────────────────────────────┼────────────────────────┼───────────────┤\n",
       "│ dense_22 (<span style=\"color: #0087ff; text-decoration-color: #0087ff\">Dense</span>)                │ (<span style=\"color: #00d7ff; text-decoration-color: #00d7ff\">None</span>, <span style=\"color: #00af00; text-decoration-color: #00af00\">64</span>)             │        <span style=\"color: #00af00; text-decoration-color: #00af00\">16,448</span> │\n",
       "├─────────────────────────────────┼────────────────────────┼───────────────┤\n",
       "│ dropout_23 (<span style=\"color: #0087ff; text-decoration-color: #0087ff\">Dropout</span>)            │ (<span style=\"color: #00d7ff; text-decoration-color: #00d7ff\">None</span>, <span style=\"color: #00af00; text-decoration-color: #00af00\">64</span>)             │             <span style=\"color: #00af00; text-decoration-color: #00af00\">0</span> │\n",
       "├─────────────────────────────────┼────────────────────────┼───────────────┤\n",
       "│ dense_23 (<span style=\"color: #0087ff; text-decoration-color: #0087ff\">Dense</span>)                │ (<span style=\"color: #00d7ff; text-decoration-color: #00d7ff\">None</span>, <span style=\"color: #00af00; text-decoration-color: #00af00\">6</span>)              │           <span style=\"color: #00af00; text-decoration-color: #00af00\">390</span> │\n",
       "└─────────────────────────────────┴────────────────────────┴───────────────┘\n",
       "</pre>\n"
      ],
      "text/plain": [
       "┏━━━━━━━━━━━━━━━━━━━━━━━━━━━━━━━━━┳━━━━━━━━━━━━━━━━━━━━━━━━┳━━━━━━━━━━━━━━━┓\n",
       "┃\u001b[1m \u001b[0m\u001b[1mLayer (type)                   \u001b[0m\u001b[1m \u001b[0m┃\u001b[1m \u001b[0m\u001b[1mOutput Shape          \u001b[0m\u001b[1m \u001b[0m┃\u001b[1m \u001b[0m\u001b[1m      Param #\u001b[0m\u001b[1m \u001b[0m┃\n",
       "┡━━━━━━━━━━━━━━━━━━━━━━━━━━━━━━━━━╇━━━━━━━━━━━━━━━━━━━━━━━━╇━━━━━━━━━━━━━━━┩\n",
       "│ embedding_11 (\u001b[38;5;33mEmbedding\u001b[0m)        │ (\u001b[38;5;45mNone\u001b[0m, \u001b[38;5;34m50\u001b[0m, \u001b[38;5;34m64\u001b[0m)         │     \u001b[38;5;34m6,400,000\u001b[0m │\n",
       "├─────────────────────────────────┼────────────────────────┼───────────────┤\n",
       "│ bidirectional_11                │ (\u001b[38;5;45mNone\u001b[0m, \u001b[38;5;34m256\u001b[0m)            │       \u001b[38;5;34m197,632\u001b[0m │\n",
       "│ (\u001b[38;5;33mBidirectional\u001b[0m)                 │                        │               │\n",
       "├─────────────────────────────────┼────────────────────────┼───────────────┤\n",
       "│ batch_normalization_11          │ (\u001b[38;5;45mNone\u001b[0m, \u001b[38;5;34m256\u001b[0m)            │         \u001b[38;5;34m1,024\u001b[0m │\n",
       "│ (\u001b[38;5;33mBatchNormalization\u001b[0m)            │                        │               │\n",
       "├─────────────────────────────────┼────────────────────────┼───────────────┤\n",
       "│ dropout_22 (\u001b[38;5;33mDropout\u001b[0m)            │ (\u001b[38;5;45mNone\u001b[0m, \u001b[38;5;34m256\u001b[0m)            │             \u001b[38;5;34m0\u001b[0m │\n",
       "├─────────────────────────────────┼────────────────────────┼───────────────┤\n",
       "│ dense_22 (\u001b[38;5;33mDense\u001b[0m)                │ (\u001b[38;5;45mNone\u001b[0m, \u001b[38;5;34m64\u001b[0m)             │        \u001b[38;5;34m16,448\u001b[0m │\n",
       "├─────────────────────────────────┼────────────────────────┼───────────────┤\n",
       "│ dropout_23 (\u001b[38;5;33mDropout\u001b[0m)            │ (\u001b[38;5;45mNone\u001b[0m, \u001b[38;5;34m64\u001b[0m)             │             \u001b[38;5;34m0\u001b[0m │\n",
       "├─────────────────────────────────┼────────────────────────┼───────────────┤\n",
       "│ dense_23 (\u001b[38;5;33mDense\u001b[0m)                │ (\u001b[38;5;45mNone\u001b[0m, \u001b[38;5;34m6\u001b[0m)              │           \u001b[38;5;34m390\u001b[0m │\n",
       "└─────────────────────────────────┴────────────────────────┴───────────────┘\n"
      ]
     },
     "metadata": {},
     "output_type": "display_data"
    },
    {
     "data": {
      "text/html": [
       "<pre style=\"white-space:pre;overflow-x:auto;line-height:normal;font-family:Menlo,'DejaVu Sans Mono',consolas,'Courier New',monospace\"><span style=\"font-weight: bold\"> Total params: </span><span style=\"color: #00af00; text-decoration-color: #00af00\">6,615,494</span> (25.24 MB)\n",
       "</pre>\n"
      ],
      "text/plain": [
       "\u001b[1m Total params: \u001b[0m\u001b[38;5;34m6,615,494\u001b[0m (25.24 MB)\n"
      ]
     },
     "metadata": {},
     "output_type": "display_data"
    },
    {
     "data": {
      "text/html": [
       "<pre style=\"white-space:pre;overflow-x:auto;line-height:normal;font-family:Menlo,'DejaVu Sans Mono',consolas,'Courier New',monospace\"><span style=\"font-weight: bold\"> Trainable params: </span><span style=\"color: #00af00; text-decoration-color: #00af00\">6,614,982</span> (25.23 MB)\n",
       "</pre>\n"
      ],
      "text/plain": [
       "\u001b[1m Trainable params: \u001b[0m\u001b[38;5;34m6,614,982\u001b[0m (25.23 MB)\n"
      ]
     },
     "metadata": {},
     "output_type": "display_data"
    },
    {
     "data": {
      "text/html": [
       "<pre style=\"white-space:pre;overflow-x:auto;line-height:normal;font-family:Menlo,'DejaVu Sans Mono',consolas,'Courier New',monospace\"><span style=\"font-weight: bold\"> Non-trainable params: </span><span style=\"color: #00af00; text-decoration-color: #00af00\">512</span> (2.00 KB)\n",
       "</pre>\n"
      ],
      "text/plain": [
       "\u001b[1m Non-trainable params: \u001b[0m\u001b[38;5;34m512\u001b[0m (2.00 KB)\n"
      ]
     },
     "metadata": {},
     "output_type": "display_data"
    }
   ],
   "source": [
    "# Create a new Sequential model\n",
    "model = Sequential()\n",
    "\n",
    "# Define parameters\n",
    "vocab_size = 100000\n",
    "embedding_dim = 64 #368\n",
    "lstm_units = 128\n",
    "dense_units = 64\n",
    "num_classes = 6\n",
    "dropout_rate = 0.5\n",
    "#max_sequence_length = size  # Set your desired maximum sequence length\n",
    "\n",
    "# Add layers to the model\n",
    "model.add(Embedding(input_dim=vocab_size, output_dim=embedding_dim, input_shape=(size,))) #input_length=max_sequence_length))\n",
    "model.add(Bidirectional(LSTM(units=lstm_units)))\n",
    "model.add(BatchNormalization())\n",
    "model.add(Dropout(rate=dropout_rate))\n",
    "model.add(Dense(dense_units, activation='relu'))\n",
    "model.add(Dropout(rate=dropout_rate))\n",
    "model.add(Dense(num_classes, activation='sigmoid')) #'softmax'\n",
    "\n",
    "# Compile the model\n",
    "model.compile(optimizer='adam', loss=SparseCategoricalCrossentropy(), metrics=['accuracy'])\n",
    "model.summary()\n"
   ]
  },
  {
   "cell_type": "code",
   "execution_count": 44,
   "id": "02f25c65",
   "metadata": {
    "scrolled": true
   },
   "outputs": [
    {
     "name": "stdout",
     "output_type": "stream",
     "text": [
      "Epoch 1/10\n",
      "\u001b[1m4885/4885\u001b[0m \u001b[32m━━━━━━━━━━━━━━━━━━━━\u001b[0m\u001b[37m\u001b[0m \u001b[1m2364s\u001b[0m 483ms/step - accuracy: 0.8274 - loss: 0.4594 - val_accuracy: 0.9298 - val_loss: 0.1275\n",
      "Epoch 2/10\n",
      "\u001b[1m4885/4885\u001b[0m \u001b[32m━━━━━━━━━━━━━━━━━━━━\u001b[0m\u001b[37m\u001b[0m \u001b[1m2380s\u001b[0m 487ms/step - accuracy: 0.9290 - loss: 0.1400 - val_accuracy: 0.9195 - val_loss: 0.3262\n",
      "Epoch 3/10\n",
      "\u001b[1m4885/4885\u001b[0m \u001b[32m━━━━━━━━━━━━━━━━━━━━\u001b[0m\u001b[37m\u001b[0m \u001b[1m2394s\u001b[0m 490ms/step - accuracy: 0.9329 - loss: 0.1224 - val_accuracy: 0.9314 - val_loss: 0.1206\n",
      "Epoch 4/10\n",
      "\u001b[1m4885/4885\u001b[0m \u001b[32m━━━━━━━━━━━━━━━━━━━━\u001b[0m\u001b[37m\u001b[0m \u001b[1m2409s\u001b[0m 493ms/step - accuracy: 0.9354 - loss: 0.1143 - val_accuracy: 0.9321 - val_loss: 0.1258\n",
      "Epoch 5/10\n",
      "\u001b[1m4885/4885\u001b[0m \u001b[32m━━━━━━━━━━━━━━━━━━━━\u001b[0m\u001b[37m\u001b[0m \u001b[1m2398s\u001b[0m 491ms/step - accuracy: 0.9361 - loss: 0.1098 - val_accuracy: 0.9316 - val_loss: 0.1350\n",
      "Epoch 6/10\n",
      "\u001b[1m4885/4885\u001b[0m \u001b[32m━━━━━━━━━━━━━━━━━━━━\u001b[0m\u001b[37m\u001b[0m \u001b[1m2391s\u001b[0m 489ms/step - accuracy: 0.9387 - loss: 0.1057 - val_accuracy: 0.9319 - val_loss: 0.1310\n",
      "Epoch 7/10\n",
      "\u001b[1m4885/4885\u001b[0m \u001b[32m━━━━━━━━━━━━━━━━━━━━\u001b[0m\u001b[37m\u001b[0m \u001b[1m2397s\u001b[0m 491ms/step - accuracy: 0.9399 - loss: 0.0996 - val_accuracy: 0.9315 - val_loss: 0.1396\n",
      "Epoch 8/10\n",
      "\u001b[1m4885/4885\u001b[0m \u001b[32m━━━━━━━━━━━━━━━━━━━━\u001b[0m\u001b[37m\u001b[0m \u001b[1m2402s\u001b[0m 492ms/step - accuracy: 0.9395 - loss: 0.0995 - val_accuracy: 0.9315 - val_loss: 0.1487\n"
     ]
    }
   ],
   "source": [
    "# model results with embedding size of 368:\n",
    "model_training_history= model.fit(X_train_pd, y_train, epochs=10, batch_size=64, validation_data=(X_test_pd, y_test),callbacks=[EarlyStopping(patience=5)])"
   ]
  },
  {
   "cell_type": "code",
   "execution_count": 51,
   "id": "b9503f4c",
   "metadata": {},
   "outputs": [
    {
     "name": "stdout",
     "output_type": "stream",
     "text": [
      "Model history saved to final_model_history_368.json\n"
     ]
    }
   ],
   "source": [
    "# Saving results\n",
    "history_file_path = 'final_model_history_368.json'\n",
    "\n",
    "# Save the model history to a JSON file\n",
    "with open(history_file_path, 'w') as file:\n",
    "    json.dump(model_training_history.history, file)\n",
    "\n",
    "print(f\"Model history saved to {history_file_path}\")"
   ]
  },
  {
   "cell_type": "code",
   "execution_count": 52,
   "id": "6991cbc6",
   "metadata": {},
   "outputs": [],
   "source": [
    "with open(history_file_path, 'r') as file:\n",
    "    history = json.load(file)"
   ]
  },
  {
   "cell_type": "code",
   "execution_count": 53,
   "id": "2a52b49d",
   "metadata": {
    "collapsed": true
   },
   "outputs": [
    {
     "data": {
      "text/plain": [
       "{'accuracy': [0.8934944272041321,\n",
       "  0.9298322796821594,\n",
       "  0.9323979616165161,\n",
       "  0.9346628785133362,\n",
       "  0.9363519549369812,\n",
       "  0.9381369948387146,\n",
       "  0.938220202922821,\n",
       "  0.93956059217453],\n",
       " 'loss': [0.26188215613365173,\n",
       "  0.13734106719493866,\n",
       "  0.12405193597078323,\n",
       "  0.11597540229558945,\n",
       "  0.10998599231243134,\n",
       "  0.10615130513906479,\n",
       "  0.10238184034824371,\n",
       "  0.09969142824411392],\n",
       " 'val_accuracy': [0.9298457503318787,\n",
       "  0.9195193648338318,\n",
       "  0.9314100742340088,\n",
       "  0.9321202635765076,\n",
       "  0.931573212146759,\n",
       "  0.9318707585334778,\n",
       "  0.9315060377120972,\n",
       "  0.9315060377120972],\n",
       " 'val_loss': [0.12754543125629425,\n",
       "  0.3261687457561493,\n",
       "  0.12057223170995712,\n",
       "  0.12584586441516876,\n",
       "  0.13502009212970734,\n",
       "  0.13104481995105743,\n",
       "  0.13959121704101562,\n",
       "  0.14869552850723267]}"
      ]
     },
     "execution_count": 53,
     "metadata": {},
     "output_type": "execute_result"
    }
   ],
   "source": [
    "history"
   ]
  },
  {
   "cell_type": "code",
   "execution_count": 59,
   "id": "e684a669",
   "metadata": {},
   "outputs": [
    {
     "data": {
      "image/png": "[encoded data removed]",
      "text/plain": [
       "<Figure size 1000x600 with 1 Axes>"
      ]
     },
     "metadata": {},
     "output_type": "display_data"
    }
   ],
   "source": [
    "result_plot(model_training_history, 'accuracy')"
   ]
  },
  {
   "cell_type": "code",
   "execution_count": 60,
   "id": "62a39cf0",
   "metadata": {
    "scrolled": true
   },
   "outputs": [
    {
     "data": {
      "image/png": "[encoded data removed]",
      "text/plain": [
       "<Figure size 1000x600 with 1 Axes>"
      ]
     },
     "metadata": {},
     "output_type": "display_data"
    }
   ],
   "source": [
    "result_plot(model_training_history, 'loss')"
   ]
  },
  {
   "cell_type": "markdown",
   "id": "e1dd70a4",
   "metadata": {},
   "source": [
    "From model with 368 embedding size, we get epoch 4 as the best one. Therefore we retrain the model with epoch=4 and analyze the prediction results"
   ]
  },
  {
   "cell_type": "code",
   "execution_count": 20,
   "id": "1c6e5aa3",
   "metadata": {},
   "outputs": [
    {
     "name": "stdout",
     "output_type": "stream",
     "text": [
      "Epoch 1/4\n",
      "\u001b[1m4885/4885\u001b[0m \u001b[32m━━━━━━━━━━━━━━━━━━━━\u001b[0m\u001b[37m\u001b[0m \u001b[1m2427s\u001b[0m 496ms/step - accuracy: 0.8261 - loss: 0.4693 - val_accuracy: 0.9295 - val_loss: 0.1273\n",
      "Epoch 2/4\n",
      "\u001b[1m4885/4885\u001b[0m \u001b[32m━━━━━━━━━━━━━━━━━━━━\u001b[0m\u001b[37m\u001b[0m \u001b[1m2420s\u001b[0m 495ms/step - accuracy: 0.9292 - loss: 0.1393 - val_accuracy: 0.9313 - val_loss: 0.1247\n",
      "Epoch 3/4\n",
      "\u001b[1m4885/4885\u001b[0m \u001b[32m━━━━━━━━━━━━━━━━━━━━\u001b[0m\u001b[37m\u001b[0m \u001b[1m2446s\u001b[0m 501ms/step - accuracy: 0.9333 - loss: 0.1224 - val_accuracy: 0.9318 - val_loss: 0.1204\n",
      "Epoch 4/4\n",
      "\u001b[1m4885/4885\u001b[0m \u001b[32m━━━━━━━━━━━━━━━━━━━━\u001b[0m\u001b[37m\u001b[0m \u001b[1m2475s\u001b[0m 507ms/step - accuracy: 0.9351 - loss: 0.1159 - val_accuracy: 0.9295 - val_loss: 0.1257\n"
     ]
    },
    {
     "data": {
      "text/plain": [
       "<keras.src.callbacks.history.History at 0x1f615d88af0>"
      ]
     },
     "execution_count": 20,
     "metadata": {},
     "output_type": "execute_result"
    }
   ],
   "source": [
    "# From model with 368 embedding size, we get epoch 4 as the best one. Therefore we retrain the model with epoch=4\n",
    "model.fit(X_train_pd, y_train, epochs=4, batch_size=64, validation_data=(X_test_pd, y_test),callbacks=[EarlyStopping(patience=5)])"
   ]
  },
  {
   "cell_type": "code",
   "execution_count": 25,
   "id": "e6e4e480",
   "metadata": {},
   "outputs": [
    {
     "name": "stdout",
     "output_type": "stream",
     "text": [
      "\u001b[1m3257/3257\u001b[0m \u001b[32m━━━━━━━━━━━━━━━━━━━━\u001b[0m\u001b[37m\u001b[0m \u001b[1m74s\u001b[0m 23ms/step\n",
      "Test Accuracy: 0.9295\n",
      "F1-Score: 0.9303\n",
      "Confusion Matrix:\n",
      "[[29051    41    86   867   241    10]\n",
      " [  186 31916  2627   144    67   326]\n",
      " [   40   235  8289    41    28     6]\n",
      " [   75    34    15 14135    64     5]\n",
      " [  418    25     7   679 10785    13]\n",
      " [   33    11     1     3  1023  2672]]\n",
      "Recall for Each Class:\n",
      "Class 0: 0.9589\n",
      "Class 1: 0.9050\n",
      "Class 2: 0.9595\n",
      "Class 3: 0.9865\n",
      "Class 4: 0.9043\n",
      "Class 5: 0.7139\n"
     ]
    }
   ],
   "source": [
    "evaluate_model(model, X_test_pd)"
   ]
  },
  {
   "cell_type": "code",
   "execution_count": null,
   "id": "03483397",
   "metadata": {},
   "outputs": [],
   "source": [
    "#saving the model\n",
    "model.save('unbalanced_model_epoch4_368.keras')"
   ]
  },
  {
   "cell_type": "code",
   "execution_count": 61,
   "id": "747438d0",
   "metadata": {
    "scrolled": true
   },
   "outputs": [],
   "source": [
    "#This is how we can load the saved .keras model\n",
    "# first building original model architecture and then add weights of teh saved model to that.\n",
    "\n",
    "import tensorflow as tf\n",
    "from tensorflow.keras.models import load_model\n",
    "\n",
    "model2 = Sequential()\n",
    "vocab_size = 100000\n",
    "embedding_dim = 368\n",
    "lstm_units = 128\n",
    "dense_units = 64\n",
    "num_classes = 6\n",
    "dropout_rate = 0.5\n",
    "#max_sequence_length = size  # Set your desired maximum sequence length\n",
    "\n",
    "# Add layers to the model\n",
    "model2.add(Embedding(input_dim=vocab_size, output_dim=embedding_dim, input_shape=(size,))) #input_length=max_sequence_length))\n",
    "model2.add(Bidirectional(LSTM(units=lstm_units)))\n",
    "model2.add(BatchNormalization())\n",
    "model2.add(Dropout(rate=dropout_rate))\n",
    "model2.add(Dense(dense_units, activation='relu'))\n",
    "model2.add(Dropout(rate=dropout_rate))\n",
    "model2.add(Dense(num_classes, activation='sigmoid')) #'softmax'\n",
    "\n",
    "model2.load_weights('unbalanced_model_epoch4_368.keras')\n",
    "\n",
    "#loaded_model = tf.keras.models.load_model('unbalanced_model_epoch4_368.keras')"
   ]
  },
  {
   "cell_type": "code",
   "execution_count": 48,
   "id": "fddab57e",
   "metadata": {},
   "outputs": [
    {
     "name": "stdout",
     "output_type": "stream",
     "text": [
      "\u001b[1m3257/3257\u001b[0m \u001b[32m━━━━━━━━━━━━━━━━━━━━\u001b[0m\u001b[37m\u001b[0m \u001b[1m70s\u001b[0m 21ms/step\n",
      "Test Accuracy: 0.9295\n",
      "F1-Score: 0.9303\n",
      "Confusion Matrix:\n",
      "[[29051    41    86   867   241    10]\n",
      " [  186 31916  2627   144    67   326]\n",
      " [   40   235  8289    41    28     6]\n",
      " [   75    34    15 14135    64     5]\n",
      " [  418    25     7   679 10785    13]\n",
      " [   33    11     1     3  1023  2672]]\n",
      "Recall for Each Class:\n",
      "Class 0: 0.9589\n",
      "Class 1: 0.9050\n",
      "Class 2: 0.9595\n",
      "Class 3: 0.9865\n",
      "Class 4: 0.9043\n",
      "Class 5: 0.7139\n",
      "Accuracy for class label  0  is:  0.9589054660681278\n",
      "Accuracy for class label  1  is:  0.9050076560993592\n",
      "Accuracy for class label  2  is:  0.9594860516263456\n",
      "Accuracy for class label  3  is:  0.9865298715801228\n",
      "Accuracy for class label  4  is:  0.9042508593946508\n",
      "Accuracy for class label  5  is:  0.7138658829815656\n"
     ]
    }
   ],
   "source": [
    "evaluate_model(model2, X_test_pd)"
   ]
  },
  {
   "cell_type": "markdown",
   "id": "23b176de",
   "metadata": {},
   "source": [
    "\n",
    "Accuracy for class #5 has lowest value: sadness (0), joy (1), love (2), anger (3), fear (4), surprise (5)\n",
    "The issue can be explained by the insufficient data available for class 5 in our training set. Due to this lack of data, the model has not had enough opportunities to learn and improve its ability to make accurate predictions for class 5"
   ]
  },
  {
   "cell_type": "code",
   "execution_count": null,
   "id": "a9da7f8e",
   "metadata": {},
   "outputs": [],
   "source": []
  },
  {
   "cell_type": "code",
   "execution_count": null,
   "id": "e4d22e23",
   "metadata": {},
   "outputs": [],
   "source": []
  },
  {
   "cell_type": "code",
   "execution_count": null,
   "id": "998f4a04",
   "metadata": {},
   "outputs": [],
   "source": []
  },
  {
   "cell_type": "code",
   "execution_count": null,
   "id": "e91dcd22",
   "metadata": {},
   "outputs": [],
   "source": [
    "# repeating the same process for smaller models, changing the embedding size from 368 to 64:"
   ]
  },
  {
   "cell_type": "code",
   "execution_count": 55,
   "id": "4e428301",
   "metadata": {},
   "outputs": [
    {
     "name": "stdout",
     "output_type": "stream",
     "text": [
      "Epoch 1/10\n",
      "\u001b[1m4885/4885\u001b[0m \u001b[32m━━━━━━━━━━━━━━━━━━━━\u001b[0m\u001b[37m\u001b[0m \u001b[1m644s\u001b[0m 131ms/step - accuracy: 0.8083 - loss: 0.5230 - val_accuracy: 0.8302 - val_loss: 0.6678\n",
      "Epoch 2/10\n",
      "\u001b[1m4885/4885\u001b[0m \u001b[32m━━━━━━━━━━━━━━━━━━━━\u001b[0m\u001b[37m\u001b[0m \u001b[1m639s\u001b[0m 131ms/step - accuracy: 0.9246 - loss: 0.1569 - val_accuracy: 0.9302 - val_loss: 0.1229\n",
      "Epoch 3/10\n",
      "\u001b[1m4885/4885\u001b[0m \u001b[32m━━━━━━━━━━━━━━━━━━━━\u001b[0m\u001b[37m\u001b[0m \u001b[1m647s\u001b[0m 132ms/step - accuracy: 0.9310 - loss: 0.1293 - val_accuracy: 0.9312 - val_loss: 0.1220\n",
      "Epoch 4/10\n",
      "\u001b[1m4885/4885\u001b[0m \u001b[32m━━━━━━━━━━━━━━━━━━━━\u001b[0m\u001b[37m\u001b[0m \u001b[1m652s\u001b[0m 134ms/step - accuracy: 0.9331 - loss: 0.1187 - val_accuracy: 0.9319 - val_loss: 0.1203\n",
      "Epoch 5/10\n",
      "\u001b[1m4885/4885\u001b[0m \u001b[32m━━━━━━━━━━━━━━━━━━━━\u001b[0m\u001b[37m\u001b[0m \u001b[1m648s\u001b[0m 133ms/step - accuracy: 0.9352 - loss: 0.1130 - val_accuracy: 0.9312 - val_loss: 0.1275\n",
      "Epoch 6/10\n",
      "\u001b[1m4885/4885\u001b[0m \u001b[32m━━━━━━━━━━━━━━━━━━━━\u001b[0m\u001b[37m\u001b[0m \u001b[1m652s\u001b[0m 134ms/step - accuracy: 0.9378 - loss: 0.1063 - val_accuracy: 0.9314 - val_loss: 0.1255\n",
      "Epoch 7/10\n",
      "\u001b[1m4885/4885\u001b[0m \u001b[32m━━━━━━━━━━━━━━━━━━━━\u001b[0m\u001b[37m\u001b[0m \u001b[1m656s\u001b[0m 134ms/step - accuracy: 0.9381 - loss: 0.1027 - val_accuracy: 0.9317 - val_loss: 0.1281\n",
      "Epoch 8/10\n",
      "\u001b[1m4885/4885\u001b[0m \u001b[32m━━━━━━━━━━━━━━━━━━━━\u001b[0m\u001b[37m\u001b[0m \u001b[1m660s\u001b[0m 135ms/step - accuracy: 0.9385 - loss: 0.1020 - val_accuracy: 0.9307 - val_loss: 0.1468\n",
      "Epoch 9/10\n",
      "\u001b[1m4885/4885\u001b[0m \u001b[32m━━━━━━━━━━━━━━━━━━━━\u001b[0m\u001b[37m\u001b[0m \u001b[1m686s\u001b[0m 140ms/step - accuracy: 0.9389 - loss: 0.0990 - val_accuracy: 0.9305 - val_loss: 0.1455\n"
     ]
    }
   ],
   "source": [
    "# model results with embedding size of 64:\n",
    "model_training_history_64= model.fit(X_train_pd, y_train, epochs=10, batch_size=64, validation_data=(X_test_pd, y_test),callbacks=[EarlyStopping(patience=5)])"
   ]
  },
  {
   "cell_type": "code",
   "execution_count": 62,
   "id": "e50583ce",
   "metadata": {},
   "outputs": [
    {
     "name": "stdout",
     "output_type": "stream",
     "text": [
      "Model history saved to final_model_history_64.json\n"
     ]
    }
   ],
   "source": [
    "#saving output:\n",
    "history_file_path = 'final_model_history_64.json'\n",
    "\n",
    "# Save the model history to a JSON file\n",
    "with open(history_file_path, 'w') as file:\n",
    "    json.dump(model_training_history.history, file)\n",
    "\n",
    "print(f\"Model history saved to {history_file_path}\")"
   ]
  },
  {
   "cell_type": "code",
   "execution_count": 61,
   "id": "1ffd0bcf",
   "metadata": {},
   "outputs": [
    {
     "data": {
      "image/png": "[encoded data removed]",
      "text/plain": [
       "<Figure size 1000x600 with 1 Axes>"
      ]
     },
     "metadata": {},
     "output_type": "display_data"
    },
    {
     "data": {
      "image/png": "[encoded data removed]",
      "text/plain": [
       "<Figure size 1000x600 with 1 Axes>"
      ]
     },
     "metadata": {},
     "output_type": "display_data"
    }
   ],
   "source": [
    "result_plot(model_training_history_64, 'accuracy')\n",
    "result_plot(model_training_history_64, 'loss')"
   ]
  },
  {
   "cell_type": "code",
   "execution_count": 64,
   "id": "2be4bdb4",
   "metadata": {},
   "outputs": [
    {
     "name": "stdout",
     "output_type": "stream",
     "text": [
      "Epoch 1/4\n",
      "\u001b[1m4885/4885\u001b[0m \u001b[32m━━━━━━━━━━━━━━━━━━━━\u001b[0m\u001b[37m\u001b[0m \u001b[1m618s\u001b[0m 126ms/step - accuracy: 0.8051 - loss: 0.5321 - val_accuracy: 0.9253 - val_loss: 0.1580\n",
      "Epoch 2/4\n",
      "\u001b[1m4885/4885\u001b[0m \u001b[32m━━━━━━━━━━━━━━━━━━━━\u001b[0m\u001b[37m\u001b[0m \u001b[1m620s\u001b[0m 127ms/step - accuracy: 0.9253 - loss: 0.1527 - val_accuracy: 0.9291 - val_loss: 0.1259\n",
      "Epoch 3/4\n",
      "\u001b[1m4885/4885\u001b[0m \u001b[32m━━━━━━━━━━━━━━━━━━━━\u001b[0m\u001b[37m\u001b[0m \u001b[1m620s\u001b[0m 127ms/step - accuracy: 0.9312 - loss: 0.1277 - val_accuracy: 0.9209 - val_loss: 0.2842\n",
      "Epoch 4/4\n",
      "\u001b[1m4885/4885\u001b[0m \u001b[32m━━━━━━━━━━━━━━━━━━━━\u001b[0m\u001b[37m\u001b[0m \u001b[1m622s\u001b[0m 127ms/step - accuracy: 0.9341 - loss: 0.1189 - val_accuracy: 0.9312 - val_loss: 0.1214\n"
     ]
    },
    {
     "data": {
      "text/plain": [
       "<keras.src.callbacks.history.History at 0x1f60cc0c430>"
      ]
     },
     "execution_count": 64,
     "metadata": {},
     "output_type": "execute_result"
    }
   ],
   "source": [
    "model.fit(X_train_pd, y_train, epochs=4, batch_size=64, validation_data=(X_test_pd, y_test),callbacks=[EarlyStopping(patience=5)])"
   ]
  },
  {
   "cell_type": "code",
   "execution_count": 65,
   "id": "166c2af7",
   "metadata": {},
   "outputs": [],
   "source": [
    "model.save('unbalanced_model_epoch4_64.keras')"
   ]
  },
  {
   "cell_type": "code",
   "execution_count": 66,
   "id": "c58e2fea",
   "metadata": {},
   "outputs": [
    {
     "name": "stdout",
     "output_type": "stream",
     "text": [
      "\u001b[1m3257/3257\u001b[0m \u001b[32m━━━━━━━━━━━━━━━━━━━━\u001b[0m\u001b[37m\u001b[0m \u001b[1m48s\u001b[0m 15ms/step\n",
      "Test Accuracy: 0.9312\n",
      "F1-Score: 0.9301\n",
      "Confusion Matrix:\n",
      "[[28680    82    55   843   602    34]\n",
      " [  119 34595    36   116    63   337]\n",
      " [   59  2710  5789    39    23    19]\n",
      " [   89    50     8 13545   611    25]\n",
      " [   38    36     5    86 10723  1039]\n",
      " [   21     8     0     1    14  3699]]\n",
      "Recall for Each Class:\n",
      "Class 0: 0.9467\n",
      "Class 1: 0.9810\n",
      "Class 2: 0.6701\n",
      "Class 3: 0.9454\n",
      "Class 4: 0.8991\n",
      "Class 5: 0.9882\n",
      "Accuracy for class label  0  is:  0.9466596250330077\n",
      "Accuracy for class label  1  is:  0.9809731752963194\n",
      "Accuracy for class label  2  is:  0.6701007061002431\n",
      "Accuracy for class label  3  is:  0.9453517587939698\n",
      "Accuracy for class label  4  is:  0.8990525697996143\n",
      "Accuracy for class label  5  is:  0.9882447234838365\n"
     ]
    }
   ],
   "source": [
    "evaluate_model(model, X_test_pd)"
   ]
  },
  {
   "cell_type": "markdown",
   "id": "0b0d1835-01d7-47cd-9080-152d6e17d444",
   "metadata": {},
   "source": [
    "# with balanced data"
   ]
  },
  {
   "cell_type": "code",
   "execution_count": 49,
   "id": "1d518e0a",
   "metadata": {},
   "outputs": [
    {
     "data": {
      "text/html": [
       "<pre style=\"white-space:pre;overflow-x:auto;line-height:normal;font-family:Menlo,'DejaVu Sans Mono',consolas,'Courier New',monospace\"><span style=\"font-weight: bold\">Model: \"sequential_5\"</span>\n",
       "</pre>\n"
      ],
      "text/plain": [
       "\u001b[1mModel: \"sequential_5\"\u001b[0m\n"
      ]
     },
     "metadata": {},
     "output_type": "display_data"
    },
    {
     "data": {
      "text/html": [
       "<pre style=\"white-space:pre;overflow-x:auto;line-height:normal;font-family:Menlo,'DejaVu Sans Mono',consolas,'Courier New',monospace\">┏━━━━━━━━━━━━━━━━━━━━━━━━━━━━━━━━━┳━━━━━━━━━━━━━━━━━━━━━━━━┳━━━━━━━━━━━━━━━┓\n",
       "┃<span style=\"font-weight: bold\"> Layer (type)                    </span>┃<span style=\"font-weight: bold\"> Output Shape           </span>┃<span style=\"font-weight: bold\">       Param # </span>┃\n",
       "┡━━━━━━━━━━━━━━━━━━━━━━━━━━━━━━━━━╇━━━━━━━━━━━━━━━━━━━━━━━━╇━━━━━━━━━━━━━━━┩\n",
       "│ embedding_5 (<span style=\"color: #0087ff; text-decoration-color: #0087ff\">Embedding</span>)         │ (<span style=\"color: #00d7ff; text-decoration-color: #00d7ff\">None</span>, <span style=\"color: #00af00; text-decoration-color: #00af00\">50</span>, <span style=\"color: #00af00; text-decoration-color: #00af00\">64</span>)         │     <span style=\"color: #00af00; text-decoration-color: #00af00\">6,400,000</span> │\n",
       "├─────────────────────────────────┼────────────────────────┼───────────────┤\n",
       "│ bidirectional_5 (<span style=\"color: #0087ff; text-decoration-color: #0087ff\">Bidirectional</span>) │ (<span style=\"color: #00d7ff; text-decoration-color: #00d7ff\">None</span>, <span style=\"color: #00af00; text-decoration-color: #00af00\">256</span>)            │       <span style=\"color: #00af00; text-decoration-color: #00af00\">197,632</span> │\n",
       "├─────────────────────────────────┼────────────────────────┼───────────────┤\n",
       "│ batch_normalization_5           │ (<span style=\"color: #00d7ff; text-decoration-color: #00d7ff\">None</span>, <span style=\"color: #00af00; text-decoration-color: #00af00\">256</span>)            │         <span style=\"color: #00af00; text-decoration-color: #00af00\">1,024</span> │\n",
       "│ (<span style=\"color: #0087ff; text-decoration-color: #0087ff\">BatchNormalization</span>)            │                        │               │\n",
       "├─────────────────────────────────┼────────────────────────┼───────────────┤\n",
       "│ dropout_10 (<span style=\"color: #0087ff; text-decoration-color: #0087ff\">Dropout</span>)            │ (<span style=\"color: #00d7ff; text-decoration-color: #00d7ff\">None</span>, <span style=\"color: #00af00; text-decoration-color: #00af00\">256</span>)            │             <span style=\"color: #00af00; text-decoration-color: #00af00\">0</span> │\n",
       "├─────────────────────────────────┼────────────────────────┼───────────────┤\n",
       "│ dense_10 (<span style=\"color: #0087ff; text-decoration-color: #0087ff\">Dense</span>)                │ (<span style=\"color: #00d7ff; text-decoration-color: #00d7ff\">None</span>, <span style=\"color: #00af00; text-decoration-color: #00af00\">64</span>)             │        <span style=\"color: #00af00; text-decoration-color: #00af00\">16,448</span> │\n",
       "├─────────────────────────────────┼────────────────────────┼───────────────┤\n",
       "│ dropout_11 (<span style=\"color: #0087ff; text-decoration-color: #0087ff\">Dropout</span>)            │ (<span style=\"color: #00d7ff; text-decoration-color: #00d7ff\">None</span>, <span style=\"color: #00af00; text-decoration-color: #00af00\">64</span>)             │             <span style=\"color: #00af00; text-decoration-color: #00af00\">0</span> │\n",
       "├─────────────────────────────────┼────────────────────────┼───────────────┤\n",
       "│ dense_11 (<span style=\"color: #0087ff; text-decoration-color: #0087ff\">Dense</span>)                │ (<span style=\"color: #00d7ff; text-decoration-color: #00d7ff\">None</span>, <span style=\"color: #00af00; text-decoration-color: #00af00\">6</span>)              │           <span style=\"color: #00af00; text-decoration-color: #00af00\">390</span> │\n",
       "└─────────────────────────────────┴────────────────────────┴───────────────┘\n",
       "</pre>\n"
      ],
      "text/plain": [
       "┏━━━━━━━━━━━━━━━━━━━━━━━━━━━━━━━━━┳━━━━━━━━━━━━━━━━━━━━━━━━┳━━━━━━━━━━━━━━━┓\n",
       "┃\u001b[1m \u001b[0m\u001b[1mLayer (type)                   \u001b[0m\u001b[1m \u001b[0m┃\u001b[1m \u001b[0m\u001b[1mOutput Shape          \u001b[0m\u001b[1m \u001b[0m┃\u001b[1m \u001b[0m\u001b[1m      Param #\u001b[0m\u001b[1m \u001b[0m┃\n",
       "┡━━━━━━━━━━━━━━━━━━━━━━━━━━━━━━━━━╇━━━━━━━━━━━━━━━━━━━━━━━━╇━━━━━━━━━━━━━━━┩\n",
       "│ embedding_5 (\u001b[38;5;33mEmbedding\u001b[0m)         │ (\u001b[38;5;45mNone\u001b[0m, \u001b[38;5;34m50\u001b[0m, \u001b[38;5;34m64\u001b[0m)         │     \u001b[38;5;34m6,400,000\u001b[0m │\n",
       "├─────────────────────────────────┼────────────────────────┼───────────────┤\n",
       "│ bidirectional_5 (\u001b[38;5;33mBidirectional\u001b[0m) │ (\u001b[38;5;45mNone\u001b[0m, \u001b[38;5;34m256\u001b[0m)            │       \u001b[38;5;34m197,632\u001b[0m │\n",
       "├─────────────────────────────────┼────────────────────────┼───────────────┤\n",
       "│ batch_normalization_5           │ (\u001b[38;5;45mNone\u001b[0m, \u001b[38;5;34m256\u001b[0m)            │         \u001b[38;5;34m1,024\u001b[0m │\n",
       "│ (\u001b[38;5;33mBatchNormalization\u001b[0m)            │                        │               │\n",
       "├─────────────────────────────────┼────────────────────────┼───────────────┤\n",
       "│ dropout_10 (\u001b[38;5;33mDropout\u001b[0m)            │ (\u001b[38;5;45mNone\u001b[0m, \u001b[38;5;34m256\u001b[0m)            │             \u001b[38;5;34m0\u001b[0m │\n",
       "├─────────────────────────────────┼────────────────────────┼───────────────┤\n",
       "│ dense_10 (\u001b[38;5;33mDense\u001b[0m)                │ (\u001b[38;5;45mNone\u001b[0m, \u001b[38;5;34m64\u001b[0m)             │        \u001b[38;5;34m16,448\u001b[0m │\n",
       "├─────────────────────────────────┼────────────────────────┼───────────────┤\n",
       "│ dropout_11 (\u001b[38;5;33mDropout\u001b[0m)            │ (\u001b[38;5;45mNone\u001b[0m, \u001b[38;5;34m64\u001b[0m)             │             \u001b[38;5;34m0\u001b[0m │\n",
       "├─────────────────────────────────┼────────────────────────┼───────────────┤\n",
       "│ dense_11 (\u001b[38;5;33mDense\u001b[0m)                │ (\u001b[38;5;45mNone\u001b[0m, \u001b[38;5;34m6\u001b[0m)              │           \u001b[38;5;34m390\u001b[0m │\n",
       "└─────────────────────────────────┴────────────────────────┴───────────────┘\n"
      ]
     },
     "metadata": {},
     "output_type": "display_data"
    },
    {
     "data": {
      "text/html": [
       "<pre style=\"white-space:pre;overflow-x:auto;line-height:normal;font-family:Menlo,'DejaVu Sans Mono',consolas,'Courier New',monospace\"><span style=\"font-weight: bold\"> Total params: </span><span style=\"color: #00af00; text-decoration-color: #00af00\">6,615,494</span> (25.24 MB)\n",
       "</pre>\n"
      ],
      "text/plain": [
       "\u001b[1m Total params: \u001b[0m\u001b[38;5;34m6,615,494\u001b[0m (25.24 MB)\n"
      ]
     },
     "metadata": {},
     "output_type": "display_data"
    },
    {
     "data": {
      "text/html": [
       "<pre style=\"white-space:pre;overflow-x:auto;line-height:normal;font-family:Menlo,'DejaVu Sans Mono',consolas,'Courier New',monospace\"><span style=\"font-weight: bold\"> Trainable params: </span><span style=\"color: #00af00; text-decoration-color: #00af00\">6,614,982</span> (25.23 MB)\n",
       "</pre>\n"
      ],
      "text/plain": [
       "\u001b[1m Trainable params: \u001b[0m\u001b[38;5;34m6,614,982\u001b[0m (25.23 MB)\n"
      ]
     },
     "metadata": {},
     "output_type": "display_data"
    },
    {
     "data": {
      "text/html": [
       "<pre style=\"white-space:pre;overflow-x:auto;line-height:normal;font-family:Menlo,'DejaVu Sans Mono',consolas,'Courier New',monospace\"><span style=\"font-weight: bold\"> Non-trainable params: </span><span style=\"color: #00af00; text-decoration-color: #00af00\">512</span> (2.00 KB)\n",
       "</pre>\n"
      ],
      "text/plain": [
       "\u001b[1m Non-trainable params: \u001b[0m\u001b[38;5;34m512\u001b[0m (2.00 KB)\n"
      ]
     },
     "metadata": {},
     "output_type": "display_data"
    }
   ],
   "source": [
    "model = Sequential()\n",
    "\n",
    "# Define parameters\n",
    "vocab_size = 100000\n",
    "embedding_dim = 64\n",
    "lstm_units = 128\n",
    "dense_units = 64\n",
    "num_classes = 6\n",
    "dropout_rate = 0.5\n",
    "#max_sequence_length = size  # Set your desired maximum sequence length\n",
    "\n",
    "# Add layers to the model\n",
    "model.add(Embedding(input_dim=vocab_size, output_dim=embedding_dim, input_shape=(size,))) #input_length=max_sequence_length))\n",
    "model.add(Bidirectional(LSTM(units=lstm_units)))\n",
    "model.add(BatchNormalization())\n",
    "model.add(Dropout(rate=dropout_rate))\n",
    "model.add(Dense(dense_units, activation='relu'))\n",
    "model.add(Dropout(rate=dropout_rate))\n",
    "model.add(Dense(num_classes, activation='sigmoid')) #'softmax'\n",
    "\n",
    "# Compile the model\n",
    "model.compile(optimizer='adam', loss=SparseCategoricalCrossentropy(), metrics=['accuracy'])\n",
    "model.summary()\n"
   ]
  },
  {
   "cell_type": "code",
   "execution_count": 32,
   "id": "64e80885-e4fd-44b3-a855-25ebf217a705",
   "metadata": {},
   "outputs": [
    {
     "data": {
      "text/plain": [
       "5     11229\n",
       "2     25915\n",
       "4     35782\n",
       "3     42983\n",
       "0     90887\n",
       "1    105798\n",
       "Name: label, dtype: int64"
      ]
     },
     "execution_count": 32,
     "metadata": {},
     "output_type": "execute_result"
    }
   ],
   "source": [
    "class_counts = train['label'].value_counts()\n",
    "# Sort the counts from smallest to largest\n",
    "class_counts_sorted = class_counts.sort_values()\n",
    "class_counts_sorted"
   ]
  },
  {
   "cell_type": "code",
   "execution_count": 33,
   "id": "24bfe928",
   "metadata": {},
   "outputs": [
    {
     "data": {
      "text/plain": [
       "Index(['clean_text', 'label'], dtype='object')"
      ]
     },
     "execution_count": 33,
     "metadata": {},
     "output_type": "execute_result"
    }
   ],
   "source": [
    "train.columns"
   ]
  },
  {
   "cell_type": "code",
   "execution_count": 50,
   "id": "da0b041b",
   "metadata": {},
   "outputs": [],
   "source": [
    "X_train= train['clean_text']\n",
    "y_train= train['label']\n",
    "\n",
    "X_test= test['clean_text']\n",
    "y_test= test['label']"
   ]
  },
  {
   "cell_type": "code",
   "execution_count": 51,
   "id": "0f56eff4",
   "metadata": {},
   "outputs": [],
   "source": [
    "tkn = Tokenizer(num_words=80000)\n",
    "tkn.fit_on_texts(X_train)\n",
    "tkn.fit_on_texts(X_test)\n",
    "\n",
    "# Convert text to sequences\n",
    "sq_X_train = tkn.texts_to_sequences(X_train)\n",
    "sq_X_test = tkn.texts_to_sequences(X_test)\n",
    "balanced_size = max(len(tokens) for tokens in sq_X_train)\n",
    "X_train_pd = pad_sequences(sq_X_train, padding='post', maxlen=balanced_size)\n",
    "X_test_pd = pad_sequences(sq_X_test, padding='post', maxlen=balanced_size)"
   ]
  },
  {
   "cell_type": "code",
   "execution_count": null,
   "id": "747413eb",
   "metadata": {},
   "outputs": [],
   "source": []
  },
  {
   "cell_type": "code",
   "execution_count": 52,
   "id": "4712b7d1",
   "metadata": {},
   "outputs": [],
   "source": [
    "# Initialize SMOTE for oversampling\n",
    "sm = SMOTE(random_state=25, n_jobs=-1, k_neighbors=5)\n",
    "\n",
    "#reshape X_train_pd and y_train for SMOTE\n",
    "X_train_pd_reshaped = X_train_pd.reshape(X_train_pd.shape[0], -1)\n",
    "X_train_balanced, y_train_balanced = sm.fit_resample(X_train_pd_reshaped, y_train)\n",
    "\n",
    "# Reshape X_train_balanced back to 3D shape for model input\n",
    "X_train_balanced = X_train_balanced.reshape(X_train_balanced.shape[0], balanced_size)\n",
    "y_train_balanced = np.array(y_train_balanced)"
   ]
  },
  {
   "cell_type": "code",
   "execution_count": 53,
   "id": "6e181548",
   "metadata": {},
   "outputs": [
    {
     "data": {
      "text/plain": [
       "634788"
      ]
     },
     "execution_count": 53,
     "metadata": {},
     "output_type": "execute_result"
    }
   ],
   "source": [
    "len(X_train_balanced)"
   ]
  },
  {
   "cell_type": "code",
   "execution_count": null,
   "id": "b84cb46a",
   "metadata": {},
   "outputs": [],
   "source": [
    "#Outputs cleared\n",
    "model_training_history_64= model.fit(X_train_balanced, y_train_balanced, epochs=10, batch_size=64, validation_data=(X_test_pd, y_test),callbacks=[EarlyStopping(patience=5)])"
   ]
  },
  {
   "cell_type": "code",
   "execution_count": 54,
   "id": "593dbc1e",
   "metadata": {},
   "outputs": [
    {
     "name": "stdout",
     "output_type": "stream",
     "text": [
      "Epoch 1/3\n",
      "\u001b[1m9919/9919\u001b[0m \u001b[32m━━━━━━━━━━━━━━━━━━━━\u001b[0m\u001b[37m\u001b[0m \u001b[1m1245s\u001b[0m 125ms/step - accuracy: 0.5358 - loss: 1.2209 - val_accuracy: 0.9160 - val_loss: 0.2880\n",
      "Epoch 2/3\n",
      "\u001b[1m9919/9919\u001b[0m \u001b[32m━━━━━━━━━━━━━━━━━━━━\u001b[0m\u001b[37m\u001b[0m \u001b[1m1237s\u001b[0m 125ms/step - accuracy: 0.6302 - loss: 0.9334 - val_accuracy: 0.9148 - val_loss: 0.2524\n",
      "Epoch 3/3\n",
      "\u001b[1m9919/9919\u001b[0m \u001b[32m━━━━━━━━━━━━━━━━━━━━\u001b[0m\u001b[37m\u001b[0m \u001b[1m1245s\u001b[0m 125ms/step - accuracy: 0.6415 - loss: 0.8862 - val_accuracy: 0.9136 - val_loss: 0.2427\n"
     ]
    },
    {
     "data": {
      "text/plain": [
       "<keras.src.callbacks.history.History at 0x1f60f5d1b50>"
      ]
     },
     "execution_count": 54,
     "metadata": {},
     "output_type": "execute_result"
    }
   ],
   "source": [
    "model.fit(X_train_balanced, y_train_balanced, epochs=3, batch_size=64, validation_data=(X_test_pd, y_test),callbacks=[EarlyStopping(patience=5)])"
   ]
  },
  {
   "cell_type": "code",
   "execution_count": 55,
   "id": "d2174f8c",
   "metadata": {},
   "outputs": [],
   "source": [
    "model.save('SMOTEbalanced_model_epoch3_64.keras')"
   ]
  },
  {
   "cell_type": "code",
   "execution_count": 56,
   "id": "bdba6720",
   "metadata": {},
   "outputs": [
    {
     "name": "stdout",
     "output_type": "stream",
     "text": [
      "\u001b[1m3257/3257\u001b[0m \u001b[32m━━━━━━━━━━━━━━━━━━━━\u001b[0m\u001b[37m\u001b[0m \u001b[1m54s\u001b[0m 17ms/step\n",
      "Test Accuracy: 0.9136\n",
      "F1-Score: 0.9150\n",
      "Confusion Matrix:\n",
      "[[28513    84   159   434   610   496]\n",
      " [   65 33765   372    95    79   890]\n",
      " [   72  2415  5925    36    26   165]\n",
      " [  464    66    48 13174   331   245]\n",
      " [   78    59    27   421 10291  1051]\n",
      " [   13    32     0     1   166  3531]]\n",
      "Recall for Each Class:\n",
      "Class 0: 0.9411\n",
      "Class 1: 0.9574\n",
      "Class 2: 0.6858\n",
      "Class 3: 0.9195\n",
      "Class 4: 0.8628\n",
      "Class 5: 0.9434\n",
      "Accuracy for class label  0  is:  0.9411473461843147\n",
      "Accuracy for class label  1  is:  0.9574377587478025\n",
      "Accuracy for class label  2  is:  0.6858432688968631\n",
      "Accuracy for class label  3  is:  0.9194584031267449\n",
      "Accuracy for class label  4  is:  0.8628322293954892\n",
      "Accuracy for class label  5  is:  0.9433609404221213\n"
     ]
    }
   ],
   "source": [
    "evaluate_model(model, X_test_pd)"
   ]
  },
  {
   "cell_type": "markdown",
   "id": "33de0842",
   "metadata": {},
   "source": [
    "### Not seen improvement when using SMOTE over sampling, therefore doing ADASYN instead"
   ]
  },
  {
   "cell_type": "markdown",
   "id": "7548c475",
   "metadata": {},
   "source": [
    "## ADASYN Oversampling"
   ]
  },
  {
   "cell_type": "code",
   "execution_count": 57,
   "id": "e25ca8fd",
   "metadata": {},
   "outputs": [],
   "source": [
    "# ADASYN oversampling\n",
    "adasyn = ADASYN(random_state=25, n_neighbors=5, sampling_strategy='minority')\n",
    "\n",
    "X_train_pd_reshaped = X_train_pd.reshape(X_train_pd.shape[0], -1)\n",
    "X_train_balanced, y_train_balanced = adasyn.fit_resample(X_train_pd_reshaped, y_train)\n",
    "\n",
    "balanced_size = X_train_pd.shape[1]\n",
    "X_train_balanced = X_train_balanced.reshape(X_train_balanced.shape[0], balanced_size)\n",
    "y_train_balanced = np.array(y_train_balanced)"
   ]
  },
  {
   "cell_type": "code",
   "execution_count": 74,
   "id": "c853bb47",
   "metadata": {},
   "outputs": [
    {
     "name": "stdout",
     "output_type": "stream",
     "text": [
      "Epoch 1/10\n",
      "\u001b[1m6304/6304\u001b[0m \u001b[32m━━━━━━━━━━━━━━━━━━━━\u001b[0m\u001b[37m\u001b[0m \u001b[1m842s\u001b[0m 133ms/step - accuracy: 0.7601 - loss: 0.6755 - val_accuracy: 0.9176 - val_loss: 0.1886\n",
      "Epoch 2/10\n",
      "\u001b[1m6304/6304\u001b[0m \u001b[32m━━━━━━━━━━━━━━━━━━━━\u001b[0m\u001b[37m\u001b[0m \u001b[1m823s\u001b[0m 131ms/step - accuracy: 0.8956 - loss: 0.2680 - val_accuracy: 0.9227 - val_loss: 0.1651\n",
      "Epoch 3/10\n",
      "\u001b[1m6304/6304\u001b[0m \u001b[32m━━━━━━━━━━━━━━━━━━━━\u001b[0m\u001b[37m\u001b[0m \u001b[1m815s\u001b[0m 129ms/step - accuracy: 0.9092 - loss: 0.2236 - val_accuracy: 0.9244 - val_loss: 0.1553\n",
      "Epoch 4/10\n",
      "\u001b[1m6304/6304\u001b[0m \u001b[32m━━━━━━━━━━━━━━━━━━━━\u001b[0m\u001b[37m\u001b[0m \u001b[1m822s\u001b[0m 130ms/step - accuracy: 0.9165 - loss: 0.1972 - val_accuracy: 0.9112 - val_loss: 0.1922\n",
      "Epoch 5/10\n",
      "\u001b[1m6304/6304\u001b[0m \u001b[32m━━━━━━━━━━━━━━━━━━━━\u001b[0m\u001b[37m\u001b[0m \u001b[1m831s\u001b[0m 132ms/step - accuracy: 0.9231 - loss: 0.1770 - val_accuracy: 0.9199 - val_loss: 0.1714\n",
      "Epoch 6/10\n",
      "\u001b[1m6304/6304\u001b[0m \u001b[32m━━━━━━━━━━━━━━━━━━━━\u001b[0m\u001b[37m\u001b[0m \u001b[1m835s\u001b[0m 132ms/step - accuracy: 0.9275 - loss: 0.1629 - val_accuracy: 0.4654 - val_loss: 2.6479\n",
      "Epoch 7/10\n",
      "\u001b[1m6304/6304\u001b[0m \u001b[32m━━━━━━━━━━━━━━━━━━━━\u001b[0m\u001b[37m\u001b[0m \u001b[1m837s\u001b[0m 133ms/step - accuracy: 0.9305 - loss: 0.1524 - val_accuracy: 0.9182 - val_loss: 0.1834\n",
      "Epoch 8/10\n",
      "\u001b[1m6304/6304\u001b[0m \u001b[32m━━━━━━━━━━━━━━━━━━━━\u001b[0m\u001b[37m\u001b[0m \u001b[1m844s\u001b[0m 134ms/step - accuracy: 0.9345 - loss: 0.1414 - val_accuracy: 0.9121 - val_loss: 0.2190\n"
     ]
    }
   ],
   "source": [
    "model_training_history_64= model.fit(X_train_balanced, y_train_balanced, epochs=10, batch_size=64, validation_data=(X_test_pd, y_test),callbacks=[EarlyStopping(patience=5)])"
   ]
  },
  {
   "cell_type": "code",
   "execution_count": null,
   "id": "c0cbc7b5",
   "metadata": {},
   "outputs": [],
   "source": [
    "model.fit(X_train_balanced, y_train_balanced, epochs=3, batch_size=64, validation_data=(X_test_pd, y_test),callbacks=[EarlyStopping(patience=5)])"
   ]
  },
  {
   "cell_type": "code",
   "execution_count": null,
   "id": "fa2373c0",
   "metadata": {},
   "outputs": [],
   "source": [
    "model.save('ADASYNbalanced_model_epoch3_64.keras')"
   ]
  },
  {
   "cell_type": "code",
   "execution_count": null,
   "id": "47f1e824",
   "metadata": {},
   "outputs": [],
   "source": [
    "evaluate_model(model, X_test_pd)"
   ]
  },
  {
   "cell_type": "markdown",
   "id": "917a38b1",
   "metadata": {},
   "source": [
    "## Random OverSampling"
   ]
  },
  {
   "cell_type": "code",
   "execution_count": 36,
   "id": "76576d47",
   "metadata": {},
   "outputs": [],
   "source": [
    "ros = RandomOverSampler(random_state=25)\n",
    "\n",
    "X_train_pd_reshaped = X_train_pd.reshape(X_train_pd.shape[0], -1)\n",
    "X_train_balanced, y_train_balanced = ros.fit_resample(X_train_pd_reshaped, y_train)\n",
    "\n",
    "balanced_size = X_train_pd.shape[1]\n",
    "X_train_balanced = X_train_balanced.reshape(X_train_balanced.shape[0], balanced_size)\n",
    "y_train_balanced = np.array(y_train_balanced)"
   ]
  },
  {
   "cell_type": "code",
   "execution_count": 37,
   "id": "91a04236",
   "metadata": {
    "scrolled": true
   },
   "outputs": [
    {
     "data": {
      "text/plain": [
       "634788"
      ]
     },
     "execution_count": 37,
     "metadata": {},
     "output_type": "execute_result"
    }
   ],
   "source": [
    "len(y_train_balanced)"
   ]
  },
  {
   "cell_type": "code",
   "execution_count": 38,
   "id": "655f3e19",
   "metadata": {},
   "outputs": [
    {
     "name": "stdout",
     "output_type": "stream",
     "text": [
      "Label 0: 105798 rows\n",
      "Label 1: 105798 rows\n",
      "Label 2: 105798 rows\n",
      "Label 3: 105798 rows\n",
      "Label 4: 105798 rows\n",
      "Label 5: 105798 rows\n"
     ]
    }
   ],
   "source": [
    "unique_labels, label_counts = np.unique(y_train_balanced, return_counts=True)\n",
    "for label, count in zip(unique_labels, label_counts):\n",
    "    print(f\"Label {label}: {count} rows\")"
   ]
  },
  {
   "cell_type": "code",
   "execution_count": 85,
   "id": "ab67178c",
   "metadata": {},
   "outputs": [
    {
     "name": "stdout",
     "output_type": "stream",
     "text": [
      "Epoch 1/10\n",
      "\u001b[1m9919/9919\u001b[0m \u001b[32m━━━━━━━━━━━━━━━━━━━━\u001b[0m\u001b[37m\u001b[0m \u001b[1m1329s\u001b[0m 134ms/step - accuracy: 0.8538 - loss: 0.4088 - val_accuracy: 0.9281 - val_loss: 0.1513\n",
      "Epoch 2/10\n",
      "\u001b[1m9919/9919\u001b[0m \u001b[32m━━━━━━━━━━━━━━━━━━━━\u001b[0m\u001b[37m\u001b[0m \u001b[1m1433s\u001b[0m 144ms/step - accuracy: 0.9453 - loss: 0.1378 - val_accuracy: 0.9298 - val_loss: 0.1499\n",
      "Epoch 3/10\n",
      "\u001b[1m9919/9919\u001b[0m \u001b[32m━━━━━━━━━━━━━━━━━━━━\u001b[0m\u001b[37m\u001b[0m \u001b[1m1338s\u001b[0m 135ms/step - accuracy: 0.9497 - loss: 0.1235 - val_accuracy: 0.9306 - val_loss: 0.1546\n",
      "Epoch 4/10\n",
      "\u001b[1m9919/9919\u001b[0m \u001b[32m━━━━━━━━━━━━━━━━━━━━\u001b[0m\u001b[37m\u001b[0m \u001b[1m1350s\u001b[0m 136ms/step - accuracy: 0.9522 - loss: 0.1154 - val_accuracy: 0.9300 - val_loss: 0.1668\n",
      "Epoch 5/10\n",
      "\u001b[1m9919/9919\u001b[0m \u001b[32m━━━━━━━━━━━━━━━━━━━━\u001b[0m\u001b[37m\u001b[0m \u001b[1m1377s\u001b[0m 139ms/step - accuracy: 0.9534 - loss: 0.1102 - val_accuracy: 0.9297 - val_loss: 0.1817\n",
      "Epoch 6/10\n",
      "\u001b[1m9919/9919\u001b[0m \u001b[32m━━━━━━━━━━━━━━━━━━━━\u001b[0m\u001b[37m\u001b[0m \u001b[1m1393s\u001b[0m 140ms/step - accuracy: 0.9550 - loss: 0.1073 - val_accuracy: 0.9293 - val_loss: 0.2000\n",
      "Epoch 7/10\n",
      "\u001b[1m9919/9919\u001b[0m \u001b[32m━━━━━━━━━━━━━━━━━━━━\u001b[0m\u001b[37m\u001b[0m \u001b[1m1413s\u001b[0m 142ms/step - accuracy: 0.9560 - loss: 0.1041 - val_accuracy: 0.9289 - val_loss: 0.2219\n"
     ]
    }
   ],
   "source": [
    "model_training_history_ROS= model.fit(X_train_balanced, y_train_balanced, epochs=10, batch_size=64, validation_data=(X_test_pd, y_test),callbacks=[EarlyStopping(patience=5)])"
   ]
  },
  {
   "cell_type": "markdown",
   "id": "34df643a",
   "metadata": {},
   "source": [
    "From above cell, epoch  3 got a better accuracy, Therefore, fitting/re-training the model with epoch3 for later predictions"
   ]
  },
  {
   "cell_type": "code",
   "execution_count": 40,
   "id": "80abefe3",
   "metadata": {},
   "outputs": [
    {
     "name": "stdout",
     "output_type": "stream",
     "text": [
      "Epoch 1/3\n",
      "\u001b[1m9919/9919\u001b[0m \u001b[32m━━━━━━━━━━━━━━━━━━━━\u001b[0m\u001b[37m\u001b[0m \u001b[1m1315s\u001b[0m 132ms/step - accuracy: 0.8506 - loss: 0.4203 - val_accuracy: 0.9279 - val_loss: 0.1517\n",
      "Epoch 2/3\n",
      "\u001b[1m9919/9919\u001b[0m \u001b[32m━━━━━━━━━━━━━━━━━━━━\u001b[0m\u001b[37m\u001b[0m \u001b[1m1252s\u001b[0m 126ms/step - accuracy: 0.9444 - loss: 0.1400 - val_accuracy: 0.9297 - val_loss: 0.1502\n",
      "Epoch 3/3\n",
      "\u001b[1m9919/9919\u001b[0m \u001b[32m━━━━━━━━━━━━━━━━━━━━\u001b[0m\u001b[37m\u001b[0m \u001b[1m1210s\u001b[0m 122ms/step - accuracy: 0.9494 - loss: 0.1238 - val_accuracy: 0.9308 - val_loss: 0.1628\n"
     ]
    },
    {
     "data": {
      "text/plain": [
       "<keras.src.callbacks.history.History at 0x1f646179bb0>"
      ]
     },
     "execution_count": 40,
     "metadata": {},
     "output_type": "execute_result"
    }
   ],
   "source": [
    "model.fit(X_train_balanced, y_train_balanced, epochs=3, batch_size=64, validation_data=(X_test_pd, y_test),callbacks=[EarlyStopping(patience=5)])"
   ]
  },
  {
   "cell_type": "code",
   "execution_count": 41,
   "id": "7411312b",
   "metadata": {},
   "outputs": [],
   "source": [
    "model.save('ROSbalanced_model_epoch3_64.keras')"
   ]
  },
  {
   "cell_type": "code",
   "execution_count": 46,
   "id": "5de0f719",
   "metadata": {},
   "outputs": [
    {
     "name": "stdout",
     "output_type": "stream",
     "text": [
      "\u001b[1m3257/3257\u001b[0m \u001b[32m━━━━━━━━━━━━━━━━━━━━\u001b[0m\u001b[37m\u001b[0m \u001b[1m42s\u001b[0m 13ms/step\n",
      "Test Accuracy: 0.9308\n",
      "F1-Score: 0.9330\n",
      "Confusion Matrix:\n",
      "[[28689    56    82   828   592    49]\n",
      " [  112 31875  2694   155    73   357]\n",
      " [   54    72  8443    40    12    18]\n",
      " [   82    38    23 13743   426    16]\n",
      " [   25    28    18   263 10560  1033]\n",
      " [    2     8     2     2    46  3683]]\n",
      "Recall for Each Class:\n",
      "Class 0: 0.9470\n",
      "Class 1: 0.9038\n",
      "Class 2: 0.9773\n",
      "Class 3: 0.9592\n",
      "Class 4: 0.8854\n",
      "Class 5: 0.9840\n",
      "Accuracy for class label  0  is:  0.9469566939529971\n",
      "Accuracy for class label  1  is:  0.9038450632337095\n",
      "Accuracy for class label  2  is:  0.9773121889107536\n",
      "Accuracy for class label  3  is:  0.9591708542713567\n",
      "Accuracy for class label  4  is:  0.8853860987675023\n",
      "Accuracy for class label  5  is:  0.9839700774779588\n"
     ]
    }
   ],
   "source": [
    "evaluate_model(model, X_test_pd)"
   ]
  },
  {
   "cell_type": "markdown",
   "id": "e9280ec6",
   "metadata": {},
   "source": [
    "Comparing these results (model trained with balanced data) with other models results (trained with unbalanced data), indicates an improvement on model capabilities to predict all classes accurate.Balancing the dataset can lead to more stable performance across all classes, particularly for minority classes like Class 5 in this scenario. \n",
    "This results indicates the importance of dataset balance in classification tasks to avoid biases towards majority classes and achieve better overall model performance."
   ]
  },
  {
   "cell_type": "code",
   "execution_count": null,
   "id": "87936b7a",
   "metadata": {},
   "outputs": [],
   "source": []
  },
  {
   "cell_type": "code",
   "execution_count": null,
   "id": "40b8c0ef",
   "metadata": {},
   "outputs": [],
   "source": []
  },
  {
   "cell_type": "code",
   "execution_count": null,
   "id": "b5f5988a",
   "metadata": {},
   "outputs": [],
   "source": []
  },
  {
   "cell_type": "code",
   "execution_count": null,
   "id": "b8af45d9",
   "metadata": {},
   "outputs": [],
   "source": []
  },
  {
   "cell_type": "markdown",
   "id": "9aba50c2",
   "metadata": {},
   "source": [
    "# These are for previous clean_data "
   ]
  },
  {
   "cell_type": "code",
   "execution_count": 27,
   "id": "37fe990b",
   "metadata": {},
   "outputs": [
    {
     "data": {
      "text/html": [
       "<pre style=\"white-space:pre;overflow-x:auto;line-height:normal;font-family:Menlo,'DejaVu Sans Mono',consolas,'Courier New',monospace\"><span style=\"font-weight: bold\">Model: \"sequential_1\"</span>\n",
       "</pre>\n"
      ],
      "text/plain": [
       "\u001b[1mModel: \"sequential_1\"\u001b[0m\n"
      ]
     },
     "metadata": {},
     "output_type": "display_data"
    },
    {
     "data": {
      "text/html": [
       "<pre style=\"white-space:pre;overflow-x:auto;line-height:normal;font-family:Menlo,'DejaVu Sans Mono',consolas,'Courier New',monospace\">┏━━━━━━━━━━━━━━━━━━━━━━━━━━━━━━━━━┳━━━━━━━━━━━━━━━━━━━━━━━━┳━━━━━━━━━━━━━━━┓\n",
       "┃<span style=\"font-weight: bold\"> Layer (type)                    </span>┃<span style=\"font-weight: bold\"> Output Shape           </span>┃<span style=\"font-weight: bold\">       Param # </span>┃\n",
       "┡━━━━━━━━━━━━━━━━━━━━━━━━━━━━━━━━━╇━━━━━━━━━━━━━━━━━━━━━━━━╇━━━━━━━━━━━━━━━┩\n",
       "│ embedding_1 (<span style=\"color: #0087ff; text-decoration-color: #0087ff\">Embedding</span>)         │ (<span style=\"color: #00d7ff; text-decoration-color: #00d7ff\">None</span>, <span style=\"color: #00af00; text-decoration-color: #00af00\">48</span>, <span style=\"color: #00af00; text-decoration-color: #00af00\">100</span>)        │    <span style=\"color: #00af00; text-decoration-color: #00af00\">10,000,000</span> │\n",
       "├─────────────────────────────────┼────────────────────────┼───────────────┤\n",
       "│ bidirectional_1 (<span style=\"color: #0087ff; text-decoration-color: #0087ff\">Bidirectional</span>) │ (<span style=\"color: #00d7ff; text-decoration-color: #00d7ff\">None</span>, <span style=\"color: #00af00; text-decoration-color: #00af00\">256</span>)            │       <span style=\"color: #00af00; text-decoration-color: #00af00\">234,496</span> │\n",
       "├─────────────────────────────────┼────────────────────────┼───────────────┤\n",
       "│ batch_normalization_1           │ (<span style=\"color: #00d7ff; text-decoration-color: #00d7ff\">None</span>, <span style=\"color: #00af00; text-decoration-color: #00af00\">256</span>)            │         <span style=\"color: #00af00; text-decoration-color: #00af00\">1,024</span> │\n",
       "│ (<span style=\"color: #0087ff; text-decoration-color: #0087ff\">BatchNormalization</span>)            │                        │               │\n",
       "├─────────────────────────────────┼────────────────────────┼───────────────┤\n",
       "│ dropout_2 (<span style=\"color: #0087ff; text-decoration-color: #0087ff\">Dropout</span>)             │ (<span style=\"color: #00d7ff; text-decoration-color: #00d7ff\">None</span>, <span style=\"color: #00af00; text-decoration-color: #00af00\">256</span>)            │             <span style=\"color: #00af00; text-decoration-color: #00af00\">0</span> │\n",
       "├─────────────────────────────────┼────────────────────────┼───────────────┤\n",
       "│ dense_2 (<span style=\"color: #0087ff; text-decoration-color: #0087ff\">Dense</span>)                 │ (<span style=\"color: #00d7ff; text-decoration-color: #00d7ff\">None</span>, <span style=\"color: #00af00; text-decoration-color: #00af00\">64</span>)             │        <span style=\"color: #00af00; text-decoration-color: #00af00\">16,448</span> │\n",
       "├─────────────────────────────────┼────────────────────────┼───────────────┤\n",
       "│ dropout_3 (<span style=\"color: #0087ff; text-decoration-color: #0087ff\">Dropout</span>)             │ (<span style=\"color: #00d7ff; text-decoration-color: #00d7ff\">None</span>, <span style=\"color: #00af00; text-decoration-color: #00af00\">64</span>)             │             <span style=\"color: #00af00; text-decoration-color: #00af00\">0</span> │\n",
       "├─────────────────────────────────┼────────────────────────┼───────────────┤\n",
       "│ dense_3 (<span style=\"color: #0087ff; text-decoration-color: #0087ff\">Dense</span>)                 │ (<span style=\"color: #00d7ff; text-decoration-color: #00d7ff\">None</span>, <span style=\"color: #00af00; text-decoration-color: #00af00\">6</span>)              │           <span style=\"color: #00af00; text-decoration-color: #00af00\">390</span> │\n",
       "└─────────────────────────────────┴────────────────────────┴───────────────┘\n",
       "</pre>\n"
      ],
      "text/plain": [
       "┏━━━━━━━━━━━━━━━━━━━━━━━━━━━━━━━━━┳━━━━━━━━━━━━━━━━━━━━━━━━┳━━━━━━━━━━━━━━━┓\n",
       "┃\u001b[1m \u001b[0m\u001b[1mLayer (type)                   \u001b[0m\u001b[1m \u001b[0m┃\u001b[1m \u001b[0m\u001b[1mOutput Shape          \u001b[0m\u001b[1m \u001b[0m┃\u001b[1m \u001b[0m\u001b[1m      Param #\u001b[0m\u001b[1m \u001b[0m┃\n",
       "┡━━━━━━━━━━━━━━━━━━━━━━━━━━━━━━━━━╇━━━━━━━━━━━━━━━━━━━━━━━━╇━━━━━━━━━━━━━━━┩\n",
       "│ embedding_1 (\u001b[38;5;33mEmbedding\u001b[0m)         │ (\u001b[38;5;45mNone\u001b[0m, \u001b[38;5;34m48\u001b[0m, \u001b[38;5;34m100\u001b[0m)        │    \u001b[38;5;34m10,000,000\u001b[0m │\n",
       "├─────────────────────────────────┼────────────────────────┼───────────────┤\n",
       "│ bidirectional_1 (\u001b[38;5;33mBidirectional\u001b[0m) │ (\u001b[38;5;45mNone\u001b[0m, \u001b[38;5;34m256\u001b[0m)            │       \u001b[38;5;34m234,496\u001b[0m │\n",
       "├─────────────────────────────────┼────────────────────────┼───────────────┤\n",
       "│ batch_normalization_1           │ (\u001b[38;5;45mNone\u001b[0m, \u001b[38;5;34m256\u001b[0m)            │         \u001b[38;5;34m1,024\u001b[0m │\n",
       "│ (\u001b[38;5;33mBatchNormalization\u001b[0m)            │                        │               │\n",
       "├─────────────────────────────────┼────────────────────────┼───────────────┤\n",
       "│ dropout_2 (\u001b[38;5;33mDropout\u001b[0m)             │ (\u001b[38;5;45mNone\u001b[0m, \u001b[38;5;34m256\u001b[0m)            │             \u001b[38;5;34m0\u001b[0m │\n",
       "├─────────────────────────────────┼────────────────────────┼───────────────┤\n",
       "│ dense_2 (\u001b[38;5;33mDense\u001b[0m)                 │ (\u001b[38;5;45mNone\u001b[0m, \u001b[38;5;34m64\u001b[0m)             │        \u001b[38;5;34m16,448\u001b[0m │\n",
       "├─────────────────────────────────┼────────────────────────┼───────────────┤\n",
       "│ dropout_3 (\u001b[38;5;33mDropout\u001b[0m)             │ (\u001b[38;5;45mNone\u001b[0m, \u001b[38;5;34m64\u001b[0m)             │             \u001b[38;5;34m0\u001b[0m │\n",
       "├─────────────────────────────────┼────────────────────────┼───────────────┤\n",
       "│ dense_3 (\u001b[38;5;33mDense\u001b[0m)                 │ (\u001b[38;5;45mNone\u001b[0m, \u001b[38;5;34m6\u001b[0m)              │           \u001b[38;5;34m390\u001b[0m │\n",
       "└─────────────────────────────────┴────────────────────────┴───────────────┘\n"
      ]
     },
     "metadata": {},
     "output_type": "display_data"
    },
    {
     "data": {
      "text/html": [
       "<pre style=\"white-space:pre;overflow-x:auto;line-height:normal;font-family:Menlo,'DejaVu Sans Mono',consolas,'Courier New',monospace\"><span style=\"font-weight: bold\"> Total params: </span><span style=\"color: #00af00; text-decoration-color: #00af00\">10,252,358</span> (39.11 MB)\n",
       "</pre>\n"
      ],
      "text/plain": [
       "\u001b[1m Total params: \u001b[0m\u001b[38;5;34m10,252,358\u001b[0m (39.11 MB)\n"
      ]
     },
     "metadata": {},
     "output_type": "display_data"
    },
    {
     "data": {
      "text/html": [
       "<pre style=\"white-space:pre;overflow-x:auto;line-height:normal;font-family:Menlo,'DejaVu Sans Mono',consolas,'Courier New',monospace\"><span style=\"font-weight: bold\"> Trainable params: </span><span style=\"color: #00af00; text-decoration-color: #00af00\">10,251,846</span> (39.11 MB)\n",
       "</pre>\n"
      ],
      "text/plain": [
       "\u001b[1m Trainable params: \u001b[0m\u001b[38;5;34m10,251,846\u001b[0m (39.11 MB)\n"
      ]
     },
     "metadata": {},
     "output_type": "display_data"
    },
    {
     "data": {
      "text/html": [
       "<pre style=\"white-space:pre;overflow-x:auto;line-height:normal;font-family:Menlo,'DejaVu Sans Mono',consolas,'Courier New',monospace\"><span style=\"font-weight: bold\"> Non-trainable params: </span><span style=\"color: #00af00; text-decoration-color: #00af00\">512</span> (2.00 KB)\n",
       "</pre>\n"
      ],
      "text/plain": [
       "\u001b[1m Non-trainable params: \u001b[0m\u001b[38;5;34m512\u001b[0m (2.00 KB)\n"
      ]
     },
     "metadata": {},
     "output_type": "display_data"
    },
    {
     "name": "stdout",
     "output_type": "stream",
     "text": [
      "None\n"
     ]
    }
   ],
   "source": [
    "model.compile(optimizer=Adam(learning_rate=0.001), metrics=['accuracy'], loss=SparseCategoricalCrossentropy())\n",
    "\n",
    "print(model.summary())"
   ]
  },
  {
   "cell_type": "code",
   "execution_count": 28,
   "id": "aa23644f-dd1e-4aa8-8d1a-fb0fdd354242",
   "metadata": {
    "tags": []
   },
   "outputs": [
    {
     "name": "stdout",
     "output_type": "stream",
     "text": [
      "Epoch 1/10\n",
      "\u001b[1m4885/4885\u001b[0m \u001b[32m━━━━━━━━━━━━━━━━━━━━\u001b[0m\u001b[37m\u001b[0m \u001b[1m868s\u001b[0m 177ms/step - accuracy: 0.8113 - loss: 0.5105 - val_accuracy: 0.9237 - val_loss: 0.1488\n",
      "Epoch 2/10\n",
      "\u001b[1m4885/4885\u001b[0m \u001b[32m━━━━━━━━━━━━━━━━━━━━\u001b[0m\u001b[37m\u001b[0m \u001b[1m843s\u001b[0m 173ms/step - accuracy: 0.9276 - loss: 0.1435 - val_accuracy: 0.9303 - val_loss: 0.1236\n",
      "Epoch 3/10\n",
      "\u001b[1m4885/4885\u001b[0m \u001b[32m━━━━━━━━━━━━━━━━━━━━\u001b[0m\u001b[37m\u001b[0m \u001b[1m850s\u001b[0m 174ms/step - accuracy: 0.9321 - loss: 0.1273 - val_accuracy: 0.9321 - val_loss: 0.1286\n",
      "Epoch 4/10\n",
      "\u001b[1m4885/4885\u001b[0m \u001b[32m━━━━━━━━━━━━━━━━━━━━\u001b[0m\u001b[37m\u001b[0m \u001b[1m849s\u001b[0m 174ms/step - accuracy: 0.9344 - loss: 0.1172 - val_accuracy: 0.9319 - val_loss: 0.1235\n",
      "Epoch 5/10\n",
      "\u001b[1m4885/4885\u001b[0m \u001b[32m━━━━━━━━━━━━━━━━━━━━\u001b[0m\u001b[37m\u001b[0m \u001b[1m854s\u001b[0m 175ms/step - accuracy: 0.9373 - loss: 0.1075 - val_accuracy: 0.9316 - val_loss: 0.1217\n",
      "Epoch 6/10\n",
      "\u001b[1m4885/4885\u001b[0m \u001b[32m━━━━━━━━━━━━━━━━━━━━\u001b[0m\u001b[37m\u001b[0m \u001b[1m856s\u001b[0m 175ms/step - accuracy: 0.9390 - loss: 0.1017 - val_accuracy: 0.9304 - val_loss: 0.1405\n",
      "Epoch 7/10\n",
      "\u001b[1m4885/4885\u001b[0m \u001b[32m━━━━━━━━━━━━━━━━━━━━\u001b[0m\u001b[37m\u001b[0m \u001b[1m860s\u001b[0m 176ms/step - accuracy: 0.9388 - loss: 0.0997 - val_accuracy: 0.9314 - val_loss: 0.1401\n",
      "Epoch 8/10\n",
      "\u001b[1m4885/4885\u001b[0m \u001b[32m━━━━━━━━━━━━━━━━━━━━\u001b[0m\u001b[37m\u001b[0m \u001b[1m857s\u001b[0m 175ms/step - accuracy: 0.9403 - loss: 0.0967 - val_accuracy: 0.9296 - val_loss: 0.1558\n",
      "Epoch 9/10\n",
      "\u001b[1m4885/4885\u001b[0m \u001b[32m━━━━━━━━━━━━━━━━━━━━\u001b[0m\u001b[37m\u001b[0m \u001b[1m876s\u001b[0m 179ms/step - accuracy: 0.9417 - loss: 0.0940 - val_accuracy: 0.9315 - val_loss: 0.1475\n",
      "Epoch 10/10\n",
      "\u001b[1m4885/4885\u001b[0m \u001b[32m━━━━━━━━━━━━━━━━━━━━\u001b[0m\u001b[37m\u001b[0m \u001b[1m865s\u001b[0m 177ms/step - accuracy: 0.9414 - loss: 0.0925 - val_accuracy: 0.9313 - val_loss: 0.1459\n"
     ]
    }
   ],
   "source": [
    "model_training_history= model.fit(X_train_pd, y_train, epochs=10, batch_size=64, validation_data=(X_test_pd, y_test),callbacks=[EarlyStopping(patience=5)])"
   ]
  },
  {
   "cell_type": "code",
   "execution_count": 89,
   "id": "b156ab6a",
   "metadata": {},
   "outputs": [
    {
     "name": "stdout",
     "output_type": "stream",
     "text": [
      "Epoch 1/10\n",
      "\u001b[1m4885/4885\u001b[0m \u001b[32m━━━━━━━━━━━━━━━━━━━━\u001b[0m\u001b[37m\u001b[0m \u001b[1m866s\u001b[0m 177ms/step - accuracy: 0.8101 - loss: 0.5114 - val_accuracy: 0.9274 - val_loss: 0.1377\n",
      "Epoch 2/10\n",
      "\u001b[1m4885/4885\u001b[0m \u001b[32m━━━━━━━━━━━━━━━━━━━━\u001b[0m\u001b[37m\u001b[0m \u001b[1m815s\u001b[0m 167ms/step - accuracy: 0.9281 - loss: 0.1411 - val_accuracy: 0.9306 - val_loss: 0.1198\n",
      "Epoch 3/10\n",
      "\u001b[1m4885/4885\u001b[0m \u001b[32m━━━━━━━━━━━━━━━━━━━━\u001b[0m\u001b[37m\u001b[0m \u001b[1m820s\u001b[0m 168ms/step - accuracy: 0.9330 - loss: 0.1216 - val_accuracy: 0.9317 - val_loss: 0.1214\n",
      "Epoch 4/10\n",
      "\u001b[1m4885/4885\u001b[0m \u001b[32m━━━━━━━━━━━━━━━━━━━━\u001b[0m\u001b[37m\u001b[0m \u001b[1m814s\u001b[0m 167ms/step - accuracy: 0.9353 - loss: 0.1127 - val_accuracy: 0.9323 - val_loss: 0.1201\n",
      "Epoch 5/10\n",
      "\u001b[1m4885/4885\u001b[0m \u001b[32m━━━━━━━━━━━━━━━━━━━━\u001b[0m\u001b[37m\u001b[0m \u001b[1m822s\u001b[0m 168ms/step - accuracy: 0.9375 - loss: 0.1056 - val_accuracy: 0.9314 - val_loss: 0.1231\n",
      "Epoch 6/10\n",
      "\u001b[1m4885/4885\u001b[0m \u001b[32m━━━━━━━━━━━━━━━━━━━━\u001b[0m\u001b[37m\u001b[0m \u001b[1m837s\u001b[0m 171ms/step - accuracy: 0.9387 - loss: 0.1026 - val_accuracy: 0.9312 - val_loss: 0.1388\n",
      "Epoch 7/10\n",
      "\u001b[1m4885/4885\u001b[0m \u001b[32m━━━━━━━━━━━━━━━━━━━━\u001b[0m\u001b[37m\u001b[0m \u001b[1m828s\u001b[0m 170ms/step - accuracy: 0.9406 - loss: 0.0976 - val_accuracy: 0.9315 - val_loss: 0.1354\n"
     ]
    }
   ],
   "source": [
    "model1_training_history= model1.fit(X_train_pd, y_train, epochs=10, batch_size=64, validation_data=(X_test_pd, y_test),callbacks=[EarlyStopping(patience=5)])"
   ]
  },
  {
   "cell_type": "code",
   "execution_count": 42,
   "id": "6ee8fcf3",
   "metadata": {},
   "outputs": [
    {
     "name": "stdout",
     "output_type": "stream",
     "text": [
      "Model history saved to model_history.json\n"
     ]
    }
   ],
   "source": [
    "# saving model training history: \n",
    "import json\n",
    "\n",
    "# Define the file path to save the model history\n",
    "history_file_path = 'model_history.json'\n",
    "\n",
    "# Save the model history to a JSON file\n",
    "with open(history_file_path, 'w') as file:\n",
    "    json.dump(model_training_history.history, file)\n",
    "\n",
    "print(f\"Model history saved to {history_file_path}\")"
   ]
  },
  {
   "cell_type": "code",
   "execution_count": 43,
   "id": "99b07796",
   "metadata": {},
   "outputs": [],
   "source": [
    "with open(history_file_path, 'r') as file:\n",
    "    history = json.load(file)"
   ]
  },
  {
   "cell_type": "code",
   "execution_count": 39,
   "id": "c0a53204",
   "metadata": {},
   "outputs": [
    {
     "name": "stdout",
     "output_type": "stream",
     "text": [
      "Training history saved to model_training_history.pkl\n"
     ]
    }
   ],
   "source": [
    "# Extract necessary training history data\n",
    "training_loss = model_training_history.history['loss']\n",
    "training_accuracy = model_training_history.history['accuracy']\n",
    "validation_loss = model_training_history.history['val_loss']\n",
    "validation_accuracy = model_training_history.history['val_accuracy']\n",
    "\n",
    "# Create a dictionary to store the training history data\n",
    "training_history_data = {\n",
    "    'loss': training_loss,\n",
    "    'accuracy': training_accuracy,\n",
    "    'val_loss': validation_loss,\n",
    "    'val_accuracy': validation_accuracy\n",
    "}\n",
    "\n",
    "# Define the file path to save the training history\n",
    "history_file_path = 'model_training_history.pkl'\n",
    "\n",
    "# Save the training history data to a file using pickle\n",
    "with open(history_file_path, 'wb') as file:\n",
    "    pickle.dump(training_history_data, file)\n",
    "\n",
    "print(f\"Training history saved to {history_file_path}\")"
   ]
  },
  {
   "cell_type": "code",
   "execution_count": 34,
   "id": "850fdcea",
   "metadata": {},
   "outputs": [
    {
     "data": {
      "image/png": "[encoded data removed]",
      "text/plain": [
       "<Figure size 1000x600 with 1 Axes>"
      ]
     },
     "metadata": {},
     "output_type": "display_data"
    }
   ],
   "source": [
    "# Determine the best epoch (1-based index)\n",
    "best_epoch = model_training_history.history['val_accuracy'].index(max(model_training_history.history['val_accuracy'])) + 1\n",
    "\n",
    "# Create a new figure\n",
    "plt.figure(figsize=(10, 6))\n",
    "\n",
    "# Plot training and validation accuracy\n",
    "epochs = range(1, len(model_training_history.history['accuracy']) + 1)  # Generate epoch numbers starting from 1\n",
    "plt.plot(epochs, model_training_history.history['accuracy'], label='Training Accuracy', color='blue')\n",
    "plt.plot(epochs, model_training_history.history['val_accuracy'], label='Validation Accuracy', color='red')\n",
    "plt.scatter(best_epoch, model_training_history.history['val_accuracy'][best_epoch - 1], color='green', label=f'Best Epoch: {best_epoch}')\n",
    "\n",
    "plt.xlabel('Epoch')\n",
    "plt.ylabel('Accuracy')\n",
    "plt.title('Training and Validation Accuracy')\n",
    "plt.legend()\n",
    "plt.xticks(epochs)\n",
    "\n",
    "# Show the plot\n",
    "plt.tight_layout()\n",
    "plt.show()\n"
   ]
  },
  {
   "cell_type": "code",
   "execution_count": 35,
   "id": "8593da2b",
   "metadata": {},
   "outputs": [
    {
     "data": {
      "image/png": "[encoded data removed]",
      "text/plain": [
       "<Figure size 1000x600 with 1 Axes>"
      ]
     },
     "metadata": {},
     "output_type": "display_data"
    }
   ],
   "source": [
    "# Create a new figure\n",
    "plt.figure(figsize=(10, 6))\n",
    "\n",
    "# Plot training and validation loss\n",
    "epochs = range(1, len(model_training_history.history['loss']) + 1)  # Generate epoch numbers starting from 1\n",
    "plt.plot(epochs, model_training_history.history['loss'], label='Training Loss', color='blue')\n",
    "plt.plot(epochs, model_training_history.history['val_loss'], label='Validation Loss', color='red')\n",
    "plt.scatter(best_epoch, model_training_history.history['val_loss'][best_epoch - 1], color='green', label=f'Best Epoch: {best_epoch}')\n",
    "\n",
    "plt.xlabel('Epoch')\n",
    "plt.ylabel('Loss')\n",
    "plt.title('Training and Validation Loss')\n",
    "plt.legend()\n",
    "\n",
    "# Set x-axis ticks to show every epoch number\n",
    "plt.xticks(epochs)\n",
    "\n",
    "# Show the plot\n",
    "plt.tight_layout()\n",
    "plt.show()\n"
   ]
  }
 ],
 "metadata": {
  "dca-init": "true",
  "kernelspec": {
   "display_name": "Python 3 (ipykernel)",
   "language": "python",
   "name": "python3"
  },
  "language_info": {
   "codemirror_mode": {
    "name": "ipython",
    "version": 3
   },
   "file_extension": ".py",
   "mimetype": "text/x-python",
   "name": "python",
   "nbconvert_exporter": "python",
   "pygments_lexer": "ipython3",
   "version": "3.9.13"
  }
 },
 "nbformat": 4,
 "nbformat_minor": 5
}
